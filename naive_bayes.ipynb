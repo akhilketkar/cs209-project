{
 "metadata": {
  "name": "",
  "signature": "sha256:4c3c2531595586723352e960c487d4ab7c7b89946ad8fec8eb0ad74be0e96f7c"
 },
 "nbformat": 3,
 "nbformat_minor": 0,
 "worksheets": [
  {
   "cells": [
    {
     "cell_type": "code",
     "collapsed": false,
     "input": [
      "import numpy as np\n",
      "import pandas as pd\n",
      "from collections import OrderedDict\n",
      "import nltk.classify.util\n",
      "from nltk.classify import NaiveBayesClassifier\n",
      "from nltk.corpus import stopwords\n",
      "from nltk.probability import FreqDist\n",
      "from nltk.corpus import movie_reviews\n",
      "import re\n",
      "import zipfile\n",
      "import json \n",
      "\n",
      "import sklearn.cross_validation"
     ],
     "language": "python",
     "metadata": {},
     "outputs": [],
     "prompt_number": 43
    },
    {
     "cell_type": "code",
     "collapsed": false,
     "input": [
      "# Function to make dictionary of (word, True)\n",
      "def word_feats(words):\n",
      "    return dict([(word, True) for word in words])\n",
      "\n",
      "# Get negative and positive words\n",
      "negids = movie_reviews.fileids('neg')\n",
      "posids = movie_reviews.fileids('pos')\n",
      "\n",
      "# Return dictoionary for each word\n",
      "negfeats = [(word_feats(movie_reviews.words(fileids=[f])), \n",
      "             'neg') for f in negids]\n",
      "posfeats = [(word_feats(movie_reviews.words(fileids=[f])), \n",
      "             'pos') for f in posids]\n",
      "\n",
      "# Make training and test cutoff\n",
      "negcutoff = len(negfeats)*3/4\n",
      "poscutoff = len(posfeats)*3/4\n",
      " \n",
      "# Split in to training and test set\n",
      "trainfeats = negfeats[:negcutoff] + posfeats[:poscutoff]\n",
      "testfeats = negfeats[negcutoff:] + posfeats[poscutoff:]\n",
      "print 'train on %d instances, test on %d instances' % (len(trainfeats), len(testfeats))\n",
      "\n",
      "# Train classifier\n",
      "classifier = NaiveBayesClassifier.train(trainfeats)\n",
      "print 'accuracy:', nltk.classify.util.accuracy(classifier, testfeats)\n",
      "classifier.show_most_informative_features()"
     ],
     "language": "python",
     "metadata": {},
     "outputs": [
      {
       "output_type": "stream",
       "stream": "stdout",
       "text": [
        "train on 1500 instances, test on 500 instances\n",
        "accuracy:"
       ]
      },
      {
       "output_type": "stream",
       "stream": "stdout",
       "text": [
        " 0.728\n",
        "Most Informative Features\n",
        "             magnificent = True              pos : neg    =     15.0 : 1.0"
       ]
      },
      {
       "output_type": "stream",
       "stream": "stdout",
       "text": [
        "\n",
        "             outstanding = True              pos : neg    =     13.6 : 1.0\n",
        "               insulting = True              neg : pos    =     13.0 : 1.0\n",
        "              vulnerable = True              pos : neg    =     12.3 : 1.0\n",
        "               ludicrous = True              neg : pos    =     11.8 : 1.0\n",
        "                  avoids = True              pos : neg    =     11.7 : 1.0\n",
        "             uninvolving = True              neg : pos    =     11.7 : 1.0\n",
        "              astounding = True              pos : neg    =     10.3 : 1.0\n",
        "             fascination = True              pos : neg    =     10.3 : 1.0\n",
        "                 idiotic = True              neg : pos    =      9.8 : 1.0\n"
       ]
      }
     ],
     "prompt_number": 44
    },
    {
     "cell_type": "code",
     "collapsed": false,
     "input": [
      "top15_important = classifier.most_informative_features()[:15]"
     ],
     "language": "python",
     "metadata": {},
     "outputs": [],
     "prompt_number": 167
    },
    {
     "cell_type": "code",
     "collapsed": false,
     "input": [
      "# Stop words\n",
      "#def find_stop(sent):\n",
      "#    stop = stopwords.words('english')\n",
      "#    documents = [([w for w in mr.words(i) if w.lower() \n",
      "#               not in stop and w.lower() not in string.punctuation], i.split('/')[0]) for i in mr.fileids()]"
     ],
     "language": "python",
     "metadata": {},
     "outputs": [],
     "prompt_number": 327
    },
    {
     "cell_type": "code",
     "collapsed": false,
     "input": [
      "review_DF = pd.read_csv('/Users/pday/Harvard/AC209/Project/Reviews_2014.csv')\n",
      "movie_names = review_DF.Name.values\n",
      "#review_DF.head()\n",
      "\n",
      "#hob = Review_Finder('The Hobbit: The Battle of the Five Armies')\n",
      "#data = Review_Finder('Transformers: Age of Extinction')\n",
      "#print movie_names[0]\n",
      "movie_score = []\n",
      "count = 0\n",
      "for x in movie_names:\n",
      "    #name = \"'\" + x + \"'\"\n",
      "    data = Review_Finder(x)\n",
      "    data2 = assign_reviews(data)\n",
      "    movie_score.append(score_review(data2))\n",
      "    print '###########', '\\n', x, movie_score[count], '\\n', '###########', '\\n'\n",
      "    count +=1  "
     ],
     "language": "python",
     "metadata": {},
     "outputs": [
      {
       "output_type": "stream",
       "stream": "stdout",
       "text": [
        "2\n",
        "No movie review present\n",
        "Failed in assigment of review function\n",
        "'int' object has no attribute 'iterrows'\n",
        "Failed in score review function\n",
        "'int' object has no attribute 'score'\n",
        "########### \n",
        "The Hobbit: The Battle of the Five Armies None \n",
        "########### \n",
        "\n",
        "20\n",
        "['net', 'pos', 'neg', 'neg', 'neg', 'pos', 'neg', 'pos', 'neg', 'neg', 'neg', 'neg', 'neg', 'neg', 'neg', 'pos', 'neg', 'pos', 'pos', 'pos']"
       ]
      },
      {
       "output_type": "stream",
       "stream": "stdout",
       "text": [
        "\n",
        "########### \n",
        "Transformers: Age of Extinction (0.6, 'negative') \n",
        "########### \n",
        "\n",
        "20\n",
        "['pos', 'net', 'pos', 'pos', 'pos', 'neg', 'pos', 'neg', 'neg', 'pos', 'pos', 'pos', 'net', 'pos', 'pos', 'pos', 'pos', 'pos', 'pos', 'pos']"
       ]
      },
      {
       "output_type": "stream",
       "stream": "stdout",
       "text": [
        "\n",
        "########### \n",
        "X-Men: Days of Future Past (0.75, 'positive') \n",
        "########### \n",
        "\n",
        "20\n",
        "['neg', 'pos', 'pos', 'pos', 'pos', 'pos', 'pos', 'neg', 'neg', 'neg', 'neg', 'pos', 'pos', 'net', 'pos', 'neg', 'pos', 'pos', 'pos', 'pos']"
       ]
      },
      {
       "output_type": "stream",
       "stream": "stdout",
       "text": [
        "\n",
        "########### \n",
        "The Amazing Spider-Man 2 (0.65, 'positive') \n",
        "########### \n",
        "\n",
        "20\n",
        "['pos', 'pos', 'pos', 'net', 'pos', 'pos', 'pos', 'neg', 'pos', 'pos', 'pos', 'pos', 'neg', 'pos', 'pos', 'pos', 'neg', 'pos', 'pos', 'net']"
       ]
      },
      {
       "output_type": "stream",
       "stream": "stdout",
       "text": [
        "\n",
        "########### \n",
        "Maleficent (0.75, 'positive') \n",
        "########### \n",
        "\n",
        "20\n",
        "['pos', 'pos', 'pos', 'pos', 'pos', 'pos', 'pos', 'pos', 'pos', 'neg', 'net', 'pos', 'neg', 'net', 'pos', 'pos', 'neg', 'pos', 'pos', 'pos']"
       ]
      },
      {
       "output_type": "stream",
       "stream": "stdout",
       "text": [
        "\n",
        "########### \n",
        "Edge of Tomorrow (0.75, 'positive') \n",
        "########### \n",
        "\n",
        "20\n",
        "['net', 'pos', 'pos', 'pos', 'neg', 'pos', 'pos', 'neg', 'pos', 'pos', 'pos', 'pos', 'neg', 'pos', 'pos', 'pos', 'pos', 'pos', 'pos', 'neg']"
       ]
      },
      {
       "output_type": "stream",
       "stream": "stdout",
       "text": [
        "\n",
        "########### \n",
        "Guardians of the Galaxy (0.75, 'positive') \n",
        "########### \n",
        "\n",
        "20\n",
        "['pos', 'pos', 'pos', 'pos', 'pos', 'neg', 'pos', 'pos', 'pos', 'net', 'pos', 'neg', 'net', 'pos', 'net', 'pos', 'pos', 'pos', 'pos', 'pos']"
       ]
      },
      {
       "output_type": "stream",
       "stream": "stdout",
       "text": [
        "\n",
        "########### \n",
        "Captain America: The Winter Soldier (0.75, 'positive') \n",
        "########### \n",
        "\n",
        "20\n",
        "['pos', 'pos', 'pos', 'pos', 'net', 'pos', 'pos', 'neg', 'neg', 'neg', 'pos', 'pos', 'pos', 'pos', 'pos', 'pos', 'neg', 'pos', 'pos', 'pos']"
       ]
      },
      {
       "output_type": "stream",
       "stream": "stdout",
       "text": [
        "\n",
        "########### \n",
        "Dawn of the Planet of the Apes (0.75, 'positive') \n",
        "########### \n",
        "\n",
        "20\n",
        "['pos', 'pos', 'pos', 'neg', 'pos', 'pos', 'net', 'pos', 'net', 'neg', 'neg', 'pos', 'pos', 'pos', 'pos', 'pos', 'pos', 'pos', 'pos', 'pos']"
       ]
      },
      {
       "output_type": "stream",
       "stream": "stdout",
       "text": [
        "\n",
        "########### \n",
        "Big Hero 6 (0.75, 'positive') \n",
        "########### \n",
        "\n",
        "20\n",
        "['pos', 'net', 'neg', 'pos', 'pos', 'pos', 'net', 'pos', 'pos', 'net', 'pos', 'pos', 'pos', 'pos', 'pos', 'neg', 'pos', 'pos', 'pos', 'net']"
       ]
      },
      {
       "output_type": "stream",
       "stream": "stdout",
       "text": [
        "\n",
        "########### \n",
        "Interstellar (0.7, 'positive') \n",
        "########### \n",
        "\n",
        "20\n",
        "['neg', 'pos', 'pos', 'pos', 'pos', 'pos', 'pos', 'pos', 'neg', 'pos', 'pos', 'pos', 'pos', 'neg', 'neg', 'pos', 'pos', 'pos', 'pos', 'pos']"
       ]
      },
      {
       "output_type": "stream",
       "stream": "stdout",
       "text": [
        "\n",
        "########### \n",
        "Godzilla (0.8, 'positive') \n",
        "########### \n",
        "\n",
        "20\n",
        "['pos', 'pos', 'pos', 'pos', 'pos', 'pos', 'net', 'pos', 'pos', 'pos', 'pos', 'neg', 'pos', 'neg', 'net', 'pos', 'pos', 'pos', 'pos', 'pos']"
       ]
      },
      {
       "output_type": "stream",
       "stream": "stdout",
       "text": [
        "\n",
        "########### \n",
        "How to Train Your Dragon 2 (0.8, 'positive') \n",
        "########### \n",
        "\n",
        "20\n",
        "['pos', 'pos', 'pos', 'pos', 'pos', 'neg', 'pos', 'pos', 'pos', 'neg', 'pos', 'pos', 'pos', 'pos', 'pos', 'pos', 'pos', 'pos', 'pos', 'pos']"
       ]
      },
      {
       "output_type": "stream",
       "stream": "stdout",
       "text": [
        "\n",
        "########### \n",
        "Mr. Peabody & Sherman (0.9, 'positive') \n",
        "########### \n",
        "\n",
        "20\n",
        "['net', 'pos', 'neg', 'pos', 'pos', 'pos', 'pos', 'pos', 'pos', 'net', 'net', 'pos', 'pos', 'pos', 'pos', 'pos', 'pos', 'neg', 'pos', 'pos']"
       ]
      },
      {
       "output_type": "stream",
       "stream": "stdout",
       "text": [
        "\n",
        "########### \n",
        "Rio 2 (0.75, 'positive') \n",
        "########### \n",
        "\n",
        "20\n",
        "['pos', 'pos', 'pos', 'neg', 'pos', 'pos', 'pos', 'pos', 'pos', 'pos', 'neg', 'pos', 'pos', 'neg', 'neg', 'pos', 'pos', 'pos', 'pos', 'pos']"
       ]
      },
      {
       "output_type": "stream",
       "stream": "stdout",
       "text": [
        "\n",
        "########### \n",
        "Noah (0.8, 'positive') \n",
        "########### \n",
        "\n",
        "20\n",
        "['neg', 'pos', 'neg', 'neg', 'net', 'neg', 'pos', 'net', 'pos', 'pos', 'pos', 'neg', 'pos', 'neg', 'net', 'pos', 'net', 'pos', 'pos', 'neg']"
       ]
      },
      {
       "output_type": "stream",
       "stream": "stdout",
       "text": [
        "\n",
        "########### \n",
        "Teenage Mutant Ninja Turtles (0.45, 'positive') \n",
        "########### \n",
        "\n",
        "20\n",
        "['pos', 'neg', 'neg', 'pos', 'neg', 'pos', 'pos', 'pos', 'pos', 'pos', 'pos', 'pos', 'pos', 'pos', 'neg', 'pos', 'pos', 'pos', 'pos', 'pos']"
       ]
      },
      {
       "output_type": "stream",
       "stream": "stdout",
       "text": [
        "\n",
        "########### \n",
        "RoboCop (0.8, 'positive') \n",
        "########### \n",
        "\n",
        "20\n",
        "['neg', 'neg', 'pos', 'pos', 'net', 'pos', 'neg', 'pos', 'pos', 'neg', 'neg', 'pos', 'neg', 'net', 'pos', 'pos', 'neg', 'neg', 'neg', 'neg']"
       ]
      },
      {
       "output_type": "stream",
       "stream": "stdout",
       "text": [
        "\n",
        "########### \n",
        "300: Rise of an Empire (0.5, 'negative') \n",
        "########### \n",
        "\n",
        "20\n",
        "['pos', 'pos', 'pos', 'neg', 'neg', 'pos', 'pos', 'net', 'pos', 'pos', 'pos', 'pos', 'pos', 'pos', 'neg', 'pos', 'pos', 'pos', 'net', 'net']"
       ]
      },
      {
       "output_type": "stream",
       "stream": "stdout",
       "text": [
        "\n",
        "########### \n",
        "Hercules (0.7, 'positive') \n",
        "########### \n",
        "\n",
        "20\n",
        "['pos', 'pos', 'pos', 'neg', 'net', 'pos', 'neg', 'pos', 'pos', 'neg', 'pos', 'neg', 'pos', 'neg', 'neg', 'pos', 'net', 'pos', 'net', 'pos']"
       ]
      },
      {
       "output_type": "stream",
       "stream": "stdout",
       "text": [
        "\n",
        "########### \n",
        "The Expendables 3 (0.55, 'positive') \n",
        "########### \n",
        "\n",
        "20\n",
        "['pos', 'neg', 'neg', 'neg', 'pos', 'pos', 'neg', 'pos', 'pos', 'neg', 'neg', 'pos', 'pos', 'pos', 'pos', 'neg', 'pos', 'pos', 'neg', 'neg']"
       ]
      },
      {
       "output_type": "stream",
       "stream": "stdout",
       "text": [
        "\n",
        "########### \n",
        "Transcendence (0.55, 'positive') \n",
        "########### \n",
        "\n",
        "20\n",
        "['pos', 'neg', 'neg', 'pos', 'pos', 'neg', 'pos', 'pos', 'pos', 'pos', 'pos', 'neg', 'pos', 'pos', 'pos', 'pos', 'pos', 'net', 'pos', 'neg']"
       ]
      },
      {
       "output_type": "stream",
       "stream": "stdout",
       "text": [
        "\n",
        "########### \n",
        "Divergent (0.7, 'positive') \n",
        "########### \n",
        "\n",
        "20\n",
        "['pos', 'pos', 'pos', 'pos', 'neg', 'pos', 'pos', 'pos', 'pos', 'pos', 'pos', 'pos', 'net', 'pos', 'net', 'pos', 'pos', 'pos', 'net', 'pos']"
       ]
      },
      {
       "output_type": "stream",
       "stream": "stdout",
       "text": [
        "\n",
        "########### \n",
        "Fury (0.8, 'positive') \n",
        "########### \n",
        "\n",
        "20\n",
        "['neg', 'pos', 'pos', 'neg', 'net', 'pos', 'pos', 'pos', 'neg', 'pos', 'pos', 'pos', 'net', 'neg', 'neg', 'pos', 'pos', 'neg', 'pos', 'neg']"
       ]
      },
      {
       "output_type": "stream",
       "stream": "stdout",
       "text": [
        "\n",
        "########### \n",
        "Pompeii (0.55, 'positive') \n",
        "########### \n",
        "\n",
        "20\n",
        "['pos', 'pos', 'neg', 'pos', 'pos', 'neg', 'pos', 'net', 'pos', 'net', 'pos', 'neg', 'pos', 'pos', 'pos', 'pos', 'pos', 'pos', 'pos', 'pos']"
       ]
      },
      {
       "output_type": "stream",
       "stream": "stdout",
       "text": [
        "\n",
        "########### \n",
        "The Monuments Men (0.75, 'positive') \n",
        "########### \n",
        "\n",
        "20\n",
        "['pos', 'pos', 'pos', 'net', 'net', 'neg', 'pos', 'pos', 'pos', 'pos', 'neg', 'pos', 'pos', 'net', 'pos', 'neg', 'neg', 'neg', 'net', 'pos']"
       ]
      },
      {
       "output_type": "stream",
       "stream": "stdout",
       "text": [
        "\n",
        "########### \n",
        "Dracula Untold (0.55, 'positive') \n",
        "########### \n",
        "\n",
        "20\n",
        "['net', 'neg', 'pos', 'neg', 'pos', 'neg', 'pos', 'net', 'neg', 'neg', 'neg', 'net', 'neg', 'neg', 'neg', 'neg', 'neg', 'pos', 'neg', 'neg']"
       ]
      },
      {
       "output_type": "stream",
       "stream": "stdout",
       "text": [
        "\n",
        "########### \n",
        "The Legend of Hercules (0.65, 'negative') \n",
        "########### \n",
        "\n",
        "20\n",
        "['pos', 'pos', 'neg', 'pos', 'pos', 'pos', 'net', 'pos', 'pos', 'pos', 'net', 'net', 'pos', 'pos', 'neg', 'pos', 'pos', 'pos', 'neg', 'pos']"
       ]
      },
      {
       "output_type": "stream",
       "stream": "stdout",
       "text": [
        "\n",
        "########### \n",
        "Legends of Oz: Dorothy\u0092s Return (0.7, 'positive') \n",
        "########### \n",
        "\n",
        "20\n",
        "['neg', 'neg', 'neg', 'net', 'pos', 'neg', 'neg', 'neg', 'neg', 'pos', 'neg', 'net', 'neg', 'neg', 'pos', 'net', 'net', 'neg', 'pos', 'pos']"
       ]
      },
      {
       "output_type": "stream",
       "stream": "stdout",
       "text": [
        "\n",
        "########### \n",
        "Need for Speed (0.55, 'negative') \n",
        "########### \n",
        "\n",
        "20\n",
        "['neg', 'pos', 'pos', 'pos', 'neg', 'net', 'neg', 'neg', 'pos', 'pos', 'neg', 'pos', 'neg', 'pos', 'pos', 'pos', 'net', 'pos', 'neg', 'neg']"
       ]
      },
      {
       "output_type": "stream",
       "stream": "stdout",
       "text": [
        "\n",
        "########### \n",
        "I, Frankenstein (0.5, 'positive') \n",
        "########### \n",
        "\n",
        "20\n",
        "['neg', 'pos', 'net', 'neg', 'neg', 'pos', 'neg', 'pos', 'pos', 'pos', 'pos', 'pos', 'neg', 'net', 'pos', 'pos', 'pos', 'net', 'pos', 'net']"
       ]
      },
      {
       "output_type": "stream",
       "stream": "stdout",
       "text": [
        "\n",
        "########### \n",
        "Sin City: A Dame to Kill For (0.55, 'positive') \n",
        "########### \n",
        "\n",
        "2\n",
        "No movie review present\n",
        "Failed in assigment of review function\n",
        "'int' object has no attribute 'iterrows'\n",
        "Failed in score review function\n",
        "'int' object has no attribute 'score'\n",
        "########### \n",
        "The Free State of Jones None \n",
        "########### \n",
        "\n",
        "20\n",
        "['net', 'pos', 'pos', 'pos', 'net', 'pos', 'pos', 'net', 'pos', 'pos', 'neg', 'pos', 'pos', 'pos', 'pos', 'pos', 'pos', 'pos', 'pos', 'pos']"
       ]
      },
      {
       "output_type": "stream",
       "stream": "stdout",
       "text": [
        "\n",
        "########### \n",
        "Gone Girl (0.8, 'positive') \n",
        "########### \n",
        "\n",
        "20\n",
        "['pos', 'pos', 'neg', 'pos', 'pos', 'pos', 'pos', 'pos', 'pos', 'pos', 'neg', 'pos', 'pos', 'neg', 'pos', 'neg', 'pos', 'pos', 'pos', 'net']"
       ]
      },
      {
       "output_type": "stream",
       "stream": "stdout",
       "text": [
        "\n",
        "########### \n",
        "The Lego Movie (0.75, 'positive') \n",
        "########### \n",
        "\n",
        "20\n",
        "['pos', 'pos', 'pos', 'pos', 'pos', 'pos', 'pos', 'neg', 'pos', 'pos', 'net', 'pos', 'pos', 'pos', 'neg', 'pos', 'pos', 'neg', 'pos', 'pos']"
       ]
      },
      {
       "output_type": "stream",
       "stream": "stdout",
       "text": [
        "\n",
        "########### \n",
        "Jack Ryan: Shadow Recruit (0.8, 'positive') \n",
        "########### \n",
        "\n",
        "2\n",
        "No movie review present\n",
        "Failed in assigment of review function\n",
        "'int' object has no attribute 'iterrows'\n",
        "Failed in score review function\n",
        "'int' object has no attribute 'score'\n",
        "########### \n",
        "Winter's Tale None \n",
        "########### \n",
        "\n",
        "20\n",
        "['pos', 'pos', 'pos', 'neg', 'pos', 'net', 'pos', 'pos', 'pos', 'pos', 'pos', 'pos', 'pos', 'neg', 'pos', 'pos', 'pos', 'pos', 'neg', 'pos']"
       ]
      },
      {
       "output_type": "stream",
       "stream": "stdout",
       "text": [
        "\n",
        "########### \n",
        "The Equalizer (0.8, 'positive') \n",
        "########### \n",
        "\n",
        "20\n",
        "['neg', 'pos', 'net', 'pos', 'pos', 'pos', 'pos', 'pos', 'neg', 'pos', 'pos', 'pos', 'pos', 'pos', 'pos', 'pos', 'neg', 'net', 'pos', 'net']"
       ]
      },
      {
       "output_type": "stream",
       "stream": "stdout",
       "text": [
        "\n",
        "########### \n",
        "Muppets Most Wanted (0.7, 'positive') \n",
        "########### \n",
        "\n",
        "20\n",
        "['neg', 'pos', 'net', 'neg', 'pos', 'pos', 'neg', 'neg', 'neg', 'neg', 'pos', 'neg', 'pos', 'neg', 'pos', 'neg', 'neg', 'pos', 'pos', 'neg']"
       ]
      },
      {
       "output_type": "stream",
       "stream": "stdout",
       "text": [
        "\n",
        "########### \n",
        "22 Jump Street (0.55, 'negative') \n",
        "########### \n",
        "\n",
        "2\n",
        "No movie review present\n",
        "Failed in assigment of review function\n",
        "'int' object has no attribute 'iterrows'\n",
        "Failed in score review function\n",
        "'int' object has no attribute 'score'\n",
        "########### \n",
        "Non-Stop None \n",
        "########### \n",
        "\n",
        "20\n",
        "['pos', 'neg', 'pos', 'neg', 'net', 'neg', 'pos', 'pos', 'pos', 'neg', 'pos', 'pos', 'pos', 'neg', 'pos', 'pos', 'pos', 'pos', 'pos', 'pos']"
       ]
      },
      {
       "output_type": "stream",
       "stream": "stdout",
       "text": [
        "\n",
        "########### \n",
        "Planes: Fire and Rescue (0.7, 'positive') \n",
        "########### \n",
        "\n",
        "20\n",
        "['neg', 'neg', 'pos', 'pos', 'net', 'pos', 'neg', 'neg', 'neg', 'neg', 'pos', 'net', 'net', 'pos', 'net', 'pos', 'pos', 'net', 'net', 'neg']"
       ]
      },
      {
       "output_type": "stream",
       "stream": "stdout",
       "text": [
        "\n",
        "########### \n",
        "Into the Storm None \n",
        "########### \n",
        "\n",
        "20\n",
        "['pos', 'pos', 'pos', 'pos', 'pos', 'pos', 'pos', 'pos', 'pos', 'pos', 'pos', 'net', 'pos', 'pos', 'pos', 'pos', 'neg', 'pos', 'net', 'pos']"
       ]
      },
      {
       "output_type": "stream",
       "stream": "stdout",
       "text": [
        "\n",
        "########### \n",
        "The Book of Life (0.85, 'positive') \n",
        "########### \n",
        "\n",
        "20\n",
        "['pos', 'neg', 'pos', 'pos', 'pos', 'pos', 'pos', 'pos', 'pos', 'pos', 'pos', 'neg', 'neg', 'neg', 'pos', 'pos', 'pos', 'pos', 'pos', 'pos']"
       ]
      },
      {
       "output_type": "stream",
       "stream": "stdout",
       "text": [
        "\n",
        "########### \n",
        "The Judge (0.8, 'positive') \n",
        "########### \n",
        "\n",
        "20\n",
        "['pos', 'net', 'neg', 'pos', 'neg', 'pos', 'net', 'neg', 'pos', 'pos', 'pos', 'pos', 'pos', 'neg', 'neg', 'pos', 'neg', 'pos', 'pos', 'neg']"
       ]
      },
      {
       "output_type": "stream",
       "stream": "stdout",
       "text": [
        "\n",
        "########### \n",
        "Blended (0.55, 'positive') \n",
        "########### \n",
        "\n",
        "20\n",
        "['neg', 'pos', 'pos', 'pos', 'net', 'pos', 'pos', 'neg', 'pos', 'pos', 'pos', 'net', 'net', 'pos', 'neg', 'pos', 'pos', 'neg', 'net', 'pos']"
       ]
      },
      {
       "output_type": "stream",
       "stream": "stdout",
       "text": [
        "\n",
        "########### \n",
        "Lucy (0.6, 'positive') \n",
        "########### \n",
        "\n",
        "20\n",
        "['neg', 'net', 'neg', 'pos', 'neg', 'pos', 'pos', 'pos', 'neg', 'pos', 'neg', 'net', 'neg', 'neg', 'neg', 'neg', 'neg', 'neg', 'net', 'neg']"
       ]
      },
      {
       "output_type": "stream",
       "stream": "stdout",
       "text": [
        "\n",
        "########### \n",
        "The Other Woman (0.6, 'negative') \n",
        "########### \n",
        "\n",
        "20\n",
        "['pos', 'pos', 'pos', 'pos', 'pos', 'pos', 'pos', 'pos', 'pos', 'pos', 'neg', 'pos', 'pos', 'pos', 'pos', 'neg', 'pos', 'pos', 'pos', 'pos']"
       ]
      },
      {
       "output_type": "stream",
       "stream": "stdout",
       "text": [
        "\n",
        "########### \n",
        "Jersey Boys (0.9, 'positive') \n",
        "########### \n",
        "\n",
        "20\n",
        "['pos', 'pos', 'neg', 'neg', 'pos', 'pos', 'pos', 'pos', 'pos', 'pos', 'neg', 'pos', 'pos', 'neg', 'pos', 'neg', 'pos', 'pos', 'neg', 'neg']"
       ]
      },
      {
       "output_type": "stream",
       "stream": "stdout",
       "text": [
        "\n",
        "########### \n",
        "A Million Ways to Die in The West (0.65, 'positive') \n",
        "########### \n",
        "\n",
        "20\n",
        "['pos', 'neg', 'pos', 'net', 'net', 'neg', 'pos', 'neg', 'neg', 'neg', 'pos', 'pos', 'pos', 'neg', 'pos', 'net', 'neg', 'neg', 'pos', 'neg']"
       ]
      },
      {
       "output_type": "stream",
       "stream": "stdout",
       "text": [
        "\n",
        "########### \n",
        "Sex Tape (0.45, 'negative') \n",
        "########### \n",
        "\n",
        "20\n",
        "['pos', 'pos', 'neg', 'neg', 'neg', 'neg', 'neg', 'neg', 'net', 'neg', 'pos', 'pos', 'pos', 'pos', 'neg', 'neg', 'neg', 'neg', 'neg', 'pos']"
       ]
      },
      {
       "output_type": "stream",
       "stream": "stdout",
       "text": [
        "\n",
        "########### \n",
        "Dumb and Dumber To (0.6, 'negative') \n",
        "########### \n",
        "\n",
        "20\n",
        "['pos', 'pos', 'pos', 'net', 'pos', 'neg', 'net', 'pos', 'pos', 'neg', 'pos', 'pos', 'neg', 'pos', 'pos', 'pos', 'pos', 'neg', 'neg', 'pos']"
       ]
      },
      {
       "output_type": "stream",
       "stream": "stdout",
       "text": [
        "\n",
        "########### \n",
        "Dolphin Tale 2 (0.65, 'positive') \n",
        "########### \n",
        "\n",
        "11\n",
        "['neg', 'net', 'pos', 'net', 'net', 'net', 'net', 'net', 'net', 'net', 'net']"
       ]
      },
      {
       "output_type": "stream",
       "stream": "stdout",
       "text": [
        "\n",
        "########### \n",
        "Sabotage None \n",
        "########### \n",
        "\n",
        "20\n",
        "['pos', 'neg', 'pos', 'pos', 'pos', 'pos', 'neg', 'pos', 'neg', 'pos', 'neg', 'neg', 'pos', 'neg', 'pos', 'pos', 'pos', 'pos', 'pos', 'net']"
       ]
      },
      {
       "output_type": "stream",
       "stream": "stdout",
       "text": [
        "\n",
        "########### \n",
        "The Maze Runner (0.65, 'positive') \n",
        "########### \n",
        "\n",
        "20\n",
        "['pos', 'pos', 'pos', 'pos', 'pos', 'pos', 'pos', 'pos', 'pos', 'net', 'neg', 'pos', 'pos', 'net', 'pos', 'pos', 'pos', 'pos', 'pos', 'pos']"
       ]
      },
      {
       "output_type": "stream",
       "stream": "stdout",
       "text": [
        "\n",
        "########### \n",
        "The House of Magic (0.85, 'positive') \n",
        "########### \n",
        "\n",
        "20\n",
        "['pos', 'pos', 'pos', 'neg', 'pos', 'pos', 'pos', 'pos', 'neg', 'neg', 'pos', 'net', 'pos', 'pos', 'pos', 'neg', 'pos', 'neg', 'pos', 'pos']"
       ]
      },
      {
       "output_type": "stream",
       "stream": "stdout",
       "text": [
        "\n",
        "########### \n",
        "The Grand Budapest Hotel (0.7, 'positive') \n",
        "########### \n",
        "\n",
        "20\n",
        "['pos', 'neg', 'pos', 'neg', 'neg', 'pos', 'pos', 'pos', 'pos', 'neg', 'pos', 'neg', 'neg', 'pos', 'neg', 'neg', 'neg', 'neg', 'neg', 'neg']"
       ]
      },
      {
       "output_type": "stream",
       "stream": "stdout",
       "text": [
        "\n",
        "########### \n",
        "The Nut Job (0.6, 'negative') \n",
        "########### \n",
        "\n",
        "20\n",
        "['pos', 'pos', 'pos', 'pos', 'pos', 'pos', 'pos', 'pos', 'pos', 'pos', 'pos', 'net', 'pos', 'pos', 'pos', 'pos', 'pos', 'pos', 'pos', 'pos']"
       ]
      },
      {
       "output_type": "stream",
       "stream": "stdout",
       "text": [
        "\n",
        "########### \n",
        "Get on Up (0.95, 'positive') \n",
        "########### \n",
        "\n",
        "20\n",
        "['neg', 'pos', 'neg', 'pos', 'neg', 'pos', 'net', 'neg', 'neg', 'neg', 'pos', 'pos', 'net', 'pos', 'pos', 'neg', 'pos', 'pos', 'pos', 'pos']"
       ]
      },
      {
       "output_type": "stream",
       "stream": "stdout",
       "text": [
        "\n",
        "########### \n",
        "Deliver Us from Evil (0.55, 'positive') \n",
        "########### \n",
        "\n",
        "20\n",
        "['neg', 'pos', 'pos', 'pos', 'neg', 'net', 'net', 'pos', 'pos', 'pos', 'net', 'net', 'pos', 'pos', 'neg', 'pos', 'neg', 'net', 'neg', 'pos']"
       ]
      },
      {
       "output_type": "stream",
       "stream": "stdout",
       "text": [
        "\n",
        "########### \n",
        "Grace of Monaco (0.5, 'positive') \n",
        "########### \n",
        "\n",
        "20\n",
        "['pos', 'pos', 'neg', 'neg', 'net', 'pos', 'neg', 'pos', 'pos', 'pos', 'pos', 'pos', 'neg', 'net', 'pos', 'pos', 'neg', 'neg', 'pos', 'net']"
       ]
      },
      {
       "output_type": "stream",
       "stream": "stdout",
       "text": [
        "\n",
        "########### \n",
        "Alexander and the Terrible, Horrible, No Good, Very Bad Day (0.55, 'positive') \n",
        "########### \n",
        "\n",
        "20\n",
        "['net', 'pos', 'pos', 'pos', 'pos', 'neg', 'net', 'neg', 'neg', 'neg', 'pos', 'pos', 'neg', 'neg', 'pos', 'neg', 'pos', 'neg', 'net', 'neg']"
       ]
      },
      {
       "output_type": "stream",
       "stream": "stdout",
       "text": [
        "\n",
        "########### \n",
        "3 Days to Kill (0.45, 'negative') \n",
        "########### \n",
        "\n",
        "20\n",
        "['pos', 'pos', 'net', 'pos', 'neg', 'pos', 'pos', 'pos', 'pos', 'pos', 'pos', 'pos', 'pos', 'pos', 'neg', 'neg', 'pos', 'pos', 'pos', 'pos']"
       ]
      },
      {
       "output_type": "stream",
       "stream": "stdout",
       "text": [
        "\n",
        "########### \n",
        "A Walk Among the Tombstones (0.8, 'positive') \n",
        "########### \n",
        "\n",
        "20\n",
        "['pos', 'pos', 'pos', 'neg', 'pos', 'pos', 'neg', 'neg', 'pos', 'pos', 'pos', 'net', 'neg', 'net', 'neg', 'pos', 'neg', 'pos', 'neg', 'neg']"
       ]
      },
      {
       "output_type": "stream",
       "stream": "stdout",
       "text": [
        "\n",
        "########### \n",
        "Brick Mansions (0.5, 'positive') \n",
        "########### \n",
        "\n",
        "20\n",
        "['pos', 'net', 'pos', 'pos', 'pos', 'pos', 'pos', 'neg', 'pos', 'neg', 'pos', 'pos', 'pos', 'pos', 'pos', 'pos', 'pos', 'pos', 'neg', 'neg']"
       ]
      },
      {
       "output_type": "stream",
       "stream": "stdout",
       "text": [
        "\n",
        "########### \n",
        "The Best of Me (0.75, 'positive') \n",
        "########### \n",
        "\n",
        "20\n",
        "['neg', 'neg', 'neg', 'neg', 'pos', 'neg', 'pos', 'pos', 'neg', 'neg', 'pos', 'neg', 'neg', 'neg', 'pos', 'pos', 'neg', 'net', 'neg', 'pos']"
       ]
      },
      {
       "output_type": "stream",
       "stream": "stdout",
       "text": [
        "\n",
        "########### \n",
        "Ride Along (0.6, 'negative') \n",
        "########### \n",
        "\n",
        "20\n",
        "['neg', 'pos', 'neg', 'pos', 'pos', 'neg', 'net', 'pos', 'pos', 'pos', 'pos', 'pos', 'pos', 'neg', 'pos', 'pos', 'pos', 'pos', 'pos', 'pos']"
       ]
      },
      {
       "output_type": "stream",
       "stream": "stdout",
       "text": [
        "\n",
        "########### \n",
        "The Giver (0.75, 'positive') \n",
        "########### \n",
        "\n",
        "20\n",
        "['neg', 'neg', 'pos', 'pos', 'pos', 'pos', 'pos', 'pos', 'pos', 'pos', 'pos', 'pos', 'neg', 'pos', 'neg', 'neg', 'neg', 'neg', 'pos', 'pos']"
       ]
      },
      {
       "output_type": "stream",
       "stream": "stdout",
       "text": [
        "\n",
        "########### \n",
        "Million Dollar Arm (0.65, 'positive') \n",
        "########### \n",
        "\n",
        "20\n",
        "['net', 'pos', 'net', 'pos', 'pos', 'pos', 'pos', 'pos', 'neg', 'net', 'pos', 'pos', 'pos', 'pos', 'pos', 'pos', 'neg', 'pos', 'neg', 'pos']"
       ]
      },
      {
       "output_type": "stream",
       "stream": "stdout",
       "text": [
        "\n",
        "########### \n",
        "Draft Day (0.7, 'positive') \n",
        "########### \n",
        "\n",
        "13\n",
        "['neg', 'pos', 'pos', 'net', 'pos', 'pos', 'neg', 'net', 'pos', 'neg', 'neg', 'net', 'pos']"
       ]
      },
      {
       "output_type": "stream",
       "stream": "stdout",
       "text": [
        "\n",
        "########### \n",
        "The Adventurer: The Curse of the Midas Box (0.46153846153846156, 'positive') \n",
        "########### \n",
        "\n",
        "2\n",
        "No movie review present\n",
        "Failed in assigment of review function\n",
        "'int' object has no attribute 'iterrows'\n",
        "Failed in score review function\n",
        "'int' object has no attribute 'score'\n",
        "########### \n",
        "Tulip Fever None \n",
        "########### \n",
        "\n",
        "20\n",
        "['net', 'pos', 'neg', 'neg', 'pos', 'neg', 'neg', 'neg', 'pos', 'pos', 'pos', 'pos', 'pos', 'pos', 'net', 'neg', 'pos', 'pos', 'pos', 'pos']"
       ]
      },
      {
       "output_type": "stream",
       "stream": "stdout",
       "text": [
        "\n",
        "########### \n",
        "Think Like a Man Too (0.6, 'positive') \n",
        "########### \n",
        "\n",
        "11\n",
        "['neg', 'pos', 'pos', 'pos', 'pos', 'pos', 'neg', 'pos', 'pos', 'pos', 'neg']"
       ]
      },
      {
       "output_type": "stream",
       "stream": "stdout",
       "text": [
        "\n",
        "########### \n",
        "Always Woodstock (0.7272727272727273, 'positive') \n",
        "########### \n",
        "\n",
        "20\n",
        "['pos', 'neg', 'pos', 'neg', 'pos', 'neg', 'pos', 'pos', 'pos', 'pos', 'neg', 'pos', 'pos', 'net', 'pos', 'pos', 'net', 'pos', 'pos', 'neg']"
       ]
      },
      {
       "output_type": "stream",
       "stream": "stdout",
       "text": [
        "\n",
        "########### \n",
        "Son of God (0.65, 'positive') \n",
        "########### \n",
        "\n",
        "20\n",
        "['pos', 'net', 'net', 'neg', 'pos', 'pos', 'pos', 'pos', 'net', 'neg', 'pos', 'pos', 'neg', 'pos', 'pos', 'pos', 'pos', 'pos', 'pos', 'pos']"
       ]
      },
      {
       "output_type": "stream",
       "stream": "stdout",
       "text": [
        "\n",
        "########### \n",
        "The Hundred-Foot Journey (0.7, 'positive') \n",
        "########### \n",
        "\n",
        "13\n",
        "['pos', 'pos', 'pos', 'pos', 'pos', 'pos', 'net', 'pos', 'pos', 'net', 'pos', 'pos', 'net']"
       ]
      },
      {
       "output_type": "stream",
       "stream": "stdout",
       "text": [
        "\n",
        "########### \n",
        "Metegol (0.7692307692307693, 'positive') \n",
        "########### \n",
        "\n",
        "2\n",
        "No movie review present\n",
        "Failed in assigment of review function\n",
        "'int' object has no attribute 'iterrows'\n",
        "Failed in score review function\n",
        "'int' object has no attribute 'score'\n",
        "########### \n",
        "The Butterbly God None \n",
        "########### \n",
        "\n",
        "20\n",
        "['pos', 'net', 'pos', 'pos', 'net', 'pos', 'pos', 'neg', 'pos', 'neg', 'pos', 'pos', 'neg', 'pos', 'pos', 'pos', 'pos', 'neg', 'neg', 'net']"
       ]
      },
      {
       "output_type": "stream",
       "stream": "stdout",
       "text": [
        "\n",
        "########### \n",
        "Tammy (0.6, 'positive') \n",
        "########### \n",
        "\n",
        "20\n",
        "['neg', 'pos', 'pos', 'neg', 'pos', 'neg', 'pos', 'pos', 'neg', 'pos', 'pos', 'pos', 'neg', 'pos', 'pos', 'pos', 'pos', 'pos', 'neg', 'neg']"
       ]
      },
      {
       "output_type": "stream",
       "stream": "stdout",
       "text": [
        "\n",
        "########### \n",
        "This is Where I Leave You (0.65, 'positive') \n",
        "########### \n",
        "\n",
        "20\n",
        "['pos', 'neg', 'neg', 'pos', 'neg', 'pos', 'neg', 'neg', 'pos', 'pos', 'neg', 'pos', 'pos', 'neg', 'pos', 'neg', 'pos', 'net', 'pos', 'pos']"
       ]
      },
      {
       "output_type": "stream",
       "stream": "stdout",
       "text": [
        "\n",
        "########### \n",
        "Endless Love (0.55, 'positive') \n",
        "########### \n",
        "\n",
        "2\n",
        "No movie review present\n",
        "Failed in assigment of review function\n",
        "'int' object has no attribute 'iterrows'\n",
        "Failed in score review function\n",
        "'int' object has no attribute 'score'\n",
        "########### \n",
        "Little Boy None \n",
        "########### \n",
        "\n",
        "2\n",
        "No movie review present\n",
        "Failed in assigment of review function\n",
        "'int' object has no attribute 'iterrows'\n",
        "Failed in score review function\n",
        "'int' object has no attribute 'score'\n",
        "########### \n",
        "Dwegons and Leprechauns None \n",
        "########### \n",
        "\n",
        "11\n",
        "['net', 'net', 'pos', 'pos', 'pos', 'pos', 'net', 'pos', 'neg', 'pos', 'neg']"
       ]
      },
      {
       "output_type": "stream",
       "stream": "stdout",
       "text": [
        "\n",
        "########### \n",
        "The Maid's Room (0.5454545454545454, 'positive') \n",
        "########### \n",
        "\n",
        "20\n",
        "['pos', 'neg', 'pos', 'neg', 'net', 'neg', 'pos', 'pos', 'pos', 'neg', 'net', 'net', 'net', 'net', 'net', 'net', 'net', 'net', 'net', 'net']"
       ]
      },
      {
       "output_type": "stream",
       "stream": "stdout",
       "text": [
        "\n",
        "########### \n",
        "A Funny Thing Happened on the Way to the Forum (0.25, 'positive') \n",
        "########### \n",
        "\n",
        "1\n",
        "['net']\n",
        "########### \n",
        "Survivor None \n",
        "########### \n",
        "\n",
        "11\n",
        "['net', 'neg', 'net', 'net', 'net', 'net', 'net', 'net', 'net', 'net', 'net']"
       ]
      },
      {
       "output_type": "stream",
       "stream": "stdout",
       "text": [
        "\n",
        "########### \n",
        "Neighbors (0.09090909090909091, 'negative') \n",
        "########### \n",
        "\n",
        "20\n",
        "['pos', 'pos', 'neg', 'pos', 'pos', 'pos', 'net', 'neg', 'pos', 'pos', 'pos', 'pos', 'neg', 'pos', 'net', 'neg', 'pos', 'pos', 'net', 'pos']"
       ]
      },
      {
       "output_type": "stream",
       "stream": "stdout",
       "text": [
        "\n",
        "########### \n",
        "Labor Day (0.65, 'positive') \n",
        "########### \n",
        "\n",
        "20\n",
        "['pos', 'net', 'pos', 'pos', 'pos', 'pos', 'pos', 'neg', 'neg', 'pos', 'pos', 'pos', 'neg', 'pos', 'pos', 'pos', 'pos', 'pos', 'pos', 'net']"
       ]
      },
      {
       "output_type": "stream",
       "stream": "stdout",
       "text": [
        "\n",
        "########### \n",
        "The Prince (0.75, 'positive') \n",
        "########### \n",
        "\n",
        "20\n",
        "['neg', 'pos', 'net', 'pos', 'neg', 'pos', 'net', 'pos', 'neg', 'pos', 'net', 'neg', 'neg', 'neg', 'pos', 'neg', 'pos', 'pos', 'pos', 'neg']"
       ]
      },
      {
       "output_type": "stream",
       "stream": "stdout",
       "text": [
        "\n",
        "########### \n",
        "Wolves (0.45, 'positive') \n",
        "########### \n",
        "\n",
        "20\n",
        "['pos', 'pos', 'neg', 'pos', 'pos', 'pos', 'neg', 'net', 'neg', 'neg', 'neg', 'neg', 'net', 'pos', 'pos', 'pos', 'pos', 'neg', 'neg', 'neg']"
       ]
      },
      {
       "output_type": "stream",
       "stream": "stdout",
       "text": [
        "\n",
        "########### \n",
        "Let\u0092s Be Cops None \n",
        "########### \n",
        "\n",
        "6\n",
        "['pos', 'pos', 'pos', 'pos', 'pos', 'pos']"
       ]
      },
      {
       "output_type": "stream",
       "stream": "stdout",
       "text": [
        "\n",
        "########### \n",
        "Escobar: Paradise Lost (1.0, 'positive') \n",
        "########### \n",
        "\n",
        "20\n",
        "['net', 'neg', 'pos', 'neg', 'neg', 'pos', 'net', 'neg', 'pos', 'pos', 'neg', 'pos', 'neg', 'pos', 'neg', 'neg', 'pos', 'pos', 'neg', 'neg']"
       ]
      },
      {
       "output_type": "stream",
       "stream": "stdout",
       "text": [
        "\n",
        "########### \n",
        "Left Behind (0.5, 'negative') \n",
        "########### \n",
        "\n",
        "20\n",
        "['pos', 'pos', 'neg', 'pos', 'pos', 'pos', 'net', 'pos', 'pos', 'pos', 'pos', 'net', 'pos', 'pos', 'pos', 'pos', 'pos', 'pos', 'pos', 'pos']"
       ]
      },
      {
       "output_type": "stream",
       "stream": "stdout",
       "text": [
        "\n",
        "########### \n",
        "The Homesman (0.85, 'positive') \n",
        "########### \n",
        "\n",
        "20\n",
        "['neg', 'neg', 'pos', 'pos', 'pos', 'neg', 'pos', 'net', 'net', 'neg', 'neg', 'neg', 'neg', 'pos', 'neg', 'pos', 'pos', 'pos', 'pos', 'neg']"
       ]
      },
      {
       "output_type": "stream",
       "stream": "stdout",
       "text": [
        "\n",
        "########### \n",
        "The November Man None \n",
        "########### \n",
        "\n",
        "20\n",
        "['neg', 'pos', 'pos', 'pos', 'pos', 'pos', 'neg', 'neg', 'neg', 'pos', 'pos', 'pos', 'neg', 'net', 'pos', 'pos', 'pos', 'pos', 'pos', 'pos']"
       ]
      },
      {
       "output_type": "stream",
       "stream": "stdout",
       "text": [
        "\n",
        "########### \n",
        "Automata (0.7, 'positive') \n",
        "########### \n",
        "\n",
        "1\n",
        "['neg']\n",
        "########### \n",
        "Dying of the Light (1.0, 'negative') \n",
        "########### \n",
        "\n",
        "2\n",
        "No movie review present\n",
        "Failed in assigment of review function\n",
        "'int' object has no attribute 'iterrows'\n",
        "Failed in score review function\n",
        "'int' object has no attribute 'score'\n",
        "########### \n",
        "Bus 657 None \n",
        "########### \n",
        "\n",
        "20\n",
        "['pos', 'pos', 'net', 'neg', 'neg', 'neg', 'neg', 'neg', 'pos', 'neg', 'pos', 'pos', 'neg', 'neg', 'pos', 'neg', 'neg', 'neg', 'pos', 'pos']"
       ]
      },
      {
       "output_type": "stream",
       "stream": "stdout",
       "text": [
        "\n",
        "########### \n",
        "No Good Deed (0.55, 'negative') \n",
        "########### \n",
        "\n",
        "20\n",
        "['neg', 'pos', 'neg', 'neg', 'pos', 'pos', 'pos', 'neg', 'pos', 'neg', 'neg', 'pos', 'pos', 'net', 'pos', 'pos', 'pos', 'pos', 'pos', 'pos']"
       ]
      },
      {
       "output_type": "stream",
       "stream": "stdout",
       "text": [
        "\n",
        "########### \n",
        "About Last Night (0.65, 'positive') \n",
        "########### \n",
        "\n",
        "20\n",
        "['pos', 'pos', 'pos', 'pos', 'pos', 'pos', 'pos', 'net', 'pos', 'pos', 'neg', 'pos', 'neg', 'net', 'pos', 'pos', 'pos', 'pos', 'pos', 'neg']"
       ]
      },
      {
       "output_type": "stream",
       "stream": "stdout",
       "text": [
        "\n",
        "########### \n",
        "Earth to Echo (0.75, 'positive') \n",
        "########### \n",
        "\n",
        "2\n",
        "No movie review present\n",
        "Failed in assigment of review function\n",
        "'int' object has no attribute 'iterrows'\n",
        "Failed in score review function\n",
        "'int' object has no attribute 'score'\n",
        "########### \n",
        "The Vatican Tapes None \n",
        "########### \n",
        "\n",
        "20\n",
        "['net', 'pos', 'pos', 'pos', 'pos', 'pos', 'pos', 'pos', 'pos', 'neg', 'pos', 'pos', 'pos', 'neg', 'neg', 'pos', 'pos', 'pos', 'pos', 'neg']"
       ]
      },
      {
       "output_type": "stream",
       "stream": "stdout",
       "text": [
        "\n",
        "########### \n",
        "The Fault in Our Stars (0.75, 'positive') \n",
        "########### \n",
        "\n",
        "20\n",
        "['pos', 'pos', 'pos', 'pos', 'neg', 'pos', 'net', 'neg', 'pos', 'neg', 'pos', 'net', 'pos', 'pos', 'pos', 'pos', 'net', 'pos', 'pos', 'net']"
       ]
      },
      {
       "output_type": "stream",
       "stream": "stdout",
       "text": [
        "\n",
        "########### \n",
        "Heaven is for Real (0.65, 'positive') \n",
        "########### \n",
        "\n",
        "20\n",
        "['neg', 'net', 'neg', 'pos', 'neg', 'neg', 'pos', 'net', 'net', 'neg', 'pos', 'pos', 'neg', 'neg', 'pos', 'pos', 'pos', 'net', 'neg', 'pos']"
       ]
      },
      {
       "output_type": "stream",
       "stream": "stdout",
       "text": [
        "\n",
        "########### \n",
        "Drive Hard None \n",
        "########### \n",
        "\n",
        "20\n",
        "['pos', 'net', 'pos', 'pos', 'pos', 'pos', 'pos', 'neg', 'net', 'neg', 'pos', 'net', 'neg', 'pos', 'pos', 'neg', 'neg', 'neg', 'neg', 'neg']"
       ]
      },
      {
       "output_type": "stream",
       "stream": "stdout",
       "text": [
        "\n",
        "########### \n",
        "If I Stay (0.45, 'positive') \n",
        "########### \n",
        "\n",
        "20\n",
        "['pos', 'neg', 'net', 'pos', 'pos', 'neg', 'pos', 'neg', 'pos', 'neg', 'net', 'neg', 'pos', 'neg', 'neg', 'pos', 'neg', 'neg', 'pos', 'pos']"
       ]
      },
      {
       "output_type": "stream",
       "stream": "stdout",
       "text": [
        "\n",
        "########### \n",
        "Bad Words None \n",
        "########### \n",
        "\n",
        "9\n",
        "['pos', 'pos', 'pos', 'pos', 'neg', 'pos', 'pos', 'pos', 'pos']"
       ]
      },
      {
       "output_type": "stream",
       "stream": "stdout",
       "text": [
        "\n",
        "########### \n",
        "Big Eyes (0.8888888888888888, 'positive') \n",
        "########### \n",
        "\n",
        "16\n",
        "['net', 'net', 'pos', 'pos', 'neg', 'pos', 'pos', 'net', 'pos', 'pos', 'pos', 'pos', 'pos', 'neg', 'net', 'pos']"
       ]
      },
      {
       "output_type": "stream",
       "stream": "stdout",
       "text": [
        "\n",
        "########### \n",
        "Elsa & Fred (0.625, 'positive') \n",
        "########### \n",
        "\n",
        "20\n",
        "['neg', 'neg', 'neg', 'neg', 'pos', 'neg', 'net', 'pos', 'net', 'neg', 'pos', 'pos', 'pos', 'neg', 'neg', 'pos', 'pos', 'neg', 'net', 'pos']"
       ]
      },
      {
       "output_type": "stream",
       "stream": "stdout",
       "text": [
        "\n",
        "########### \n",
        "Plastic (0.45, 'negative') \n",
        "########### \n",
        "\n",
        "16\n",
        "['pos', 'neg', 'pos', 'pos', 'net', 'pos', 'net', 'pos', 'neg', 'pos', 'pos', 'pos', 'pos', 'neg', 'pos', 'neg']"
       ]
      },
      {
       "output_type": "stream",
       "stream": "stdout",
       "text": [
        "\n",
        "########### \n",
        "While We're Young (0.625, 'positive') \n",
        "########### \n",
        "\n",
        "20\n",
        "['pos', 'pos', 'neg', 'pos', 'pos', 'pos', 'pos', 'pos', 'net', 'pos', 'neg', 'pos', 'pos', 'pos', 'net', 'pos', 'pos', 'pos', 'pos', 'net']"
       ]
      },
      {
       "output_type": "stream",
       "stream": "stdout",
       "text": [
        "\n",
        "########### \n",
        "The Purge: Anarchy (0.75, 'positive') \n",
        "########### \n",
        "\n",
        "13\n",
        "['neg', 'pos', 'pos', 'pos', 'pos', 'pos', 'pos', 'pos', 'neg', 'net', 'pos', 'pos', 'pos']"
       ]
      },
      {
       "output_type": "stream",
       "stream": "stdout",
       "text": [
        "\n",
        "########### \n",
        "Beneath Hill 60 (0.7692307692307693, 'positive') \n",
        "########### \n",
        "\n",
        "2\n",
        "No movie review present\n",
        "Failed in assigment of review function\n",
        "'int' object has no attribute 'iterrows'\n",
        "Failed in score review function\n",
        "'int' object has no attribute 'score'\n",
        "########### \n",
        "Skin Trade None \n",
        "########### \n",
        "\n",
        "20\n",
        "['pos', 'pos', 'neg', 'pos', 'pos', 'pos', 'pos', 'pos', 'pos', 'neg', 'pos', 'pos', 'net', 'pos', 'neg', 'net', 'neg', 'pos', 'pos', 'pos']"
       ]
      },
      {
       "output_type": "stream",
       "stream": "stdout",
       "text": [
        "\n",
        "########### \n",
        "Nightcrawler (0.7, 'positive') \n",
        "########### \n",
        "\n",
        "20\n",
        "['pos', 'pos', 'pos', 'pos', 'pos', 'pos', 'pos', 'net', 'pos', 'net', 'neg', 'pos', 'neg', 'pos', 'pos', 'pos', 'pos', 'neg', 'pos', 'neg']"
       ]
      },
      {
       "output_type": "stream",
       "stream": "stdout",
       "text": [
        "\n",
        "########### \n",
        "That Awkward Moment (0.7, 'positive') \n",
        "########### \n",
        "\n",
        "2\n",
        "No movie review present\n",
        "Failed in assigment of review function\n",
        "'int' object has no attribute 'iterrows'\n",
        "Failed in score review function\n",
        "'int' object has no attribute 'score'\n",
        "########### \n",
        "Swelter None \n",
        "########### \n",
        "\n",
        "2\n",
        "No movie review present\n",
        "Failed in assigment of review function\n",
        "'int' object has no attribute 'iterrows'\n",
        "Failed in score review function\n",
        "'int' object has no attribute 'score'\n",
        "########### \n",
        "Maggie None \n",
        "########### \n",
        "\n",
        "2\n",
        "['pos', 'pos']"
       ]
      },
      {
       "output_type": "stream",
       "stream": "stdout",
       "text": [
        "\n",
        "########### \n",
        "Aloft (1.0, 'positive') \n",
        "########### \n",
        "\n",
        "2\n",
        "No movie review present\n",
        "Failed in assigment of review function\n",
        "'int' object has no attribute 'iterrows'\n",
        "Failed in score review function\n",
        "'int' object has no attribute 'score'\n",
        "########### \n",
        "Green Street Hooligans: Underground None \n",
        "########### \n",
        "\n",
        "20\n",
        "['net', 'neg', 'pos', 'neg', 'pos', 'neg', 'pos', 'net', 'pos', 'pos', 'pos', 'pos', 'neg', 'pos', 'neg', 'neg', 'neg', 'neg', 'pos', 'pos']"
       ]
      },
      {
       "output_type": "stream",
       "stream": "stdout",
       "text": [
        "\n",
        "########### \n",
        "Devil's Due (0.5, 'positive') \n",
        "########### \n",
        "\n",
        "20\n",
        "['pos', 'pos', 'pos', 'pos', 'pos', 'pos', 'pos', 'neg', 'pos', 'pos', 'pos', 'pos', 'pos', 'pos', 'pos', 'neg', 'pos', 'neg', 'pos', 'pos']"
       ]
      },
      {
       "output_type": "stream",
       "stream": "stdout",
       "text": [
        "\n",
        "########### \n",
        "Beyond the Lights (0.85, 'positive') \n",
        "########### \n",
        "\n",
        "20\n",
        "['pos', 'pos', 'pos', 'neg', 'pos', 'neg', 'neg', 'neg', 'neg', 'neg', 'neg', 'neg', 'pos', 'pos', 'pos', 'pos', 'net', 'neg', 'pos', 'pos']"
       ]
      },
      {
       "output_type": "stream",
       "stream": "stdout",
       "text": [
        "\n",
        "########### \n",
        "Annabelle (0.5, 'positive') \n",
        "########### \n",
        "\n",
        "20\n",
        "['pos', 'pos', 'pos', 'pos', 'net', 'net', 'pos', 'pos', 'pos', 'neg', 'pos', 'pos', 'pos', 'neg', 'pos', 'neg', 'neg', 'pos', 'pos', 'neg']"
       ]
      },
      {
       "output_type": "stream",
       "stream": "stdout",
       "text": [
        "\n",
        "########### \n",
        "Veronica Mars (0.65, 'positive') \n",
        "########### \n",
        "\n",
        "6\n",
        "['pos', 'pos', 'pos', 'pos', 'pos', 'neg']"
       ]
      },
      {
       "output_type": "stream",
       "stream": "stdout",
       "text": [
        "\n",
        "########### \n",
        "Song One (0.8333333333333334, 'positive') \n",
        "########### \n",
        "\n",
        "20\n",
        "['neg', 'pos', 'neg', 'pos', 'pos', 'net', 'pos', 'pos', 'neg', 'neg', 'neg', 'pos', 'pos', 'net', 'neg', 'neg', 'pos', 'pos', 'pos', 'net']"
       ]
      },
      {
       "output_type": "stream",
       "stream": "stdout",
       "text": [
        "\n",
        "########### \n",
        "Ouija (0.5, 'positive') \n",
        "########### \n",
        "\n",
        "20\n",
        "['neg', 'pos', 'pos', 'pos', 'net', 'pos', 'pos', 'neg', 'neg', 'net', 'pos', 'pos', 'neg', 'pos', 'neg', 'neg', 'pos', 'pos', 'pos', 'pos']"
       ]
      },
      {
       "output_type": "stream",
       "stream": "stdout",
       "text": [
        "\n",
        "########### \n",
        "Paranormal Activity: The Marked Ones (0.6, 'positive') \n",
        "########### \n",
        "\n",
        "20\n",
        "['pos', 'net', 'pos', 'pos', 'pos', 'pos', 'pos', 'pos', 'pos', 'pos', 'pos', 'pos', 'net', 'neg', 'pos', 'pos', 'pos', 'neg', 'pos', 'pos']"
       ]
      },
      {
       "output_type": "stream",
       "stream": "stdout",
       "text": [
        "\n",
        "########### \n",
        "Oculus (0.8, 'positive') \n",
        "########### \n",
        "\n",
        "20\n",
        "['pos', 'pos', 'net', 'pos', 'net', 'pos', 'pos', 'pos', 'pos', 'neg', 'pos', 'pos', 'pos', 'pos', 'neg', 'pos', 'pos', 'neg', 'pos', 'pos']"
       ]
      },
      {
       "output_type": "stream",
       "stream": "stdout",
       "text": [
        "\n",
        "########### \n",
        "As Above, So Below (0.75, 'positive') \n",
        "########### \n",
        "\n",
        "20\n",
        "['pos', 'pos', 'pos', 'pos', 'pos', 'pos', 'neg', 'pos', 'pos', 'pos', 'pos', 'pos', 'pos', 'pos', 'pos', 'pos', 'pos', 'pos', 'net', 'pos']"
       ]
      },
      {
       "output_type": "stream",
       "stream": "stdout",
       "text": [
        "\n",
        "########### \n",
        "Kill the Messenger (0.9, 'positive') \n",
        "########### \n",
        "\n",
        "10\n",
        "['neg', 'neg', 'net', 'pos', 'pos', 'neg', 'neg', 'neg', 'neg', 'pos']"
       ]
      },
      {
       "output_type": "stream",
       "stream": "stdout",
       "text": [
        "\n",
        "########### \n",
        "Atlas Shrugged: Who Is John Galt? (0.6, 'negative') \n",
        "########### \n",
        "\n",
        "20\n",
        "['net', 'pos', 'pos', 'pos', 'pos', 'pos', 'pos', 'pos', 'pos', 'pos', 'pos', 'pos', 'pos', 'neg', 'pos', 'pos', 'pos', 'pos', 'pos', 'pos']"
       ]
      },
      {
       "output_type": "stream",
       "stream": "stdout",
       "text": [
        "\n",
        "########### \n",
        "Rudderless (0.9, 'positive') \n",
        "########### \n",
        "\n",
        "2\n",
        "No movie review present\n",
        "Failed in assigment of review function\n",
        "'int' object has no attribute 'iterrows'\n",
        "Failed in score review function\n",
        "'int' object has no attribute 'score'\n",
        "########### \n",
        "Area 51 None \n",
        "########### \n",
        "\n",
        "2\n",
        "No movie review present\n",
        "Failed in assigment of review function\n",
        "'int' object has no attribute 'iterrows'\n",
        "Failed in score review function\n",
        "'int' object has no attribute 'score'\n",
        "########### \n",
        "Henry & Me None \n",
        "########### \n",
        "\n",
        "2\n",
        "No movie review present\n",
        "Failed in assigment of review function\n",
        "'int' object has no attribute 'iterrows'\n",
        "Failed in score review function\n",
        "'int' object has no attribute 'score'\n",
        "########### \n",
        "Yoga Hosers None \n",
        "########### \n",
        "\n",
        "7\n",
        "['pos', 'pos', 'pos', 'pos', 'pos', 'neg', 'pos']"
       ]
      },
      {
       "output_type": "stream",
       "stream": "stdout",
       "text": [
        "\n",
        "########### \n",
        "Falcon Rising (0.8571428571428571, 'positive') \n",
        "########### \n",
        "\n",
        "1\n",
        "['net']\n",
        "########### \n",
        "Fugly! None \n",
        "########### \n",
        "\n",
        "2\n",
        "No movie review present\n",
        "Failed in assigment of review function\n",
        "'int' object has no attribute 'iterrows'\n",
        "Failed in score review function\n",
        "'int' object has no attribute 'score'\n",
        "########### \n",
        "Anna None \n",
        "########### \n",
        "\n",
        "20\n",
        "['neg', 'neg', 'net', 'neg', 'net', 'pos', 'neg', 'neg', 'neg', 'pos', 'neg', 'neg', 'pos', 'net', 'neg', 'neg', 'neg', 'neg', 'neg', 'pos']"
       ]
      },
      {
       "output_type": "stream",
       "stream": "stdout",
       "text": [
        "\n",
        "########### \n",
        "A Haunted House 2 (0.65, 'negative') \n",
        "########### \n",
        "\n",
        "2\n",
        "['pos', 'pos']"
       ]
      },
      {
       "output_type": "stream",
       "stream": "stdout",
       "text": [
        "\n",
        "########### \n",
        "The Perfect Wave (1.0, 'positive') \n",
        "########### \n",
        "\n",
        "2\n",
        "No movie review present\n",
        "Failed in assigment of review function\n",
        "'int' object has no attribute 'iterrows'\n",
        "Failed in score review function\n",
        "'int' object has no attribute 'score'\n",
        "########### \n",
        "In the Name of the King III None \n",
        "########### \n",
        "\n",
        "20\n",
        "['neg', 'pos', 'pos', 'pos', 'neg', 'pos', 'pos', 'pos', 'pos', 'pos', 'pos', 'pos', 'net', 'pos', 'pos', 'neg', 'pos', 'pos', 'pos', 'pos']"
       ]
      },
      {
       "output_type": "stream",
       "stream": "stdout",
       "text": [
        "\n",
        "########### \n",
        "Whiplash (0.8, 'positive') \n",
        "########### \n",
        "\n",
        "6\n",
        "['pos', 'pos', 'net', 'pos', 'pos', 'pos']"
       ]
      },
      {
       "output_type": "stream",
       "stream": "stdout",
       "text": [
        "\n",
        "########### \n",
        "Fort McCoy (0.8333333333333334, 'positive') \n",
        "########### \n",
        "\n",
        "2\n",
        "No movie review present\n",
        "Failed in assigment of review function\n",
        "'int' object has no attribute 'iterrows'\n",
        "Failed in score review function\n",
        "'int' object has no attribute 'score'\n",
        "########### \n",
        "Demonic None \n",
        "########### \n",
        "\n",
        "20\n",
        "['pos', 'pos', 'pos', 'pos', 'neg', 'pos', 'pos', 'pos', 'pos', 'net', 'pos', 'pos', 'pos', 'pos', 'neg', 'pos', 'pos', 'pos', 'pos', 'pos']"
       ]
      },
      {
       "output_type": "stream",
       "stream": "stdout",
       "text": [
        "\n",
        "########### \n",
        "Point Blank (0.85, 'positive') \n",
        "########### \n",
        "\n",
        "3\n",
        "['neg', 'net', 'net']\n",
        "########### \n",
        "Iguana (0.3333333333333333, 'negative') \n",
        "########### \n",
        "\n",
        "20\n",
        "['pos', 'pos', 'pos', 'neg', 'pos', 'net', 'pos', 'neg', 'pos', 'pos', 'neg', 'pos', 'pos', 'pos', 'pos', 'pos', 'pos', 'pos', 'pos', 'pos']"
       ]
      },
      {
       "output_type": "stream",
       "stream": "stdout",
       "text": [
        "\n",
        "########### \n",
        "Boyhood (0.8, 'positive') \n",
        "########### \n",
        "\n",
        "18\n",
        "['pos', 'neg', 'pos', 'net', 'pos', 'pos', 'neg', 'pos', 'pos', 'neg', 'neg', 'pos', 'neg', 'pos', 'pos', 'neg', 'pos', 'pos']"
       ]
      },
      {
       "output_type": "stream",
       "stream": "stdout",
       "text": [
        "\n",
        "########### \n",
        "God\u0092s Not Dead (0.6111111111111112, 'positive') \n",
        "########### \n",
        "\n",
        "14\n",
        "['pos', 'pos', 'pos', 'neg', 'pos', 'pos', 'pos', 'pos', 'pos', 'neg', 'net', 'pos', 'net', 'pos']"
       ]
      },
      {
       "output_type": "stream",
       "stream": "stdout",
       "text": [
        "\n",
        "########### \n",
        "Pump (0.7142857142857143, 'positive') \n",
        "########### \n",
        "\n",
        "2\n",
        "No movie review present\n",
        "Failed in assigment of review function\n",
        "'int' object has no attribute 'iterrows'\n",
        "Failed in score review function\n",
        "'int' object has no attribute 'score'\n",
        "########### \n",
        "Lucky Dog None \n",
        "########### \n",
        "\n",
        "2\n",
        "No movie review present\n",
        "Failed in assigment of review function\n",
        "'int' object has no attribute 'iterrows'\n",
        "Failed in score review function\n",
        "'int' object has no attribute 'score'\n",
        "########### \n",
        "Once Upon a Time in Queens None \n",
        "########### \n",
        "\n",
        "20\n",
        "['pos', 'pos', 'net', 'pos', 'net', 'neg', 'pos', 'pos', 'pos', 'pos', 'pos', 'pos', 'pos', 'pos', 'neg', 'pos', 'pos', 'pos', 'pos', 'pos']"
       ]
      },
      {
       "output_type": "stream",
       "stream": "stdout",
       "text": [
        "\n",
        "########### \n",
        "Housebound (0.8, 'positive') \n",
        "########### \n",
        "\n",
        "6\n",
        "['pos', 'pos', 'neg', 'pos', 'neg', 'pos']"
       ]
      },
      {
       "output_type": "stream",
       "stream": "stdout",
       "text": [
        "\n",
        "########### \n",
        "Los insolitos peces gato (0.6666666666666666, 'positive') \n",
        "########### \n",
        "\n",
        "7\n",
        "['net', 'pos', 'net', 'net', 'net', 'net', 'net']"
       ]
      },
      {
       "output_type": "stream",
       "stream": "stdout",
       "text": [
        "\n",
        "########### \n",
        "Cotton Comes to Harlem (0.14285714285714285, 'positive') \n",
        "########### \n",
        "\n",
        "2\n",
        "No movie review present\n",
        "Failed in assigment of review function\n",
        "'int' object has no attribute 'iterrows'\n",
        "Failed in score review function\n",
        "'int' object has no attribute 'score'\n",
        "########### \n",
        "Hidden Away None \n",
        "########### \n",
        "\n",
        "2\n",
        "No movie review present\n",
        "Failed in assigment of review function\n",
        "'int' object has no attribute 'iterrows'\n",
        "Failed in score review function\n",
        "'int' object has no attribute 'score'\n",
        "########### \n",
        "Doc Holliday's Revenge None \n",
        "########### \n",
        "\n",
        "1\n",
        "['pos']\n",
        "########### \n",
        "A Fine Step (1.0, 'positive') \n",
        "########### \n",
        "\n",
        "1"
       ]
      },
      {
       "output_type": "stream",
       "stream": "stdout",
       "text": [
        "\n",
        "['pos']"
       ]
      },
      {
       "output_type": "stream",
       "stream": "stdout",
       "text": [
        "\n",
        "########### \n",
        "Beyond the Brick: A LEGO Brickumentary (1.0, 'positive') \n",
        "########### \n",
        "\n",
        "20\n",
        "['pos', 'pos', 'neg', 'pos', 'pos', 'pos', 'pos', 'net', 'net', 'pos', 'pos', 'pos', 'neg', 'net', 'pos', 'neg', 'net', 'pos', 'neg', 'pos']"
       ]
      },
      {
       "output_type": "stream",
       "stream": "stdout",
       "text": [
        "\n",
        "########### \n",
        "Walter (0.6, 'positive') \n",
        "########### \n",
        "\n",
        "2\n",
        "No movie review present\n",
        "Failed in assigment of review function\n",
        "'int' object has no attribute 'iterrows'\n",
        "Failed in score review function\n",
        "'int' object has no attribute 'score'\n",
        "########### \n",
        "The Sisterhood of Night None \n",
        "########### \n",
        "\n",
        "2\n",
        "No movie review present\n",
        "Failed in assigment of review function\n",
        "'int' object has no attribute 'iterrows'\n",
        "Failed in score review function\n",
        "'int' object has no attribute 'score'\n",
        "########### \n",
        "Jesse None \n",
        "########### \n",
        "\n",
        "20\n",
        "['pos', 'pos', 'pos', 'pos', 'pos', 'pos', 'pos', 'pos', 'pos', 'neg', 'pos', 'pos', 'pos', 'pos', 'pos', 'pos', 'pos', 'pos', 'pos', 'pos']"
       ]
      },
      {
       "output_type": "stream",
       "stream": "stdout",
       "text": [
        "\n",
        "########### \n",
        "Il conformista (0.95, 'positive') \n",
        "########### \n",
        "\n",
        "20\n",
        "['pos', 'pos', 'pos', 'pos', 'pos', 'pos', 'pos', 'pos', 'pos', 'pos', 'pos', 'pos', 'pos', 'pos', 'pos', 'pos', 'pos', 'pos', 'pos', 'pos']"
       ]
      },
      {
       "output_type": "stream",
       "stream": "stdout",
       "text": [
        "\n",
        "########### \n",
        "Water & Power (1.0, 'positive') \n",
        "########### \n",
        "\n",
        "2\n",
        "No movie review present\n",
        "Failed in assigment of review function\n",
        "'int' object has no attribute 'iterrows'\n",
        "Failed in score review function\n",
        "'int' object has no attribute 'score'\n",
        "########### \n",
        "Born to Fly: Elizabeth Streb vs. Gravity None \n",
        "########### \n",
        "\n",
        "2\n",
        "No movie review present\n",
        "Failed in assigment of review function\n",
        "'int' object has no attribute 'iterrows'\n",
        "Failed in score review function\n",
        "'int' object has no attribute 'score'\n",
        "########### \n",
        "America Is Still The Place None \n",
        "########### \n",
        "\n",
        "2\n",
        "No movie review present\n",
        "Failed in assigment of review function\n",
        "'int' object has no attribute 'iterrows'\n",
        "Failed in score review function\n",
        "'int' object has no attribute 'score'\n",
        "########### \n",
        "Subconscious None \n",
        "########### \n",
        "\n",
        "11\n",
        "['pos', 'pos', 'pos', 'pos', 'pos', 'pos', 'pos', 'pos', 'pos', 'pos', 'neg']"
       ]
      },
      {
       "output_type": "stream",
       "stream": "stdout",
       "text": [
        "\n",
        "########### \n",
        "As It Is in Heaven (0.9090909090909091, 'positive') \n",
        "########### \n",
        "\n",
        "2\n",
        "No movie review present\n",
        "Failed in assigment of review function\n",
        "'int' object has no attribute 'iterrows'\n",
        "Failed in score review function\n",
        "'int' object has no attribute 'score'\n",
        "########### \n",
        "Pancakes None \n",
        "########### \n",
        "\n",
        "8\n",
        "['pos', 'pos', 'pos', 'pos', 'neg', 'neg', 'net', 'pos']"
       ]
      },
      {
       "output_type": "stream",
       "stream": "stdout",
       "text": [
        "\n",
        "########### \n",
        "Locker 13 (0.625, 'positive') \n",
        "########### \n",
        "\n",
        "4\n",
        "['net', 'pos', 'pos', 'pos']"
       ]
      },
      {
       "output_type": "stream",
       "stream": "stdout",
       "text": [
        "\n",
        "########### \n",
        "All You Need Is Love (0.75, 'positive') \n",
        "########### \n",
        "\n",
        "18\n",
        "['pos', 'pos', 'pos', 'neg', 'neg', 'pos', 'pos', 'pos', 'pos', 'neg', 'neg', 'pos', 'pos', 'pos', 'pos', 'pos', 'pos', 'pos']"
       ]
      },
      {
       "output_type": "stream",
       "stream": "stdout",
       "text": [
        "\n",
        "########### \n",
        "Test (0.7777777777777778, 'positive') \n",
        "########### \n",
        "\n",
        "20\n",
        "['net', 'pos', 'net', 'pos', 'pos', 'pos', 'pos', 'pos', 'pos', 'pos', 'neg', 'pos', 'pos', 'neg', 'pos', 'neg', 'pos', 'neg', 'pos', 'pos']"
       ]
      },
      {
       "output_type": "stream",
       "stream": "stdout",
       "text": [
        "\n",
        "########### \n",
        "Night Lights (0.7, 'positive') \n",
        "########### \n",
        "\n",
        "4\n",
        "['pos', 'pos', 'neg', 'pos']"
       ]
      },
      {
       "output_type": "stream",
       "stream": "stdout",
       "text": [
        "\n",
        "########### \n",
        "Jesus People (0.75, 'positive') \n",
        "########### \n",
        "\n",
        "4\n",
        "['neg', 'pos', 'pos', 'pos']"
       ]
      },
      {
       "output_type": "stream",
       "stream": "stdout",
       "text": [
        "\n",
        "########### \n",
        "The Word (0.75, 'positive') \n",
        "########### \n",
        "\n",
        "5\n",
        "['pos', 'pos', 'pos', 'pos', 'pos']"
       ]
      },
      {
       "output_type": "stream",
       "stream": "stdout",
       "text": [
        "\n",
        "########### \n",
        "Archaeology of a Woman (1.0, 'positive') \n",
        "########### \n",
        "\n",
        "2\n",
        "No movie review present\n",
        "Failed in assigment of review function\n",
        "'int' object has no attribute 'iterrows'\n",
        "Failed in score review function\n",
        "'int' object has no attribute 'score'\n",
        "########### \n",
        "Sanctuary; Quite a Conundrum None \n",
        "########### \n",
        "\n",
        "2\n",
        "No movie review present\n",
        "Failed in assigment of review function\n",
        "'int' object has no attribute 'iterrows'\n",
        "Failed in score review function\n",
        "'int' object has no attribute 'score'\n",
        "########### \n",
        "Heroes of Dirt None \n",
        "########### \n",
        "\n",
        "2\n",
        "No movie review present\n",
        "Failed in assigment of review function\n",
        "'int' object has no attribute 'iterrows'\n",
        "Failed in score review function\n",
        "'int' object has no attribute 'score'\n",
        "########### \n",
        "Escaping the Holocost None \n",
        "########### \n",
        "\n",
        "2\n",
        "No movie review present\n",
        "Failed in assigment of review function\n",
        "'int' object has no attribute 'iterrows'\n",
        "Failed in score review function\n",
        "'int' object has no attribute 'score'\n",
        "########### \n",
        "An American in Hollywood None \n",
        "########### \n",
        "\n",
        "20\n",
        "['pos', 'pos', 'pos', 'pos', 'pos', 'pos', 'pos', 'neg', 'pos', 'pos', 'pos', 'pos', 'neg', 'pos', 'neg', 'pos', 'net', 'pos', 'pos', 'pos']"
       ]
      },
      {
       "output_type": "stream",
       "stream": "stdout",
       "text": [
        "\n",
        "########### \n",
        "Cheap Thrills (0.8, 'positive') \n",
        "########### \n",
        "\n",
        "3\n",
        "['pos', 'pos', 'pos']"
       ]
      },
      {
       "output_type": "stream",
       "stream": "stdout",
       "text": [
        "\n",
        "########### \n",
        "The Past is a Grotesque Animal (1.0, 'positive') \n",
        "########### \n",
        "\n",
        "2\n",
        "No movie review present\n",
        "Failed in assigment of review function\n",
        "'int' object has no attribute 'iterrows'\n",
        "Failed in score review function\n",
        "'int' object has no attribute 'score'\n",
        "########### \n",
        "Dude, Where's My Dog None \n",
        "########### \n",
        "\n",
        "Failed in review finder\n",
        "expected string or buffer\n",
        "Failed in assigment of review function\n",
        "'NoneType' object has no attribute 'iterrows'\n",
        "Failed in score review function\n",
        "'NoneType' object has no attribute 'score'\n",
        "########### \n",
        "Dry Spell None \n",
        "########### \n",
        "\n"
       ]
      }
     ],
     "prompt_number": 412
    },
    {
     "cell_type": "code",
     "collapsed": false,
     "input": [
      "#for x in movie_score:\n",
      "#    if x == 'None'\n",
      "#       print x\n",
      "\n",
      "#movie_score #for x in xrange(len(movie_score))]\n",
      "review_DF['Score'] = movie_score\n",
      "review_DF"
     ],
     "language": "python",
     "metadata": {},
     "outputs": [
      {
       "html": [
        "<div style=\"max-height:1000px;max-width:1500px;overflow:auto;\">\n",
        "<table border=\"1\" class=\"dataframe\">\n",
        "  <thead>\n",
        "    <tr style=\"text-align: right;\">\n",
        "      <th></th>\n",
        "      <th>Name</th>\n",
        "      <th>Reviews_JSON</th>\n",
        "      <th>Score</th>\n",
        "    </tr>\n",
        "  </thead>\n",
        "  <tbody>\n",
        "    <tr>\n",
        "      <th>0  </th>\n",
        "      <td> The Hobbit: The Battle of the Five Armies</td>\n",
        "      <td>                                              \"NA\"</td>\n",
        "      <td>                       None</td>\n",
        "    </tr>\n",
        "    <tr>\n",
        "      <th>1  </th>\n",
        "      <td>           Transformers: Age of Extinction</td>\n",
        "      <td> [\"Metal on metal still the name of the game\", ...</td>\n",
        "      <td>            (0.6, negative)</td>\n",
        "    </tr>\n",
        "    <tr>\n",
        "      <th>2  </th>\n",
        "      <td>                X-Men: Days of Future Past</td>\n",
        "      <td> [\"It seems like all the summ er blockbusters t...</td>\n",
        "      <td>           (0.75, positive)</td>\n",
        "    </tr>\n",
        "    <tr>\n",
        "      <th>3  </th>\n",
        "      <td>                  The Amazing Spider-Man 2</td>\n",
        "      <td> [\"Okay, I don't want to hang the failure of th...</td>\n",
        "      <td>           (0.65, positive)</td>\n",
        "    </tr>\n",
        "    <tr>\n",
        "      <th>4  </th>\n",
        "      <td>                                Maleficent</td>\n",
        "      <td> [\"Maleficent became one of Disney's premiere b...</td>\n",
        "      <td>           (0.75, positive)</td>\n",
        "    </tr>\n",
        "    <tr>\n",
        "      <th>5  </th>\n",
        "      <td>                          Edge of Tomorrow</td>\n",
        "      <td> [\"Cruise is a winner all the way, whether he's...</td>\n",
        "      <td>           (0.75, positive)</td>\n",
        "    </tr>\n",
        "    <tr>\n",
        "      <th>6  </th>\n",
        "      <td>                   Guardians of the Galaxy</td>\n",
        "      <td> [\"The big-screen debut of this underdog crew o...</td>\n",
        "      <td>           (0.75, positive)</td>\n",
        "    </tr>\n",
        "    <tr>\n",
        "      <th>7  </th>\n",
        "      <td>       Captain America: The Winter Soldier</td>\n",
        "      <td> [\"With Chris Evans charismatic as ever in the ...</td>\n",
        "      <td>           (0.75, positive)</td>\n",
        "    </tr>\n",
        "    <tr>\n",
        "      <th>8  </th>\n",
        "      <td>            Dawn of the Planet of the Apes</td>\n",
        "      <td> [\"A smart, involving sequel\", \"Forget motion-c...</td>\n",
        "      <td>           (0.75, positive)</td>\n",
        "    </tr>\n",
        "    <tr>\n",
        "      <th>9  </th>\n",
        "      <td>                                Big Hero 6</td>\n",
        "      <td> [\"A lively and creative animated film about a ...</td>\n",
        "      <td>           (0.75, positive)</td>\n",
        "    </tr>\n",
        "    <tr>\n",
        "      <th>10 </th>\n",
        "      <td>                              Interstellar</td>\n",
        "      <td> [\"Despite some awkward pacing, easy sentimenta...</td>\n",
        "      <td>            (0.7, positive)</td>\n",
        "    </tr>\n",
        "    <tr>\n",
        "      <th>11 </th>\n",
        "      <td>                                  Godzilla</td>\n",
        "      <td> [\"It might just drop your jaw once or twice, b...</td>\n",
        "      <td>            (0.8, positive)</td>\n",
        "    </tr>\n",
        "    <tr>\n",
        "      <th>12 </th>\n",
        "      <td>                How to Train Your Dragon 2</td>\n",
        "      <td> [\"Continues a very compelling mythology I hope...</td>\n",
        "      <td>            (0.8, positive)</td>\n",
        "    </tr>\n",
        "    <tr>\n",
        "      <th>13 </th>\n",
        "      <td>                     Mr. Peabody &amp; Sherman</td>\n",
        "      <td> [\"A flawless remake that maintains the eccentr...</td>\n",
        "      <td>            (0.9, positive)</td>\n",
        "    </tr>\n",
        "    <tr>\n",
        "      <th>14 </th>\n",
        "      <td>                                     Rio 2</td>\n",
        "      <td> [\"The plot struggles to take wing at first, bu...</td>\n",
        "      <td>           (0.75, positive)</td>\n",
        "    </tr>\n",
        "    <tr>\n",
        "      <th>15 </th>\n",
        "      <td>                                      Noah</td>\n",
        "      <td> [\"The film sometimes plays like a Bible story ...</td>\n",
        "      <td>            (0.8, positive)</td>\n",
        "    </tr>\n",
        "    <tr>\n",
        "      <th>16 </th>\n",
        "      <td>              Teenage Mutant Ninja Turtles</td>\n",
        "      <td> [\"It has hints of heart, and one or two good s...</td>\n",
        "      <td>           (0.45, positive)</td>\n",
        "    </tr>\n",
        "    <tr>\n",
        "      <th>17 </th>\n",
        "      <td>                                   RoboCop</td>\n",
        "      <td> [\"Most older viewers will probably feel that R...</td>\n",
        "      <td>            (0.8, positive)</td>\n",
        "    </tr>\n",
        "    <tr>\n",
        "      <th>18 </th>\n",
        "      <td>                    300: Rise of an Empire</td>\n",
        "      <td> [\"Black Sabbath's War Pigs coats the end credi...</td>\n",
        "      <td>            (0.5, negative)</td>\n",
        "    </tr>\n",
        "    <tr>\n",
        "      <th>19 </th>\n",
        "      <td>                                  Hercules</td>\n",
        "      <td> [\"Director Brett Ratner's vision to debunk all...</td>\n",
        "      <td>            (0.7, positive)</td>\n",
        "    </tr>\n",
        "    <tr>\n",
        "      <th>20 </th>\n",
        "      <td>                         The Expendables 3</td>\n",
        "      <td> [\"Ultimately, complacency overshadows creativi...</td>\n",
        "      <td>           (0.55, positive)</td>\n",
        "    </tr>\n",
        "    <tr>\n",
        "      <th>21 </th>\n",
        "      <td>                             Transcendence</td>\n",
        "      <td> [\"Pfister seems afraid to recognize the humor ...</td>\n",
        "      <td>           (0.55, positive)</td>\n",
        "    </tr>\n",
        "    <tr>\n",
        "      <th>22 </th>\n",
        "      <td>                                 Divergent</td>\n",
        "      <td> [\"Divergent takes its time in setting up the s...</td>\n",
        "      <td>            (0.7, positive)</td>\n",
        "    </tr>\n",
        "    <tr>\n",
        "      <th>23 </th>\n",
        "      <td>                                      Fury</td>\n",
        "      <td> [\"...Fury generally comes off as a far more en...</td>\n",
        "      <td>            (0.8, positive)</td>\n",
        "    </tr>\n",
        "    <tr>\n",
        "      <th>24 </th>\n",
        "      <td>                                   Pompeii</td>\n",
        "      <td> [\"Sure, every character beat is hammy and pred...</td>\n",
        "      <td>           (0.55, positive)</td>\n",
        "    </tr>\n",
        "    <tr>\n",
        "      <th>25 </th>\n",
        "      <td>                         The Monuments Men</td>\n",
        "      <td> [\"Much of the story could have been introduced...</td>\n",
        "      <td>           (0.75, positive)</td>\n",
        "    </tr>\n",
        "    <tr>\n",
        "      <th>26 </th>\n",
        "      <td>                            Dracula Untold</td>\n",
        "      <td> [\"...another misguided contemporary update of ...</td>\n",
        "      <td>           (0.55, positive)</td>\n",
        "    </tr>\n",
        "    <tr>\n",
        "      <th>27 </th>\n",
        "      <td>                    The Legend of Hercules</td>\n",
        "      <td> [\"Lunkhead Kellan Lutz is the demigod's densit...</td>\n",
        "      <td>           (0.65, negative)</td>\n",
        "    </tr>\n",
        "    <tr>\n",
        "      <th>28 </th>\n",
        "      <td>           Legends of Oz: Dorothy\u0092s Return</td>\n",
        "      <td> [\"Despite substandard animation, this brightly...</td>\n",
        "      <td>            (0.7, positive)</td>\n",
        "    </tr>\n",
        "    <tr>\n",
        "      <th>29 </th>\n",
        "      <td>                            Need for Speed</td>\n",
        "      <td> [\"What is most surprising about Need For Speed...</td>\n",
        "      <td>           (0.55, negative)</td>\n",
        "    </tr>\n",
        "    <tr>\n",
        "      <th>...</th>\n",
        "      <td>...</td>\n",
        "      <td>...</td>\n",
        "      <td>...</td>\n",
        "    </tr>\n",
        "    <tr>\n",
        "      <th>153</th>\n",
        "      <td>                    Cotton Comes to Harlem</td>\n",
        "      <td> [\"Harlem is mostly about the ride, with chases...</td>\n",
        "      <td> (0.142857142857, positive)</td>\n",
        "    </tr>\n",
        "    <tr>\n",
        "      <th>154</th>\n",
        "      <td>                               Hidden Away</td>\n",
        "      <td>                                              \"NA\"</td>\n",
        "      <td>                       None</td>\n",
        "    </tr>\n",
        "    <tr>\n",
        "      <th>155</th>\n",
        "      <td>                    Doc Holliday's Revenge</td>\n",
        "      <td>                                              \"NA\"</td>\n",
        "      <td>                       None</td>\n",
        "    </tr>\n",
        "    <tr>\n",
        "      <th>156</th>\n",
        "      <td>                               A Fine Step</td>\n",
        "      <td> [\"Thoughtful tale of horses and grief has some...</td>\n",
        "      <td>            (1.0, positive)</td>\n",
        "    </tr>\n",
        "    <tr>\n",
        "      <th>157</th>\n",
        "      <td>    Beyond the Brick: A LEGO Brickumentary</td>\n",
        "      <td> [\"It's kind of a feature-length ad for the toy...</td>\n",
        "      <td>            (1.0, positive)</td>\n",
        "    </tr>\n",
        "    <tr>\n",
        "      <th>158</th>\n",
        "      <td>                                    Walter</td>\n",
        "      <td> [\"While the original Mitty was a heartbreaking...</td>\n",
        "      <td>            (0.6, positive)</td>\n",
        "    </tr>\n",
        "    <tr>\n",
        "      <th>159</th>\n",
        "      <td>                   The Sisterhood of Night</td>\n",
        "      <td>                                              \"NA\"</td>\n",
        "      <td>                       None</td>\n",
        "    </tr>\n",
        "    <tr>\n",
        "      <th>160</th>\n",
        "      <td>                                     Jesse</td>\n",
        "      <td>                                              \"NA\"</td>\n",
        "      <td>                       None</td>\n",
        "    </tr>\n",
        "    <tr>\n",
        "      <th>161</th>\n",
        "      <td>                            Il conformista</td>\n",
        "      <td> [\"It's yesteryear remembered with a combinatio...</td>\n",
        "      <td>           (0.95, positive)</td>\n",
        "    </tr>\n",
        "    <tr>\n",
        "      <th>162</th>\n",
        "      <td>                             Water &amp; Power</td>\n",
        "      <td> [\"Mehta explores the politics of religion to h...</td>\n",
        "      <td>            (1.0, positive)</td>\n",
        "    </tr>\n",
        "    <tr>\n",
        "      <th>163</th>\n",
        "      <td>  Born to Fly: Elizabeth Streb vs. Gravity</td>\n",
        "      <td>                                              \"NA\"</td>\n",
        "      <td>                       None</td>\n",
        "    </tr>\n",
        "    <tr>\n",
        "      <th>164</th>\n",
        "      <td>                America Is Still The Place</td>\n",
        "      <td>                                              \"NA\"</td>\n",
        "      <td>                       None</td>\n",
        "    </tr>\n",
        "    <tr>\n",
        "      <th>165</th>\n",
        "      <td>                              Subconscious</td>\n",
        "      <td>                                              \"NA\"</td>\n",
        "      <td>                       None</td>\n",
        "    </tr>\n",
        "    <tr>\n",
        "      <th>166</th>\n",
        "      <td>                        As It Is in Heaven</td>\n",
        "      <td> [\"Even if As It Is in Heaven doesn't have the ...</td>\n",
        "      <td> (0.909090909091, positive)</td>\n",
        "    </tr>\n",
        "    <tr>\n",
        "      <th>167</th>\n",
        "      <td>                                  Pancakes</td>\n",
        "      <td>                                              \"NA\"</td>\n",
        "      <td>                       None</td>\n",
        "    </tr>\n",
        "    <tr>\n",
        "      <th>168</th>\n",
        "      <td>                                 Locker 13</td>\n",
        "      <td> [\"As a die-hard fan of the horror anthology fi...</td>\n",
        "      <td>          (0.625, positive)</td>\n",
        "    </tr>\n",
        "    <tr>\n",
        "      <th>169</th>\n",
        "      <td>                      All You Need Is Love</td>\n",
        "      <td> [\"Little more than a ramblingly extended PSA.\"...</td>\n",
        "      <td>           (0.75, positive)</td>\n",
        "    </tr>\n",
        "    <tr>\n",
        "      <th>170</th>\n",
        "      <td>                                      Test</td>\n",
        "      <td> [\"Writer/director Chris Mason Johnson does an ...</td>\n",
        "      <td> (0.777777777778, positive)</td>\n",
        "    </tr>\n",
        "    <tr>\n",
        "      <th>171</th>\n",
        "      <td>                              Night Lights</td>\n",
        "      <td> [\"So much more than a football movie.\", \"What ...</td>\n",
        "      <td>            (0.7, positive)</td>\n",
        "    </tr>\n",
        "    <tr>\n",
        "      <th>172</th>\n",
        "      <td>                              Jesus People</td>\n",
        "      <td> [\"This gentle - too gentle - mockumentary bare...</td>\n",
        "      <td>           (0.75, positive)</td>\n",
        "    </tr>\n",
        "    <tr>\n",
        "      <th>173</th>\n",
        "      <td>                                  The Word</td>\n",
        "      <td> [\"A basic cheapness, both of intent and execut...</td>\n",
        "      <td>           (0.75, positive)</td>\n",
        "    </tr>\n",
        "    <tr>\n",
        "      <th>174</th>\n",
        "      <td>                    Archaeology of a Woman</td>\n",
        "      <td> [\"Mysterious, suspenseful, engrossing and fore...</td>\n",
        "      <td>            (1.0, positive)</td>\n",
        "    </tr>\n",
        "    <tr>\n",
        "      <th>175</th>\n",
        "      <td>              Sanctuary; Quite a Conundrum</td>\n",
        "      <td>                                              \"NA\"</td>\n",
        "      <td>                       None</td>\n",
        "    </tr>\n",
        "    <tr>\n",
        "      <th>176</th>\n",
        "      <td>                            Heroes of Dirt</td>\n",
        "      <td>                                              \"NA\"</td>\n",
        "      <td>                       None</td>\n",
        "    </tr>\n",
        "    <tr>\n",
        "      <th>177</th>\n",
        "      <td>                     Escaping the Holocost</td>\n",
        "      <td>                                              \"NA\"</td>\n",
        "      <td>                       None</td>\n",
        "    </tr>\n",
        "    <tr>\n",
        "      <th>178</th>\n",
        "      <td>                  An American in Hollywood</td>\n",
        "      <td>                                              \"NA\"</td>\n",
        "      <td>                       None</td>\n",
        "    </tr>\n",
        "    <tr>\n",
        "      <th>179</th>\n",
        "      <td>                             Cheap Thrills</td>\n",
        "      <td> [\"Gird your stomach for Cheap Thrills, a blood...</td>\n",
        "      <td>            (0.8, positive)</td>\n",
        "    </tr>\n",
        "    <tr>\n",
        "      <th>180</th>\n",
        "      <td>            The Past is a Grotesque Animal</td>\n",
        "      <td> [\"Jason Miller's fantastic new documentary ......</td>\n",
        "      <td>            (1.0, positive)</td>\n",
        "    </tr>\n",
        "    <tr>\n",
        "      <th>181</th>\n",
        "      <td>                      Dude, Where's My Dog</td>\n",
        "      <td>                                              \"NA\"</td>\n",
        "      <td>                       None</td>\n",
        "    </tr>\n",
        "    <tr>\n",
        "      <th>182</th>\n",
        "      <td>                                 Dry Spell</td>\n",
        "      <td>                                               NaN</td>\n",
        "      <td>                       None</td>\n",
        "    </tr>\n",
        "  </tbody>\n",
        "</table>\n",
        "<p>183 rows \u00d7 3 columns</p>\n",
        "</div>"
       ],
       "metadata": {},
       "output_type": "pyout",
       "prompt_number": 413,
       "text": [
        "                                          Name  \\\n",
        "0    The Hobbit: The Battle of the Five Armies   \n",
        "1              Transformers: Age of Extinction   \n",
        "2                   X-Men: Days of Future Past   \n",
        "3                     The Amazing Spider-Man 2   \n",
        "4                                   Maleficent   \n",
        "5                             Edge of Tomorrow   \n",
        "6                      Guardians of the Galaxy   \n",
        "7          Captain America: The Winter Soldier   \n",
        "8               Dawn of the Planet of the Apes   \n",
        "9                                   Big Hero 6   \n",
        "10                                Interstellar   \n",
        "11                                    Godzilla   \n",
        "12                  How to Train Your Dragon 2   \n",
        "13                       Mr. Peabody & Sherman   \n",
        "14                                       Rio 2   \n",
        "15                                        Noah   \n",
        "16                Teenage Mutant Ninja Turtles   \n",
        "17                                     RoboCop   \n",
        "18                      300: Rise of an Empire   \n",
        "19                                    Hercules   \n",
        "20                           The Expendables 3   \n",
        "21                               Transcendence   \n",
        "22                                   Divergent   \n",
        "23                                        Fury   \n",
        "24                                     Pompeii   \n",
        "25                           The Monuments Men   \n",
        "26                              Dracula Untold   \n",
        "27                      The Legend of Hercules   \n",
        "28             Legends of Oz: Dorothy\u0092s Return   \n",
        "29                              Need for Speed   \n",
        "..                                         ...   \n",
        "153                     Cotton Comes to Harlem   \n",
        "154                                Hidden Away   \n",
        "155                     Doc Holliday's Revenge   \n",
        "156                                A Fine Step   \n",
        "157     Beyond the Brick: A LEGO Brickumentary   \n",
        "158                                     Walter   \n",
        "159                    The Sisterhood of Night   \n",
        "160                                      Jesse   \n",
        "161                             Il conformista   \n",
        "162                              Water & Power   \n",
        "163   Born to Fly: Elizabeth Streb vs. Gravity   \n",
        "164                 America Is Still The Place   \n",
        "165                               Subconscious   \n",
        "166                         As It Is in Heaven   \n",
        "167                                   Pancakes   \n",
        "168                                  Locker 13   \n",
        "169                       All You Need Is Love   \n",
        "170                                       Test   \n",
        "171                               Night Lights   \n",
        "172                               Jesus People   \n",
        "173                                   The Word   \n",
        "174                     Archaeology of a Woman   \n",
        "175               Sanctuary; Quite a Conundrum   \n",
        "176                             Heroes of Dirt   \n",
        "177                      Escaping the Holocost   \n",
        "178                   An American in Hollywood   \n",
        "179                              Cheap Thrills   \n",
        "180             The Past is a Grotesque Animal   \n",
        "181                       Dude, Where's My Dog   \n",
        "182                                  Dry Spell   \n",
        "\n",
        "                                          Reviews_JSON  \\\n",
        "0                                                 \"NA\"   \n",
        "1    [\"Metal on metal still the name of the game\", ...   \n",
        "2    [\"It seems like all the summ er blockbusters t...   \n",
        "3    [\"Okay, I don't want to hang the failure of th...   \n",
        "4    [\"Maleficent became one of Disney's premiere b...   \n",
        "5    [\"Cruise is a winner all the way, whether he's...   \n",
        "6    [\"The big-screen debut of this underdog crew o...   \n",
        "7    [\"With Chris Evans charismatic as ever in the ...   \n",
        "8    [\"A smart, involving sequel\", \"Forget motion-c...   \n",
        "9    [\"A lively and creative animated film about a ...   \n",
        "10   [\"Despite some awkward pacing, easy sentimenta...   \n",
        "11   [\"It might just drop your jaw once or twice, b...   \n",
        "12   [\"Continues a very compelling mythology I hope...   \n",
        "13   [\"A flawless remake that maintains the eccentr...   \n",
        "14   [\"The plot struggles to take wing at first, bu...   \n",
        "15   [\"The film sometimes plays like a Bible story ...   \n",
        "16   [\"It has hints of heart, and one or two good s...   \n",
        "17   [\"Most older viewers will probably feel that R...   \n",
        "18   [\"Black Sabbath's War Pigs coats the end credi...   \n",
        "19   [\"Director Brett Ratner's vision to debunk all...   \n",
        "20   [\"Ultimately, complacency overshadows creativi...   \n",
        "21   [\"Pfister seems afraid to recognize the humor ...   \n",
        "22   [\"Divergent takes its time in setting up the s...   \n",
        "23   [\"...Fury generally comes off as a far more en...   \n",
        "24   [\"Sure, every character beat is hammy and pred...   \n",
        "25   [\"Much of the story could have been introduced...   \n",
        "26   [\"...another misguided contemporary update of ...   \n",
        "27   [\"Lunkhead Kellan Lutz is the demigod's densit...   \n",
        "28   [\"Despite substandard animation, this brightly...   \n",
        "29   [\"What is most surprising about Need For Speed...   \n",
        "..                                                 ...   \n",
        "153  [\"Harlem is mostly about the ride, with chases...   \n",
        "154                                               \"NA\"   \n",
        "155                                               \"NA\"   \n",
        "156  [\"Thoughtful tale of horses and grief has some...   \n",
        "157  [\"It's kind of a feature-length ad for the toy...   \n",
        "158  [\"While the original Mitty was a heartbreaking...   \n",
        "159                                               \"NA\"   \n",
        "160                                               \"NA\"   \n",
        "161  [\"It's yesteryear remembered with a combinatio...   \n",
        "162  [\"Mehta explores the politics of religion to h...   \n",
        "163                                               \"NA\"   \n",
        "164                                               \"NA\"   \n",
        "165                                               \"NA\"   \n",
        "166  [\"Even if As It Is in Heaven doesn't have the ...   \n",
        "167                                               \"NA\"   \n",
        "168  [\"As a die-hard fan of the horror anthology fi...   \n",
        "169  [\"Little more than a ramblingly extended PSA.\"...   \n",
        "170  [\"Writer/director Chris Mason Johnson does an ...   \n",
        "171  [\"So much more than a football movie.\", \"What ...   \n",
        "172  [\"This gentle - too gentle - mockumentary bare...   \n",
        "173  [\"A basic cheapness, both of intent and execut...   \n",
        "174  [\"Mysterious, suspenseful, engrossing and fore...   \n",
        "175                                               \"NA\"   \n",
        "176                                               \"NA\"   \n",
        "177                                               \"NA\"   \n",
        "178                                               \"NA\"   \n",
        "179  [\"Gird your stomach for Cheap Thrills, a blood...   \n",
        "180  [\"Jason Miller's fantastic new documentary ......   \n",
        "181                                               \"NA\"   \n",
        "182                                                NaN   \n",
        "\n",
        "                          Score  \n",
        "0                          None  \n",
        "1               (0.6, negative)  \n",
        "2              (0.75, positive)  \n",
        "3              (0.65, positive)  \n",
        "4              (0.75, positive)  \n",
        "5              (0.75, positive)  \n",
        "6              (0.75, positive)  \n",
        "7              (0.75, positive)  \n",
        "8              (0.75, positive)  \n",
        "9              (0.75, positive)  \n",
        "10              (0.7, positive)  \n",
        "11              (0.8, positive)  \n",
        "12              (0.8, positive)  \n",
        "13              (0.9, positive)  \n",
        "14             (0.75, positive)  \n",
        "15              (0.8, positive)  \n",
        "16             (0.45, positive)  \n",
        "17              (0.8, positive)  \n",
        "18              (0.5, negative)  \n",
        "19              (0.7, positive)  \n",
        "20             (0.55, positive)  \n",
        "21             (0.55, positive)  \n",
        "22              (0.7, positive)  \n",
        "23              (0.8, positive)  \n",
        "24             (0.55, positive)  \n",
        "25             (0.75, positive)  \n",
        "26             (0.55, positive)  \n",
        "27             (0.65, negative)  \n",
        "28              (0.7, positive)  \n",
        "29             (0.55, negative)  \n",
        "..                          ...  \n",
        "153  (0.142857142857, positive)  \n",
        "154                        None  \n",
        "155                        None  \n",
        "156             (1.0, positive)  \n",
        "157             (1.0, positive)  \n",
        "158             (0.6, positive)  \n",
        "159                        None  \n",
        "160                        None  \n",
        "161            (0.95, positive)  \n",
        "162             (1.0, positive)  \n",
        "163                        None  \n",
        "164                        None  \n",
        "165                        None  \n",
        "166  (0.909090909091, positive)  \n",
        "167                        None  \n",
        "168           (0.625, positive)  \n",
        "169            (0.75, positive)  \n",
        "170  (0.777777777778, positive)  \n",
        "171             (0.7, positive)  \n",
        "172            (0.75, positive)  \n",
        "173            (0.75, positive)  \n",
        "174             (1.0, positive)  \n",
        "175                        None  \n",
        "176                        None  \n",
        "177                        None  \n",
        "178                        None  \n",
        "179             (0.8, positive)  \n",
        "180             (1.0, positive)  \n",
        "181                        None  \n",
        "182                        None  \n",
        "\n",
        "[183 rows x 3 columns]"
       ]
      }
     ],
     "prompt_number": 413
    },
    {
     "cell_type": "code",
     "collapsed": false,
     "input": [
      "def Review_Finder(name): \n",
      "    try: \n",
      "        #movie = str(\"'\" + name + \"'\")\n",
      "        name1 = str(name)\n",
      "        ReviewDF2 = pd.read_csv('/Users/pday/Harvard/AC209/Project/Reviews_2014.csv')\n",
      "        ReviewDF = ReviewDF2.set_index('Name')\n",
      "        ReviewSTR = json.loads(ReviewDF.loc[name1][0])\n",
      "        #print ReviewSTR\n",
      "        print len(ReviewSTR)\n",
      "        \n",
      "        if ReviewSTR == 'NA':\n",
      "            print 'No movie review present'\n",
      "            Movie_DF = 0\n",
      "        else:\n",
      "            Movie_DF = pd.DataFrame(ReviewSTR, columns = [name1])\n",
      "\n",
      "        return Movie_DF\n",
      "    \n",
      "    except Exception, e:\n",
      "        print 'Failed in review finder'\n",
      "        print str(e)"
     ],
     "language": "python",
     "metadata": {},
     "outputs": [],
     "prompt_number": 375
    },
    {
     "cell_type": "code",
     "collapsed": false,
     "input": [
      "def tag_pos(tokenized):\n",
      "    tagged = nltk.pos_tag(tokenized)\n",
      "    \n",
      "    #print \"The tags are: \", tagged\n",
      "    #print\n",
      "    \n",
      "    descrip = re.findall(r'\\(\\u\\'(\\w*)\\',\\s\\'(VB\\w?|JJ\\w?|NN\\w?|RB\\w?)\\''\n",
      "                         , str(tagged))\n",
      "    \n",
      "    #print \"The descripitive parts of the sentance are: \", descrip\n",
      "    #print \n",
      "    \n",
      "    parts = re.findall(r'\\(\\'(\\w*)\\'', str(descrip))\n",
      "    \n",
      "    return parts"
     ],
     "language": "python",
     "metadata": {},
     "outputs": [],
     "prompt_number": 305
    },
    {
     "cell_type": "code",
     "collapsed": false,
     "input": [
      "def classifer_probabilty(sent):\n",
      "    try: \n",
      "        tokenized = nltk.word_tokenize(sent)\n",
      "        tags = tag_pos(tokenized)\n",
      "        \n",
      "        #print \"The meaningful words to review: \", tags\n",
      "        \n",
      "        probs = map(lambda x: classifier.prob_classify({x: True}), \n",
      "                    tags)\n",
      "        pos_review = zip(tags, map(lambda x: x.prob(\"pos\"), probs))\n",
      "        neg_review = zip(tags, map(lambda y: y.prob(\"neg\"), probs))\n",
      "        \n",
      "        #print \"---------------------------------------------------------\"\n",
      "        #print \"The movie review's words probability of being positive\"\n",
      "        #print  pos_review\n",
      "        #print \"---------------------------------------------------------\"\n",
      "\n",
      "    except Exception, e:\n",
      "        print 'Failed in classifer probability function'\n",
      "        print str(e)\n",
      "\n",
      "    return pos_review, neg_review"
     ],
     "language": "python",
     "metadata": {},
     "outputs": [],
     "prompt_number": 306
    },
    {
     "cell_type": "code",
     "collapsed": false,
     "input": [
      "def pos_parts(review):\n",
      "    try:\n",
      "        pos=[]\n",
      "        neg=[]\n",
      "        for x in review:\n",
      "            if (x[1] > 0.5) == True:\n",
      "                pos.append(x)\n",
      "            elif (x[1] < 0.5) == True:\n",
      "                neg.append((x[0],1-x[1]))\n",
      "    \n",
      "    except Exception, e:\n",
      "        print 'Failed in positive/negative word ratings function'\n",
      "        print str(e)\n",
      "        \n",
      "    return pos,neg"
     ],
     "language": "python",
     "metadata": {},
     "outputs": [],
     "prompt_number": 307
    },
    {
     "cell_type": "code",
     "collapsed": false,
     "input": [
      "def review_sentiment(sent):\n",
      "    try:\n",
      "        pos_prob, neg_prob = classifer_probabilty(sent)\n",
      "        positive_review, negative_review = pos_parts(pos_prob)\n",
      "\n",
      "        #print 'There are', len(pos_prob), 'words in the review'\n",
      "        #print len(positive_review), 'are positive'\n",
      "        #print len(negative_review), 'are negative'\n",
      "        #print len(pos_prob) - (len(negative_review) + \n",
      "        #                   len(positive_review)), 'are netural'\n",
      "        #print \n",
      "    \n",
      "        if len(positive_review) > len(negative_review):\n",
      "            #print 'The movie review is positive with an average score of', np.mean([x[1] for x in positive_review])\n",
      "            review = 'pos' \n",
      "            #print \"Movie has been tagged as\", review, \"\\n\"\n",
      "        \n",
      "        elif len(negative_review) > len(positive_review):\n",
      "            #print 'The movie review is negative with an average score of', np.mean([x[1] for x in negative_review])\n",
      "            review = 'neg'\n",
      "            #print \"Movie has been tagged as\", review, \"\\n\"\n",
      "            \n",
      "        else:\n",
      "            #print 'Movie review is netural'\n",
      "            review = 'net'\n",
      "            #print \"Movie has been tagged as\", review, \"\\n\"\n",
      "            \n",
      "    except Exception, e:\n",
      "        print 'Failed in sentiment review function'\n",
      "        print str(e)\n",
      "        \n",
      "    return review"
     ],
     "language": "python",
     "metadata": {},
     "outputs": [],
     "prompt_number": 383
    },
    {
     "cell_type": "code",
     "collapsed": false,
     "input": [
      "def assign_reviews(data):\n",
      "    try:\n",
      "        reviews = []\n",
      "        for index, row in data.iterrows():\n",
      "                reviews.append(review_sentiment(row[0]))\n",
      "        print reviews\n",
      "        data['score'] = reviews\n",
      "    \n",
      "    except Exception, e:\n",
      "        print 'Failed in assigment of review function'\n",
      "        print str(e)\n",
      "        \n",
      "    return data"
     ],
     "language": "python",
     "metadata": {},
     "outputs": [],
     "prompt_number": 382
    },
    {
     "cell_type": "code",
     "collapsed": false,
     "input": [
      "def score_review(data):\n",
      "    try:\n",
      "        net_count = list(data.score.values).count('net')\n",
      "        pos_count = list(data.score.values).count('pos')\n",
      "        neg_count = list(data.score.values).count('neg')\n",
      "\n",
      "        all_reviews = len(data)\n",
      "\n",
      "        if pos_count > neg_count:\n",
      "            pos_precent = pos_count*1.0/all_reviews*1.0\n",
      "            return pos_precent, \"positive\"\n",
      "        elif neg_count > pos_count:\n",
      "            neg_percent = neg_count*1.0/all_reviews*1.0\n",
      "            return neg_percent, \"negative\"\n",
      "        \n",
      "    except Exception, e:\n",
      "        print 'Failed in score review function'\n",
      "        print str(e)"
     ],
     "language": "python",
     "metadata": {},
     "outputs": [],
     "prompt_number": 411
    },
    {
     "cell_type": "code",
     "collapsed": false,
     "input": [
      "data = Review_Finder('Transformers: Age of Extinction')\n",
      "data2 = assign_reviews(data)\n",
      "score_review(data2)"
     ],
     "language": "python",
     "metadata": {},
     "outputs": [
      {
       "output_type": "stream",
       "stream": "stdout",
       "text": [
        "20\n",
        "['net', 'pos', 'neg', 'neg', 'neg', 'pos', 'neg', 'pos', 'neg', 'neg', 'neg', 'neg', 'neg', 'neg', 'neg', 'pos', 'neg', 'pos', 'pos', 'pos']"
       ]
      },
      {
       "output_type": "stream",
       "stream": "stdout",
       "text": [
        "\n"
       ]
      },
      {
       "metadata": {},
       "output_type": "pyout",
       "prompt_number": 410,
       "text": [
        "(0.6, 'negative')"
       ]
      }
     ],
     "prompt_number": 410
    },
    {
     "cell_type": "code",
     "collapsed": false,
     "input": [],
     "language": "python",
     "metadata": {},
     "outputs": []
    }
   ],
   "metadata": {}
  }
 ]
}