{
 "metadata": {
  "name": "",
  "signature": "sha256:75217047260daed417c87b94448bdc3a2bb2366d0d81db0cb65ab9a9c42be9cd"
 },
 "nbformat": 3,
 "nbformat_minor": 0,
 "worksheets": [
  {
   "cells": [
    {
     "cell_type": "code",
     "collapsed": false,
     "input": [
      "import numpy as np\n",
      "import pandas as pd\n",
      "import collections\n",
      "import itertools\n",
      "import sklearn.cross_validation\n",
      "\n",
      "import nltk.classify.util\n",
      "from nltk.classify import NaiveBayesClassifier\n",
      "from nltk.corpus import stopwords\n",
      "from nltk.probability import FreqDist\n",
      "from nltk.corpus import movie_reviews\n",
      "from nltk.collocations import BigramCollocationFinder\n",
      "from nltk.metrics import BigramAssocMeasures\n",
      "from nltk.corpus import stopwords\n",
      "\n",
      "import re\n",
      "import zipfile\n",
      "import json\n",
      "\n",
      "%matplotlib inline\n",
      "import matplotlib.pyplot as plt"
     ],
     "language": "python",
     "metadata": {},
     "outputs": [],
     "prompt_number": 1
    },
    {
     "cell_type": "code",
     "collapsed": false,
     "input": [
      "# Function to make dictionary of (\"word\", True) for Naive bayes classifier\n",
      "def word_feats(words):\n",
      "    return dict([(word, True) for word in words])\n",
      "\n",
      "# Function to make dictionary of ((\"word\", 'word'), True) for Naive bayes classifier\n",
      "def bigram_word_feats(words, score_fn=BigramAssocMeasures.chi_sq, n=200):\n",
      "    bigram_finder = BigramCollocationFinder.from_words(words)\n",
      "    bigrams = bigram_finder.nbest(score_fn, n)\n",
      "    return dict([(ngram, True) for ngram in itertools.chain(words, bigrams)])\n",
      "\n",
      "def stopword_filtered_word_feats(words):\n",
      "    return dict([(word, True) for word in words if word not in stopset])"
     ],
     "language": "python",
     "metadata": {},
     "outputs": [],
     "prompt_number": 35
    },
    {
     "cell_type": "code",
     "collapsed": false,
     "input": [
      "def evaluate_classifier(featx):\n",
      "    \n",
      "    negids = movie_reviews.fileids('neg')\n",
      "    posids = movie_reviews.fileids('pos')\n",
      " \n",
      "    negfeats = [(featx(movie_reviews.words(fileids=[f])), 'neg') for f in negids]\n",
      "    posfeats = [(featx(movie_reviews.words(fileids=[f])), 'pos') for f in posids]\n",
      " \n",
      "    negcutoff = len(negfeats)*3/4\n",
      "    poscutoff = len(posfeats)*3/4\n",
      " \n",
      "    trainfeats = negfeats[:negcutoff] + posfeats[:poscutoff]\n",
      "    testfeats = negfeats[negcutoff:] + posfeats[poscutoff:]\n",
      " \n",
      "    classifier = NaiveBayesClassifier.train(trainfeats)\n",
      "    refsets = collections.defaultdict(set)\n",
      "    testsets = collections.defaultdict(set)\n",
      " \n",
      "    for i, (feats, label) in enumerate(testfeats):\n",
      "            refsets[label].add(i)\n",
      "            observed = classifier.classify(feats)\n",
      "            testsets[observed].add(i)\n",
      " \n",
      "    print 'accuracy:', nltk.classify.util.accuracy(classifier, testfeats)\n",
      "    print 'pos precision:', nltk.metrics.precision(refsets['pos'], testsets['pos'])\n",
      "    print 'pos recall:', nltk.metrics.recall(refsets['pos'], testsets['pos'])\n",
      "    print 'neg precision:', nltk.metrics.precision(refsets['neg'], testsets['neg'])\n",
      "    print 'neg recall:', nltk.metrics.recall(refsets['neg'], testsets['neg'])\n",
      "    classifier.show_most_informative_features()\n",
      "    top15_important = classifier.most_informative_features()[:15]\n",
      "\n",
      "    return classifier"
     ],
     "language": "python",
     "metadata": {},
     "outputs": [],
     "prompt_number": 3
    },
    {
     "cell_type": "code",
     "collapsed": false,
     "input": [
      "class_naive = evaluate_classifier(word_feats)"
     ],
     "language": "python",
     "metadata": {},
     "outputs": [
      {
       "output_type": "stream",
       "stream": "stdout",
       "text": [
        "accuracy: "
       ]
      },
      {
       "output_type": "stream",
       "stream": "stdout",
       "text": [
        "0.728\n",
        "pos precision: 0.651595744681\n",
        "pos recall: 0.98\n",
        "neg precision: 0.959677419355\n",
        "neg recall: 0.476\n",
        "Most Informative Features\n",
        "             magnificent = True              pos : neg    =     15.0 : 1.0"
       ]
      },
      {
       "output_type": "stream",
       "stream": "stdout",
       "text": [
        "\n",
        "             outstanding = True              pos : neg    =     13.6 : 1.0\n",
        "               insulting = True              neg : pos    =     13.0 : 1.0\n",
        "              vulnerable = True              pos : neg    =     12.3 : 1.0\n",
        "               ludicrous = True              neg : pos    =     11.8 : 1.0\n",
        "                  avoids = True              pos : neg    =     11.7 : 1.0\n",
        "             uninvolving = True              neg : pos    =     11.7 : 1.0\n",
        "              astounding = True              pos : neg    =     10.3 : 1.0\n",
        "             fascination = True              pos : neg    =     10.3 : 1.0\n",
        "                 idiotic = True              neg : pos    =      9.8 : 1.0\n"
       ]
      }
     ],
     "prompt_number": 4
    },
    {
     "cell_type": "code",
     "collapsed": false,
     "input": [
      "stopset = set(stopwords.words('english'))\n",
      "class_stop = evaluate_classifier(stopword_filtered_word_feats)"
     ],
     "language": "python",
     "metadata": {},
     "outputs": [
      {
       "output_type": "stream",
       "stream": "stdout",
       "text": [
        "accuracy: "
       ]
      },
      {
       "output_type": "stream",
       "stream": "stdout",
       "text": [
        "0.726\n",
        "pos precision: 0.649867374005\n",
        "pos recall: 0.98\n",
        "neg precision: 0.959349593496\n",
        "neg recall: 0.472\n",
        "Most Informative Features\n",
        "             magnificent = True              pos : neg    =     15.0 : 1.0"
       ]
      },
      {
       "output_type": "stream",
       "stream": "stdout",
       "text": [
        "\n",
        "             outstanding = True              pos : neg    =     13.6 : 1.0\n",
        "               insulting = True              neg : pos    =     13.0 : 1.0\n",
        "              vulnerable = True              pos : neg    =     12.3 : 1.0\n",
        "               ludicrous = True              neg : pos    =     11.8 : 1.0\n",
        "                  avoids = True              pos : neg    =     11.7 : 1.0\n",
        "             uninvolving = True              neg : pos    =     11.7 : 1.0\n",
        "              astounding = True              pos : neg    =     10.3 : 1.0\n",
        "             fascination = True              pos : neg    =     10.3 : 1.0\n",
        "                 idiotic = True              neg : pos    =      9.8 : 1.0\n"
       ]
      }
     ],
     "prompt_number": 36
    },
    {
     "cell_type": "code",
     "collapsed": false,
     "input": [
      "class_bigram = evaluate_classifier(bigram_word_feats)"
     ],
     "language": "python",
     "metadata": {},
     "outputs": [
      {
       "output_type": "stream",
       "stream": "stdout",
       "text": [
        "accuracy: "
       ]
      },
      {
       "output_type": "stream",
       "stream": "stdout",
       "text": [
        "0.816\n",
        "pos precision: 0.753205128205\n",
        "pos recall: 0.94\n",
        "neg precision: 0.920212765957\n",
        "neg recall: 0.692\n",
        "Most Informative Features\n",
        "             magnificent = True              pos : neg    =     15.0 : 1.0"
       ]
      },
      {
       "output_type": "stream",
       "stream": "stdout",
       "text": [
        "\n",
        "             outstanding = True              pos : neg    =     13.6 : 1.0\n",
        "               insulting = True              neg : pos    =     13.0 : 1.0\n",
        "              vulnerable = True              pos : neg    =     12.3 : 1.0\n",
        "     (u'matt', u'damon') = True              pos : neg    =     12.3 : 1.0\n",
        "        (u'give', u'us') = True              neg : pos    =     12.3 : 1.0\n",
        "               ludicrous = True              neg : pos    =     11.8 : 1.0\n",
        "                  avoids = True              pos : neg    =     11.7 : 1.0\n",
        "             uninvolving = True              neg : pos    =     11.7 : 1.0\n",
        "  (u'absolutely', u'no') = True              neg : pos    =     10.6 : 1.0\n"
       ]
      }
     ],
     "prompt_number": 5
    },
    {
     "cell_type": "code",
     "collapsed": false,
     "input": [
      "# Import Movie budgets \n",
      "movie_budget = pd.read_csv('/Users/pday/Harvard/AC209/Project/movieRTAndBudgetData.csv')\n",
      "movie_budget.head()"
     ],
     "language": "python",
     "metadata": {},
     "outputs": [
      {
       "html": [
        "<div style=\"max-height:1000px;max-width:1500px;overflow:auto;\">\n",
        "<table border=\"1\" class=\"dataframe\">\n",
        "  <thead>\n",
        "    <tr style=\"text-align: right;\">\n",
        "      <th></th>\n",
        "      <th>AudScore</th>\n",
        "      <th>Cast</th>\n",
        "      <th>CriticsScore</th>\n",
        "      <th>Name</th>\n",
        "      <th>RTData</th>\n",
        "      <th>RTID</th>\n",
        "      <th>Rank</th>\n",
        "      <th>Ratings</th>\n",
        "      <th>RevLink</th>\n",
        "      <th>ReleaseDate</th>\n",
        "      <th>Budget</th>\n",
        "      <th>Domestic</th>\n",
        "      <th>Worldwide</th>\n",
        "      <th>Year</th>\n",
        "      <th>Month</th>\n",
        "    </tr>\n",
        "  </thead>\n",
        "  <tbody>\n",
        "    <tr>\n",
        "      <th>0</th>\n",
        "      <td> 99</td>\n",
        "      <td> [{\"name\": \"Martin Freeman (II)\", \"characters\":...</td>\n",
        "      <td> -1</td>\n",
        "      <td> The Hobbit: The Battle of the Five Armies</td>\n",
        "      <td> {\"ratings\": {\"critics_score\": -1, \"audience_sc...</td>\n",
        "      <td> 771181360</td>\n",
        "      <td> 12</td>\n",
        "      <td>       {\"critics_score\": -1, \"audience_score\": 99}</td>\n",
        "      <td> http://api.rottentomatoes.com/api/public/v1.0/...</td>\n",
        "      <td> 2014-12-17</td>\n",
        "      <td> 250000000</td>\n",
        "      <td>         0</td>\n",
        "      <td>          0</td>\n",
        "      <td> 2014</td>\n",
        "      <td> 12</td>\n",
        "    </tr>\n",
        "    <tr>\n",
        "      <th>1</th>\n",
        "      <td> 53</td>\n",
        "      <td> [{\"name\": \"Mark Wahlberg\", \"characters\": [\"Cad...</td>\n",
        "      <td> 18</td>\n",
        "      <td>           Transformers: Age of Extinction</td>\n",
        "      <td> {\"ratings\": {\"critics_score\": 18, \"audience_sc...</td>\n",
        "      <td> 771269858</td>\n",
        "      <td> 22</td>\n",
        "      <td> {\"critics_score\": 18, \"audience_score\": 53, \"c...</td>\n",
        "      <td> http://api.rottentomatoes.com/api/public/v1.0/...</td>\n",
        "      <td> 2014-06-27</td>\n",
        "      <td> 210000000</td>\n",
        "      <td> 245439076</td>\n",
        "      <td> 1081139076</td>\n",
        "      <td> 2014</td>\n",
        "      <td>  6</td>\n",
        "    </tr>\n",
        "    <tr>\n",
        "      <th>2</th>\n",
        "      <td> 92</td>\n",
        "      <td> [{\"name\": \"Hugh Jackman\", \"characters\": [\"Loga...</td>\n",
        "      <td> 92</td>\n",
        "      <td>                X-Men: Days of Future Past</td>\n",
        "      <td> {\"ratings\": {\"critics_score\": 92, \"audience_sc...</td>\n",
        "      <td> 771308692</td>\n",
        "      <td> 36</td>\n",
        "      <td> {\"critics_score\": 92, \"audience_score\": 92, \"c...</td>\n",
        "      <td> http://api.rottentomatoes.com/api/public/v1.0/...</td>\n",
        "      <td> 2014-05-23</td>\n",
        "      <td> 200000000</td>\n",
        "      <td> 233921534</td>\n",
        "      <td>  744321534</td>\n",
        "      <td> 2014</td>\n",
        "      <td>  5</td>\n",
        "    </tr>\n",
        "    <tr>\n",
        "      <th>3</th>\n",
        "      <td> 68</td>\n",
        "      <td> [{\"name\": \"Andrew Garfield\", \"characters\": [\"P...</td>\n",
        "      <td> 53</td>\n",
        "      <td>                  The Amazing Spider-Man 2</td>\n",
        "      <td> {\"ratings\": {\"critics_score\": 53, \"audience_sc...</td>\n",
        "      <td> 771249926</td>\n",
        "      <td> 37</td>\n",
        "      <td> {\"critics_score\": 53, \"audience_score\": 68, \"c...</td>\n",
        "      <td> http://api.rottentomatoes.com/api/public/v1.0/...</td>\n",
        "      <td> 2014-05-02</td>\n",
        "      <td> 200000000</td>\n",
        "      <td> 202853933</td>\n",
        "      <td>  708996336</td>\n",
        "      <td> 2014</td>\n",
        "      <td>  5</td>\n",
        "    </tr>\n",
        "    <tr>\n",
        "      <th>4</th>\n",
        "      <td> 72</td>\n",
        "      <td> [{\"name\": \"Angelina Jolie\", \"characters\": [\"Ma...</td>\n",
        "      <td> 49</td>\n",
        "      <td>                                Maleficent</td>\n",
        "      <td> {\"ratings\": {\"critics_score\": 49, \"audience_sc...</td>\n",
        "      <td> 771304593</td>\n",
        "      <td> 57</td>\n",
        "      <td> {\"critics_score\": 49, \"audience_score\": 72, \"c...</td>\n",
        "      <td> http://api.rottentomatoes.com/api/public/v1.0/...</td>\n",
        "      <td> 2014-05-30</td>\n",
        "      <td> 180000000</td>\n",
        "      <td> 241286891</td>\n",
        "      <td>  751286891</td>\n",
        "      <td> 2014</td>\n",
        "      <td>  5</td>\n",
        "    </tr>\n",
        "  </tbody>\n",
        "</table>\n",
        "</div>"
       ],
       "metadata": {},
       "output_type": "pyout",
       "prompt_number": 6,
       "text": [
        "   AudScore                                               Cast  CriticsScore  \\\n",
        "0        99  [{\"name\": \"Martin Freeman (II)\", \"characters\":...            -1   \n",
        "1        53  [{\"name\": \"Mark Wahlberg\", \"characters\": [\"Cad...            18   \n",
        "2        92  [{\"name\": \"Hugh Jackman\", \"characters\": [\"Loga...            92   \n",
        "3        68  [{\"name\": \"Andrew Garfield\", \"characters\": [\"P...            53   \n",
        "4        72  [{\"name\": \"Angelina Jolie\", \"characters\": [\"Ma...            49   \n",
        "\n",
        "                                        Name  \\\n",
        "0  The Hobbit: The Battle of the Five Armies   \n",
        "1            Transformers: Age of Extinction   \n",
        "2                 X-Men: Days of Future Past   \n",
        "3                   The Amazing Spider-Man 2   \n",
        "4                                 Maleficent   \n",
        "\n",
        "                                              RTData       RTID  Rank  \\\n",
        "0  {\"ratings\": {\"critics_score\": -1, \"audience_sc...  771181360    12   \n",
        "1  {\"ratings\": {\"critics_score\": 18, \"audience_sc...  771269858    22   \n",
        "2  {\"ratings\": {\"critics_score\": 92, \"audience_sc...  771308692    36   \n",
        "3  {\"ratings\": {\"critics_score\": 53, \"audience_sc...  771249926    37   \n",
        "4  {\"ratings\": {\"critics_score\": 49, \"audience_sc...  771304593    57   \n",
        "\n",
        "                                             Ratings  \\\n",
        "0        {\"critics_score\": -1, \"audience_score\": 99}   \n",
        "1  {\"critics_score\": 18, \"audience_score\": 53, \"c...   \n",
        "2  {\"critics_score\": 92, \"audience_score\": 92, \"c...   \n",
        "3  {\"critics_score\": 53, \"audience_score\": 68, \"c...   \n",
        "4  {\"critics_score\": 49, \"audience_score\": 72, \"c...   \n",
        "\n",
        "                                             RevLink ReleaseDate     Budget  \\\n",
        "0  http://api.rottentomatoes.com/api/public/v1.0/...  2014-12-17  250000000   \n",
        "1  http://api.rottentomatoes.com/api/public/v1.0/...  2014-06-27  210000000   \n",
        "2  http://api.rottentomatoes.com/api/public/v1.0/...  2014-05-23  200000000   \n",
        "3  http://api.rottentomatoes.com/api/public/v1.0/...  2014-05-02  200000000   \n",
        "4  http://api.rottentomatoes.com/api/public/v1.0/...  2014-05-30  180000000   \n",
        "\n",
        "    Domestic   Worldwide  Year  Month  \n",
        "0          0           0  2014     12  \n",
        "1  245439076  1081139076  2014      6  \n",
        "2  233921534   744321534  2014      5  \n",
        "3  202853933   708996336  2014      5  \n",
        "4  241286891   751286891  2014      5  "
       ]
      }
     ],
     "prompt_number": 6
    },
    {
     "cell_type": "code",
     "collapsed": false,
     "input": [
      "# Import Moview Reviews\n",
      "movie_review = pd.read_csv('/Users/pday/Harvard/AC209/cs209-project/movieReviewsPat.csv')\n",
      "movie_names = movie_review.Name.values\n",
      "movie_review.head()"
     ],
     "language": "python",
     "metadata": {},
     "outputs": [
      {
       "html": [
        "<div style=\"max-height:1000px;max-width:1500px;overflow:auto;\">\n",
        "<table border=\"1\" class=\"dataframe\">\n",
        "  <thead>\n",
        "    <tr style=\"text-align: right;\">\n",
        "      <th></th>\n",
        "      <th>Name</th>\n",
        "      <th>Reviews_JSON</th>\n",
        "    </tr>\n",
        "  </thead>\n",
        "  <tbody>\n",
        "    <tr>\n",
        "      <th>0</th>\n",
        "      <td>      12 Years a Slave</td>\n",
        "      <td> [\"The cumulative emotional effect is devastati...</td>\n",
        "    </tr>\n",
        "    <tr>\n",
        "      <th>1</th>\n",
        "      <td>             127 Hours</td>\n",
        "      <td> [\"\", \"It's an incredible performance by Franco...</td>\n",
        "    </tr>\n",
        "    <tr>\n",
        "      <th>2</th>\n",
        "      <td>                2 Guns</td>\n",
        "      <td> [\"Washington and Wahlberg have a good time rob...</td>\n",
        "    </tr>\n",
        "    <tr>\n",
        "      <th>3</th>\n",
        "      <td> 2016: Obama\u0092s America</td>\n",
        "      <td> [\"The film is a sleepy dud, a polemic that, li...</td>\n",
        "    </tr>\n",
        "    <tr>\n",
        "      <th>4</th>\n",
        "      <td>        21 Jump Street</td>\n",
        "      <td> [\"The late-eighties TV series is rebooted with...</td>\n",
        "    </tr>\n",
        "  </tbody>\n",
        "</table>\n",
        "</div>"
       ],
       "metadata": {},
       "output_type": "pyout",
       "prompt_number": 7,
       "text": [
        "                    Name                                       Reviews_JSON\n",
        "0       12 Years a Slave  [\"The cumulative emotional effect is devastati...\n",
        "1              127 Hours  [\"\", \"It's an incredible performance by Franco...\n",
        "2                 2 Guns  [\"Washington and Wahlberg have a good time rob...\n",
        "3  2016: Obama\u0092s America  [\"The film is a sleepy dud, a polemic that, li...\n",
        "4         21 Jump Street  [\"The late-eighties TV series is rebooted with..."
       ]
      }
     ],
     "prompt_number": 7
    },
    {
     "cell_type": "code",
     "collapsed": false,
     "input": [
      "# Merge both datasets together\n",
      "compare_movie = movie_budget[['Name', 'CriticsScore', 'AudScore', 'Rank']]\n",
      "overall_mov = compare_movie.merge(movie_review, on='Name')\n",
      "overall_names = overall_mov.Name.values\n",
      "overall_mov.head()"
     ],
     "language": "python",
     "metadata": {},
     "outputs": [
      {
       "html": [
        "<div style=\"max-height:1000px;max-width:1500px;overflow:auto;\">\n",
        "<table border=\"1\" class=\"dataframe\">\n",
        "  <thead>\n",
        "    <tr style=\"text-align: right;\">\n",
        "      <th></th>\n",
        "      <th>Name</th>\n",
        "      <th>CriticsScore</th>\n",
        "      <th>AudScore</th>\n",
        "      <th>Rank</th>\n",
        "      <th>Reviews_JSON</th>\n",
        "    </tr>\n",
        "  </thead>\n",
        "  <tbody>\n",
        "    <tr>\n",
        "      <th>0</th>\n",
        "      <td> The Hobbit: The Battle of the Five Armies</td>\n",
        "      <td> -1</td>\n",
        "      <td> 99</td>\n",
        "      <td> 12</td>\n",
        "      <td> [\"It's sad that Hollywood filmmaking is so oft...</td>\n",
        "    </tr>\n",
        "    <tr>\n",
        "      <th>1</th>\n",
        "      <td>           Transformers: Age of Extinction</td>\n",
        "      <td> 18</td>\n",
        "      <td> 53</td>\n",
        "      <td> 22</td>\n",
        "      <td> [\"The few authentic inspirations to be found i...</td>\n",
        "    </tr>\n",
        "    <tr>\n",
        "      <th>2</th>\n",
        "      <td>                X-Men: Days of Future Past</td>\n",
        "      <td> 92</td>\n",
        "      <td> 92</td>\n",
        "      <td> 36</td>\n",
        "      <td> [\"Much of this takes place in the early 1970s,...</td>\n",
        "    </tr>\n",
        "    <tr>\n",
        "      <th>3</th>\n",
        "      <td>                  The Amazing Spider-Man 2</td>\n",
        "      <td> 53</td>\n",
        "      <td> 68</td>\n",
        "      <td> 37</td>\n",
        "      <td> [\"Despite the efforts of Electro, the franchis...</td>\n",
        "    </tr>\n",
        "    <tr>\n",
        "      <th>4</th>\n",
        "      <td>                                Maleficent</td>\n",
        "      <td> 49</td>\n",
        "      <td> 72</td>\n",
        "      <td> 57</td>\n",
        "      <td> [\"As for the screenplay, by Linda Woolverton, ...</td>\n",
        "    </tr>\n",
        "  </tbody>\n",
        "</table>\n",
        "</div>"
       ],
       "metadata": {},
       "output_type": "pyout",
       "prompt_number": 8,
       "text": [
        "                                        Name  CriticsScore  AudScore  Rank  \\\n",
        "0  The Hobbit: The Battle of the Five Armies            -1        99    12   \n",
        "1            Transformers: Age of Extinction            18        53    22   \n",
        "2                 X-Men: Days of Future Past            92        92    36   \n",
        "3                   The Amazing Spider-Man 2            53        68    37   \n",
        "4                                 Maleficent            49        72    57   \n",
        "\n",
        "                                        Reviews_JSON  \n",
        "0  [\"It's sad that Hollywood filmmaking is so oft...  \n",
        "1  [\"The few authentic inspirations to be found i...  \n",
        "2  [\"Much of this takes place in the early 1970s,...  \n",
        "3  [\"Despite the efforts of Electro, the franchis...  \n",
        "4  [\"As for the screenplay, by Linda Woolverton, ...  "
       ]
      }
     ],
     "prompt_number": 8
    },
    {
     "cell_type": "code",
     "collapsed": false,
     "input": [
      "# Import Movie budgets \n",
      "total_movieDF = pd.read_csv('/Users/pday/Harvard/AC209/cs209-project/movieRTAndBudgetDataAndReviews.csv')\n",
      "movie_subset = total_movieDF[['Critic', 'Name', 'Publication', 'Quote', 'Freshness']]"
     ],
     "language": "python",
     "metadata": {},
     "outputs": [],
     "prompt_number": 9
    },
    {
     "cell_type": "code",
     "collapsed": false,
     "input": [
      "movie_subset = movie_subset.set_index('Name')"
     ],
     "language": "python",
     "metadata": {},
     "outputs": [],
     "prompt_number": 10
    },
    {
     "cell_type": "code",
     "collapsed": false,
     "input": [
      "batman = movie_subset.loc['The Dark Knight Rises']"
     ],
     "language": "python",
     "metadata": {},
     "outputs": [],
     "prompt_number": 11
    },
    {
     "cell_type": "code",
     "collapsed": false,
     "input": [
      "# Function that strips out the json review objects from the movie_reviews DF\n",
      "def Review_Finder(name):\n",
      "    try: \n",
      "        movie = str(name)\n",
      "        ReviewDF2 = pd.read_csv('/Users/pday/Harvard/AC209/cs209-project/movieReviewsPat.csv')\n",
      "        ReviewDF = ReviewDF2.set_index('Name')\n",
      "        ReviewSTR = json.loads(ReviewDF.loc[movie].Reviews_JSON)\n",
      "        \n",
      "        print '###########', name, '###########'\n",
      "        print 'There are', len(ReviewSTR), 'reviews for', name\n",
      "        \n",
      "        if ReviewSTR == 'NA':\n",
      "            print 'No movie review present'\n",
      "            Movie_DF = 0\n",
      "        else:\n",
      "            Movie_DF = pd.DataFrame(ReviewSTR, columns = [movie])\n",
      "\n",
      "        return Movie_DF\n",
      "    \n",
      "    except Exception, e:\n",
      "        print 'Failed in movie data builder function'\n",
      "        print str(e)"
     ],
     "language": "python",
     "metadata": {},
     "outputs": [],
     "prompt_number": 12
    },
    {
     "cell_type": "code",
     "collapsed": false,
     "input": [
      "def review_sentiment(sent):\n",
      "    try:\n",
      "        tokenized = nltk.word_tokenize(sent)\n",
      "        tagged = nltk.pos_tag(tokenized)\n",
      "        stripped = re.findall(r'\\(\\u\\'(\\w*)\\',\\s\\'(VB\\w?|JJ\\w?|NN\\w?|RB\\w?)\\'', str(tagged))\n",
      "        tags = re.findall(r'\\(\\'(\\w*)\\'', str(stripped))\n",
      "        #print \"The meaningful words to review: \", tags\n",
      "\n",
      "        probs = map(lambda x: class_naive.prob_classify({x: True}), tags)\n",
      "        pos_prob = zip(tags, map(lambda x: x.prob(\"pos\"), probs))\n",
      "        neg_prob = zip(tags, map(lambda y: y.prob(\"neg\"), probs))\n",
      "        #print 'Pos_rev:', pos_prob, '\\n'\n",
      "\n",
      "        pos_word = []\n",
      "        neg_word = []\n",
      "        for x in pos_prob:\n",
      "            if (x[1] > 0.5) == True: pos_word.append(x)\n",
      "            elif (x[1] < 0.5) == True: neg_word.append(x) \n",
      "\n",
      "        #print 'Total Words:', len(pos_prob), 'Positive Words:',len(pos_word), 'Negative Words:', len(neg_word)\n",
      "        #print 'Netural Words:', len(pos_prob) - (len(neg_word) + len(pos_word))\n",
      "\n",
      "        if len(pos_word) > len(neg_word): review = 'pos' \n",
      "        elif len(pos_word) < len(neg_word): review = 'neg'\n",
      "        else: review = 'net'\n",
      "\n",
      "        return review\n",
      "        \n",
      "    except Exception, e:\n",
      "        print 'Failed in sentiment review function'\n",
      "        print str(e)"
     ],
     "language": "python",
     "metadata": {},
     "outputs": [],
     "prompt_number": 13
    },
    {
     "cell_type": "code",
     "collapsed": false,
     "input": [
      "def review_bigram(sent):\n",
      "        bigram_finder = BigramCollocationFinder.from_words(nltk.word_tokenize(sent))\n",
      "        bigram = bigram_finder.nbest(BigramAssocMeasures.pmi, 70)\n",
      "        #bigram_dict = dict([(ngram, True) for ngram in itertools.chain(bigram)])\n",
      "        \n",
      "        probs = map(lambda x: class_bigram.prob_classify({x: True}), bigram)\n",
      "        pos_prob = zip(bigram, map(lambda x: x.prob(\"pos\"), probs))\n",
      "        neg_prob = zip(bigram, map(lambda y: y.prob(\"neg\"), probs))\n",
      "        \n",
      "        #pos_prob, neg_prob = sent_bigram_prob(sent)\n",
      "        \n",
      "        pos_word = []\n",
      "        neg_word = []\n",
      "        for x in pos_prob:\n",
      "            if (x[1] > 0.5) == True: pos_word.append(x)\n",
      "            elif (x[1] < 0.5) == True: neg_word.append(x)\n",
      "        \n",
      "        #print 'Total bigrams:', len(pos_prob), 'Positive bigrams:',len(pos_word), 'Negative bigrams:', len(neg_word)\n",
      "        #print 'Netural bigrams:', len(pos_prob) - (len(neg_word) + len(pos_word)), '\\n'\n",
      "        \n",
      "        if len(pos_word) > len(neg_word): review = 'pos' \n",
      "        elif len(pos_word) < len(neg_word): review = 'neg' \n",
      "        else: review = 'net'\n",
      "        \n",
      "        return review  "
     ],
     "language": "python",
     "metadata": {},
     "outputs": [],
     "prompt_number": 14
    },
    {
     "cell_type": "code",
     "collapsed": false,
     "input": [
      "\"\"\"\n",
      "          elif classifier == 'bigram':\n",
      "            bigram_finder = BigramCollocationFinder.from_words(nltk.word_tokenize(sent))\n",
      "            bigram = bigram_finder.nbest(BigramAssocMeasures.pmi, 200)\n",
      "            bigram_dict = dict([(ngram, True) for ngram in itertools.chain(bigram)])\n",
      "            #print bigram_dict, '\\n'\n",
      "\n",
      "            prob_bigram = class_bigram.prob_classify(bigram_dict)\n",
      "            pos_prob = prob_bigram.prob(\"pos\")\n",
      "            neg_prob = prob_bigram.prob(\"neg\")\n",
      "            #print 'Pos Bigram:', pos_prob, 'Neg:', neg_prob\n",
      "            \n",
      "            if pos_prob > neg_prob: return 'pos'\n",
      "            elif neg_prob > pos_prob: return 'neg'\n",
      "            else: return 'net'  \n",
      "\"\"\" "
     ],
     "language": "python",
     "metadata": {},
     "outputs": [
      {
       "metadata": {},
       "output_type": "pyout",
       "prompt_number": 15,
       "text": [
        "'\\n          elif classifier == \\'bigram\\':\\n            bigram_finder = BigramCollocationFinder.from_words(nltk.word_tokenize(sent))\\n            bigram = bigram_finder.nbest(BigramAssocMeasures.pmi, 200)\\n            bigram_dict = dict([(ngram, True) for ngram in itertools.chain(bigram)])\\n            #print bigram_dict, \\'\\n\\'\\n\\n            prob_bigram = class_bigram.prob_classify(bigram_dict)\\n            pos_prob = prob_bigram.prob(\"pos\")\\n            neg_prob = prob_bigram.prob(\"neg\")\\n            #print \\'Pos Bigram:\\', pos_prob, \\'Neg:\\', neg_prob\\n            \\n            if pos_prob > neg_prob: return \\'pos\\'\\n            elif neg_prob > pos_prob: return \\'neg\\'\\n            else: return \\'net\\'  \\n'"
       ]
      }
     ],
     "prompt_number": 15
    },
    {
     "cell_type": "code",
     "collapsed": false,
     "input": [
      "def assign_reviews(data, classifier):\n",
      "    try:\n",
      "        if len(data) <=2:\n",
      "            print 'There are not enough reviews'\n",
      "            score = 0\n",
      "            flag ='NA'\n",
      "            return score, flag, data\n",
      "            raise ValueError(\"There are not enough reviews for this movie\")\n",
      "\n",
      "        reviews = []\n",
      "        if classifier == 'naive':\n",
      "            for index, row in data.iterrows():\n",
      "                    reviews.append(review_sentiment(row[0]))\n",
      "        elif classifier == 'bigram':\n",
      "            for index, row in data.iterrows():\n",
      "                    reviews.append(review_bigram(row[0]))\n",
      "        \n",
      "        data['score'] = reviews\n",
      "    \n",
      "        net_count = list(data.score.values).count('net')\n",
      "        pos_count = list(data.score.values).count('pos')\n",
      "        neg_count = list(data.score.values).count('neg')\n",
      "\n",
      "        all_reviews = len(data)-net_count\n",
      "        print \"Pos: \", pos_count, \"Neg: \", neg_count, \"Net: \", net_count\n",
      "           \n",
      "        score = np.round((pos_count*1.0/all_reviews*1.0)*100)\n",
      "        #print 'Score:', score\n",
      "        \n",
      "        if score > 50: flag = \"positive\"\n",
      "        elif score < 50: flag = \"negative\"\n",
      "        else: flag = \"netural\"\n",
      "\n",
      "        return score, flag, data\n",
      "    \n",
      "    except Exception, e:\n",
      "        print 'Failed in assigment of review function'\n",
      "        print str(e)"
     ],
     "language": "python",
     "metadata": {},
     "outputs": [],
     "prompt_number": 16
    },
    {
     "cell_type": "code",
     "collapsed": false,
     "input": [
      "# Test functions on one movie\n",
      "data = Review_Finder('The Adventurer: The Curse of the Midas Box')\n",
      "len(data)\n",
      "percent_movie, rate_movie, movieDF = assign_reviews(data, class_naive)\n",
      "if percent_movie != 0:\n",
      "    movie_subset.loc['The Adventurer: The Curse of the Midas Box'].Freshness.values\n",
      "    movieDF['Freshness']= movie_subset.loc['The Adventurer: The Curse of the Midas Box'].Freshness.values\n",
      "    movieDF['Fresh_binary'] = movieDF.Freshness.values == 'fresh'\n",
      "    movieDF['Navie_binary'] = movieDF.score.values == 'pos'\n",
      "    compare_results(data, 'Fresh_binary', 'Navie_binary')"
     ],
     "language": "python",
     "metadata": {},
     "outputs": [
      {
       "output_type": "stream",
       "stream": "stdout",
       "text": [
        "########### The Adventurer: The Curse of the Midas Box ###########\n",
        "There are 2 reviews for The Adventurer: The Curse of the Midas Box\n",
        "There are not enough reviews\n"
       ]
      }
     ],
     "prompt_number": 17
    },
    {
     "cell_type": "code",
     "collapsed": true,
     "input": [
      "def compare_results(data, class_col_name):\n",
      "    try:\n",
      "        class_diff = []\n",
      "        for index, row in data.iterrows():\n",
      "            class_diff.append(row.Fresh_binary == row[class_col_name])\n",
      "\n",
      "        class_ratio = (np.sum(class_diff)*1.0)/len(data)*1.0\n",
      "        return np.sum(class_diff), len(data), np.round(class_ratio*100)\n",
      "    \n",
      "    except Exception, e:\n",
      "        print 'Failed in compare results function'\n",
      "        print str(e)"
     ],
     "language": "python",
     "metadata": {},
     "outputs": [],
     "prompt_number": 18
    },
    {
     "cell_type": "code",
     "collapsed": false,
     "input": [
      "# Classify all movies\n",
      "def rate_movie(movie_names, classifier):\n",
      "    try:\n",
      "        movie_scores = []\n",
      "        movie_meter = []\n",
      "        class_score = []\n",
      "    \n",
      "        for x in movie_names:\n",
      "            data = Review_Finder(x)\n",
      "            percent_movie, rate_movie, movieDF = assign_reviews(data, classifier)\n",
      "            movie_scores.append(percent_movie)\n",
      "            movie_meter.append(rate_movie)\n",
      "\n",
      "            #print \"Movie percentage\", percent_movie\n",
      "            if len(movieDF) > 2:\n",
      "                movieDF['Freshness']= movie_subset.loc[x].Freshness.values\n",
      "                movieDF['Fresh_binary'] = movieDF.Freshness.values == 'fresh'\n",
      "\n",
      "                if classifier == 'naive': \n",
      "                    movieDF['Navie_binary'] = movieDF.score.values == 'pos'\n",
      "                    correct, total, RT_score = compare_results(data, 'Navie_binary')\n",
      "\n",
      "                elif classifier == 'bigram': \n",
      "                    movieDF['Bigram_binary'] = movieDF.score.values == 'pos'\n",
      "                    correct, total, RT_score = compare_results(data, 'Bigram_binary')   \n",
      "\n",
      "                class_score.append(RT_score)\n",
      "\n",
      "                print correct, 'out of', total, 'were correctly classified', 'or', RT_score\n",
      "                print \"Score:\", percent_movie, \"Rating:\", rate_movie, '\\n'\n",
      "\n",
      "            else:\n",
      "                class_score.append(0)\n",
      "                print 'Can not score classifier, not enough reviews', '\\n'\n",
      "\n",
      "        return movie_scores, class_score\n",
      "    \n",
      "    except Exception, e:\n",
      "        print 'Failed in assigment of review function'\n",
      "        print str(e)"
     ],
     "language": "python",
     "metadata": {},
     "outputs": [],
     "prompt_number": 19
    },
    {
     "cell_type": "code",
     "collapsed": false,
     "input": [
      "pert_movie, pert_class = rate_movie(overall_names, 'naive')"
     ],
     "language": "python",
     "metadata": {},
     "outputs": [
      {
       "output_type": "stream",
       "stream": "stdout",
       "text": [
        "########### The Hobbit: The Battle of the Five Armies ###########\n",
        "There are 5 reviews for The Hobbit: The Battle of the Five Armies\n",
        "Pos: "
       ]
      },
      {
       "output_type": "stream",
       "stream": "stdout",
       "text": [
        " 5 Neg:  0 Net:  0\n",
        "4 out of 5 were correctly classified or 80.0\n",
        "Score: 100.0 Rating: positive \n",
        "\n",
        "###########"
       ]
      },
      {
       "output_type": "stream",
       "stream": "stdout",
       "text": [
        " Transformers: Age of Extinction ###########\n",
        "There are 43 reviews for Transformers: Age of Extinction\n",
        "Pos: "
       ]
      },
      {
       "output_type": "stream",
       "stream": "stdout",
       "text": [
        " 20 Neg:  16 Net:  7\n",
        "23 out of 43 were correctly classified or 53.0\n",
        "Score: 56.0 Rating: positive \n",
        "\n",
        "###########"
       ]
      },
      {
       "output_type": "stream",
       "stream": "stdout",
       "text": [
        " X-Men: Days of Future Past ###########\n",
        "There are 47 reviews for X-Men: Days of Future Past\n",
        "Pos: "
       ]
      },
      {
       "output_type": "stream",
       "stream": "stdout",
       "text": [
        " 33 Neg:  6 Net:  8\n",
        "32 out of 47 were correctly classified or 68.0\n",
        "Score: 85.0 Rating: positive \n",
        "\n",
        "###########"
       ]
      },
      {
       "output_type": "stream",
       "stream": "stdout",
       "text": [
        " The Amazing Spider-Man 2 ###########\n",
        "There are 50 reviews for The Amazing Spider-Man 2\n",
        "Pos: "
       ]
      },
      {
       "output_type": "stream",
       "stream": "stdout",
       "text": [
        " 32 Neg:  13 Net:  5\n",
        "23 out of 50 were correctly classified or 46.0\n",
        "Score: 71.0 Rating: positive \n",
        "\n",
        "###########"
       ]
      },
      {
       "output_type": "stream",
       "stream": "stdout",
       "text": [
        " Maleficent ###########\n",
        "There are 41 reviews for Maleficent\n",
        "Pos: "
       ]
      },
      {
       "output_type": "stream",
       "stream": "stdout",
       "text": [
        " 25 Neg:  6 Net:  10\n",
        "20 out of 41 were correctly classified or 49.0\n",
        "Score: 81.0 Rating: positive \n",
        "\n",
        "###########"
       ]
      },
      {
       "output_type": "stream",
       "stream": "stdout",
       "text": [
        " Edge of Tomorrow ###########\n",
        "There are 47 reviews for Edge of Tomorrow\n",
        "Pos: "
       ]
      },
      {
       "output_type": "stream",
       "stream": "stdout",
       "text": [
        " 34 Neg:  10 Net:  3\n",
        "32 out of 47 were correctly classified or 68.0\n",
        "Score: 77.0 Rating: positive \n",
        "\n",
        "###########"
       ]
      },
      {
       "output_type": "stream",
       "stream": "stdout",
       "text": [
        " Guardians of the Galaxy ###########\n",
        "There are 46 reviews for Guardians of the Galaxy\n",
        "Pos: "
       ]
      },
      {
       "output_type": "stream",
       "stream": "stdout",
       "text": [
        " 31 Neg:  10 Net:  5\n",
        "32 out of 46 were correctly classified or 70.0\n",
        "Score: 76.0 Rating: positive \n",
        "\n",
        "###########"
       ]
      },
      {
       "output_type": "stream",
       "stream": "stdout",
       "text": [
        " Captain America: The Winter Soldier ###########\n",
        "There are 43 reviews for Captain America: The Winter Soldier\n",
        "Pos: "
       ]
      },
      {
       "output_type": "stream",
       "stream": "stdout",
       "text": [
        " 27 Neg:  10 Net:  6\n",
        "29 out of 43 were correctly classified or 67.0\n",
        "Score: 73.0 Rating: positive \n",
        "\n",
        "###########"
       ]
      },
      {
       "output_type": "stream",
       "stream": "stdout",
       "text": [
        " Dawn of the Planet of the Apes ###########\n",
        "There are 47 reviews for Dawn of the Planet of the Apes\n",
        "Pos: "
       ]
      },
      {
       "output_type": "stream",
       "stream": "stdout",
       "text": [
        " 32 Neg:  10 Net:  5\n",
        "31 out of 47 were correctly classified or 66.0\n",
        "Score: 76.0 Rating: positive \n",
        "\n",
        "###########"
       ]
      },
      {
       "output_type": "stream",
       "stream": "stdout",
       "text": [
        " Big Hero 6 ###########\n",
        "There are 36 reviews for Big Hero 6\n",
        "Pos: "
       ]
      },
      {
       "output_type": "stream",
       "stream": "stdout",
       "text": [
        " 27 Neg:  6 Net:  3\n",
        "29 out of 36 were correctly classified or 81.0\n",
        "Score: 82.0 Rating: positive \n",
        "\n",
        "###########"
       ]
      },
      {
       "output_type": "stream",
       "stream": "stdout",
       "text": [
        " Interstellar ###########\n",
        "There are 45 reviews for Interstellar\n",
        "Pos: "
       ]
      },
      {
       "output_type": "stream",
       "stream": "stdout",
       "text": [
        " 31 Neg:  8 Net:  6\n",
        "28 out of 45 were correctly classified or 62.0\n",
        "Score: 79.0 Rating: positive \n",
        "\n",
        "###########"
       ]
      },
      {
       "output_type": "stream",
       "stream": "stdout",
       "text": [
        " Godzilla ###########\n",
        "There are 50 reviews for Godzilla\n",
        "Pos: "
       ]
      },
      {
       "output_type": "stream",
       "stream": "stdout",
       "text": [
        " 33 Neg:  11 Net:  6\n",
        "34 out of 50 were correctly classified or 68.0\n",
        "Score: 75.0 Rating: positive \n",
        "\n",
        "###########"
       ]
      },
      {
       "output_type": "stream",
       "stream": "stdout",
       "text": [
        " How to Train Your Dragon 2 ###########\n",
        "There are 37 reviews for How to Train Your Dragon 2\n",
        "Pos: "
       ]
      },
      {
       "output_type": "stream",
       "stream": "stdout",
       "text": [
        " 32 Neg:  3 Net:  2\n",
        "33 out of 37 were correctly classified or 89.0\n",
        "Score: 91.0 Rating: positive \n",
        "\n",
        "###########"
       ]
      },
      {
       "output_type": "stream",
       "stream": "stdout",
       "text": [
        " Mr. Peabody & Sherman ###########\n",
        "There are 24 reviews for Mr. Peabody & Sherman\n",
        "Pos: "
       ]
      },
      {
       "output_type": "stream",
       "stream": "stdout",
       "text": [
        " 16 Neg:  5 Net:  3\n",
        "16 out of 24 were correctly classified or 67.0\n",
        "Score: 76.0 Rating: positive \n",
        "\n",
        "###########"
       ]
      },
      {
       "output_type": "stream",
       "stream": "stdout",
       "text": [
        " Rio 2 ###########\n",
        "There are 25 reviews for Rio 2\n",
        "Pos: "
       ]
      },
      {
       "output_type": "stream",
       "stream": "stdout",
       "text": [
        " 18 Neg:  4 Net:  3\n",
        "11 out of 25 were correctly classified or 44.0\n",
        "Score: 82.0 Rating: positive \n",
        "\n",
        "###########"
       ]
      },
      {
       "output_type": "stream",
       "stream": "stdout",
       "text": [
        " Noah ###########\n",
        "There are 46 reviews for Noah\n",
        "Pos: "
       ]
      },
      {
       "output_type": "stream",
       "stream": "stdout",
       "text": [
        " 37 Neg:  6 Net:  3\n",
        "34 out of 46 were correctly classified or 74.0\n",
        "Score: 86.0 Rating: positive \n",
        "\n",
        "###########"
       ]
      },
      {
       "output_type": "stream",
       "stream": "stdout",
       "text": [
        " Teenage Mutant Ninja Turtles ###########\n",
        "There are 33 reviews for Teenage Mutant Ninja Turtles\n",
        "Pos: "
       ]
      },
      {
       "output_type": "stream",
       "stream": "stdout",
       "text": [
        " 11 Neg:  19 Net:  3\n",
        "19 out of 33 were correctly classified or 58.0\n",
        "Score: 37.0 Rating: negative \n",
        "\n",
        "###########"
       ]
      },
      {
       "output_type": "stream",
       "stream": "stdout",
       "text": [
        " RoboCop ###########\n",
        "There are 42 reviews for RoboCop\n",
        "Pos: "
       ]
      },
      {
       "output_type": "stream",
       "stream": "stdout",
       "text": [
        " 25 Neg:  11 Net:  6\n",
        "24 out of 42 were correctly classified or 57.0\n",
        "Score: 69.0 Rating: positive \n",
        "\n",
        "###########"
       ]
      },
      {
       "output_type": "stream",
       "stream": "stdout",
       "text": [
        " 300: Rise of an Empire ###########\n",
        "There are 34 reviews for 300: Rise of an Empire\n",
        "Pos: "
       ]
      },
      {
       "output_type": "stream",
       "stream": "stdout",
       "text": [
        " 19 Neg:  10 Net:  5\n",
        "23 out of 34 were correctly classified or 68.0\n",
        "Score: 66.0 Rating: positive \n",
        "\n",
        "###########"
       ]
      },
      {
       "output_type": "stream",
       "stream": "stdout",
       "text": [
        " Hercules ###########\n",
        "There are 22 reviews for Hercules\n",
        "Pos: "
       ]
      },
      {
       "output_type": "stream",
       "stream": "stdout",
       "text": [
        " 12 Neg:  7 Net:  3\n",
        "16 out of 22 were correctly classified or 73.0\n",
        "Score: 63.0 Rating: positive \n",
        "\n",
        "###########"
       ]
      },
      {
       "output_type": "stream",
       "stream": "stdout",
       "text": [
        " The Expendables 3 ###########\n",
        "There are 32 reviews for The Expendables 3\n",
        "Pos: "
       ]
      },
      {
       "output_type": "stream",
       "stream": "stdout",
       "text": [
        " 14 Neg:  17 Net:  1\n",
        "17 out of 32 were correctly classified or 53.0\n",
        "Score: 45.0 Rating: negative \n",
        "\n",
        "###########"
       ]
      },
      {
       "output_type": "stream",
       "stream": "stdout",
       "text": [
        " Transcendence ###########\n",
        "There are 45 reviews for Transcendence\n",
        "Pos: "
       ]
      },
      {
       "output_type": "stream",
       "stream": "stdout",
       "text": [
        " 25 Neg:  16 Net:  4\n",
        "26 out of 45 were correctly classified or 58.0\n",
        "Score: 61.0 Rating: positive \n",
        "\n",
        "###########"
       ]
      },
      {
       "output_type": "stream",
       "stream": "stdout",
       "text": [
        " Divergent ###########\n",
        "There are 42 reviews for Divergent\n",
        "Pos: "
       ]
      },
      {
       "output_type": "stream",
       "stream": "stdout",
       "text": [
        " 24 Neg:  12 Net:  6\n",
        "23 out of 42 were correctly classified or 55.0\n",
        "Score: 67.0 Rating: positive \n",
        "\n",
        "###########"
       ]
      },
      {
       "output_type": "stream",
       "stream": "stdout",
       "text": [
        " Fury ###########\n",
        "There are 40 reviews for Fury\n",
        "Pos: "
       ]
      },
      {
       "output_type": "stream",
       "stream": "stdout",
       "text": [
        " 31 Neg:  7 Net:  2\n",
        "29 out of 40 were correctly classified or 72.0\n",
        "Score: 82.0 Rating: positive \n",
        "\n",
        "###########"
       ]
      },
      {
       "output_type": "stream",
       "stream": "stdout",
       "text": [
        " Pompeii ###########\n",
        "There are 29 reviews for Pompeii\n",
        "Pos: "
       ]
      },
      {
       "output_type": "stream",
       "stream": "stdout",
       "text": [
        " 17 Neg:  10 Net:  2\n",
        "15 out of 29 were correctly classified or 52.0\n",
        "Score: 63.0 Rating: positive \n",
        "\n",
        "###########"
       ]
      },
      {
       "output_type": "stream",
       "stream": "stdout",
       "text": [
        " The Monuments Men ###########\n",
        "There are 49 reviews for The Monuments Men\n",
        "Pos: "
       ]
      },
      {
       "output_type": "stream",
       "stream": "stdout",
       "text": [
        " 36 Neg:  10 Net:  3\n",
        "22 out of 49 were correctly classified or 45.0\n",
        "Score: 78.0 Rating: positive \n",
        "\n",
        "###########"
       ]
      },
      {
       "output_type": "stream",
       "stream": "stdout",
       "text": [
        " Dracula Untold ###########\n",
        "There are 21 reviews for Dracula Untold\n",
        "Pos: "
       ]
      },
      {
       "output_type": "stream",
       "stream": "stdout",
       "text": [
        " 17 Neg:  3 Net:  1\n",
        "6 out of 21 were correctly classified or 29.0\n",
        "Score: 85.0 Rating: positive \n",
        "\n",
        "###########"
       ]
      },
      {
       "output_type": "stream",
       "stream": "stdout",
       "text": [
        " The Legend of Hercules ###########\n",
        "There are 15 reviews for The Legend of Hercules\n",
        "Pos: "
       ]
      },
      {
       "output_type": "stream",
       "stream": "stdout",
       "text": [
        " 6 Neg:  8 Net:  1\n",
        "11 out of 15 were correctly classified or 73.0\n",
        "Score: 43.0 Rating: negative \n",
        "\n",
        "###########"
       ]
      },
      {
       "output_type": "stream",
       "stream": "stdout",
       "text": [
        " Legends of Oz: Dorothy\u0092s Return ###########\n",
        "There are 18 reviews for Legends of Oz: Dorothy\u0092s Return\n",
        "Pos: "
       ]
      },
      {
       "output_type": "stream",
       "stream": "stdout",
       "text": [
        " 12 Neg:  2 Net:  4\n",
        "6 out of 18 were correctly classified or 33.0\n",
        "Score: 86.0 Rating: positive \n",
        "\n",
        "###########"
       ]
      },
      {
       "output_type": "stream",
       "stream": "stdout",
       "text": [
        " Need for Speed ###########\n",
        "There are 34 reviews for Need for Speed\n",
        "Pos: "
       ]
      },
      {
       "output_type": "stream",
       "stream": "stdout",
       "text": [
        " 13 Neg:  17 Net:  4\n",
        "21 out of 34 were correctly classified or 62.0\n",
        "Score: 43.0 Rating: negative \n",
        "\n",
        "###########"
       ]
      },
      {
       "output_type": "stream",
       "stream": "stdout",
       "text": [
        " I, Frankenstein ###########\n",
        "There are 14 reviews for I, Frankenstein\n",
        "Pos: "
       ]
      },
      {
       "output_type": "stream",
       "stream": "stdout",
       "text": [
        " 5 Neg:  6 Net:  3\n",
        "8 out of 14 were correctly classified or 57.0\n",
        "Score: 45.0 Rating: negative \n",
        "\n",
        "###########"
       ]
      },
      {
       "output_type": "stream",
       "stream": "stdout",
       "text": [
        " Sin City: A Dame to Kill For ###########\n",
        "There are 36 reviews for Sin City: A Dame to Kill For\n",
        "Pos: "
       ]
      },
      {
       "output_type": "stream",
       "stream": "stdout",
       "text": [
        " 27 Neg:  6 Net:  3\n",
        "12 out of 36 were correctly classified or 33.0\n",
        "Score: 82.0 Rating: positive \n",
        "\n",
        "###########"
       ]
      },
      {
       "output_type": "stream",
       "stream": "stdout",
       "text": [
        " Gone Girl ###########\n",
        "There are 48 reviews for Gone Girl\n",
        "Pos: "
       ]
      },
      {
       "output_type": "stream",
       "stream": "stdout",
       "text": [
        " 37 Neg:  7 Net:  4\n",
        "30 out of 48 were correctly classified or 62.0\n",
        "Score: 84.0 Rating: positive \n",
        "\n",
        "###########"
       ]
      },
      {
       "output_type": "stream",
       "stream": "stdout",
       "text": [
        " The Lego Movie ###########\n",
        "There are 40 reviews for The Lego Movie\n",
        "Pos: "
       ]
      },
      {
       "output_type": "stream",
       "stream": "stdout",
       "text": [
        " 31 Neg:  9 Net:  0\n",
        "31 out of 40 were correctly classified or 78.0\n",
        "Score: 78.0 Rating: positive \n",
        "\n",
        "###########"
       ]
      },
      {
       "output_type": "stream",
       "stream": "stdout",
       "text": [
        " Jack Ryan: Shadow Recruit ###########\n",
        "There are 36 reviews for Jack Ryan: Shadow Recruit\n",
        "Pos: "
       ]
      },
      {
       "output_type": "stream",
       "stream": "stdout",
       "text": [
        " 23 Neg:  9 Net:  4\n",
        "17 out of 36 were correctly classified or 47.0\n",
        "Score: 72.0 Rating: positive \n",
        "\n",
        "###########"
       ]
      },
      {
       "output_type": "stream",
       "stream": "stdout",
       "text": [
        " Winter's Tale ###########\n",
        "There are 29 reviews for Winter's Tale\n",
        "Pos: "
       ]
      },
      {
       "output_type": "stream",
       "stream": "stdout",
       "text": [
        " 19 Neg:  7 Net:  3\n",
        "13 out of 29 were correctly classified or 45.0\n",
        "Score: 73.0 Rating: positive \n",
        "\n",
        "###########"
       ]
      },
      {
       "output_type": "stream",
       "stream": "stdout",
       "text": [
        " The Equalizer ###########\n",
        "There are 37 reviews for The Equalizer\n",
        "Pos: "
       ]
      },
      {
       "output_type": "stream",
       "stream": "stdout",
       "text": [
        " 22 Neg:  11 Net:  4\n",
        "24 out of 37 were correctly classified or 65.0\n",
        "Score: 67.0 Rating: positive \n",
        "\n",
        "###########"
       ]
      },
      {
       "output_type": "stream",
       "stream": "stdout",
       "text": [
        " Muppets Most Wanted ###########\n",
        "There are 36 reviews for Muppets Most Wanted\n",
        "Pos: "
       ]
      },
      {
       "output_type": "stream",
       "stream": "stdout",
       "text": [
        " 22 Neg:  11 Net:  3\n",
        "13 out of 36 were correctly classified or 36.0\n",
        "Score: 67.0 Rating: positive \n",
        "\n",
        "###########"
       ]
      },
      {
       "output_type": "stream",
       "stream": "stdout",
       "text": [
        " 22 Jump Street ###########\n",
        "There are 47 reviews for 22 Jump Street\n",
        "Pos: "
       ]
      },
      {
       "output_type": "stream",
       "stream": "stdout",
       "text": [
        " 20 Neg:  22 Net:  5\n",
        "22 out of 47 were correctly classified or 47.0\n",
        "Score: 48.0 Rating: negative \n",
        "\n",
        "###########"
       ]
      },
      {
       "output_type": "stream",
       "stream": "stdout",
       "text": [
        " Non-Stop ###########\n",
        "There are 39 reviews for Non-Stop\n",
        "Pos: "
       ]
      },
      {
       "output_type": "stream",
       "stream": "stdout",
       "text": [
        " 20 Neg:  14 Net:  5\n",
        "24 out of 39 were correctly classified or 62.0\n",
        "Score: 59.0 Rating: positive \n",
        "\n",
        "###########"
       ]
      },
      {
       "output_type": "stream",
       "stream": "stdout",
       "text": [
        " Planes: Fire and Rescue ###########\n",
        "There are 23 reviews for Planes: Fire and Rescue\n",
        "Pos: "
       ]
      },
      {
       "output_type": "stream",
       "stream": "stdout",
       "text": [
        " 13 Neg:  8 Net:  2\n",
        "13 out of 23 were correctly classified or 57.0\n",
        "Score: 62.0 Rating: positive \n",
        "\n",
        "###########"
       ]
      },
      {
       "output_type": "stream",
       "stream": "stdout",
       "text": [
        " Into the Storm ###########\n",
        "There are 33 reviews for Into the Storm\n",
        "Pos: "
       ]
      },
      {
       "output_type": "stream",
       "stream": "stdout",
       "text": [
        " 19 Neg:  9 Net:  5\n",
        "15 out of 33 were correctly classified or 45.0\n",
        "Score: 68.0 Rating: positive \n",
        "\n",
        "###########"
       ]
      },
      {
       "output_type": "stream",
       "stream": "stdout",
       "text": [
        " The Book of Life ###########\n",
        "There are 26 reviews for The Book of Life\n",
        "Pos: "
       ]
      },
      {
       "output_type": "stream",
       "stream": "stdout",
       "text": [
        " 25 Neg:  0 Net:  1\n",
        "22 out of 26 were correctly classified or 85.0\n",
        "Score: 100.0 Rating: positive \n",
        "\n",
        "###########"
       ]
      },
      {
       "output_type": "stream",
       "stream": "stdout",
       "text": [
        " The Judge ###########\n",
        "There are 36 reviews for The Judge\n",
        "Pos: "
       ]
      },
      {
       "output_type": "stream",
       "stream": "stdout",
       "text": [
        " 26 Neg:  4 Net:  6\n",
        "21 out of 36 were correctly classified or 58.0\n",
        "Score: 87.0 Rating: positive \n",
        "\n",
        "###########"
       ]
      },
      {
       "output_type": "stream",
       "stream": "stdout",
       "text": [
        " Blended ###########\n",
        "There are 30 reviews for Blended\n",
        "Pos: "
       ]
      },
      {
       "output_type": "stream",
       "stream": "stdout",
       "text": [
        " 9 Neg:  17 Net:  4\n",
        "22 out of 30 were correctly classified or 73.0\n",
        "Score: 35.0 Rating: negative \n",
        "\n",
        "###########"
       ]
      },
      {
       "output_type": "stream",
       "stream": "stdout",
       "text": [
        " Lucy ###########\n",
        "There are 41 reviews for Lucy\n",
        "Pos: "
       ]
      },
      {
       "output_type": "stream",
       "stream": "stdout",
       "text": [
        " 28 Neg:  9 Net:  4\n",
        "29 out of 41 were correctly classified or 71.0\n",
        "Score: 76.0 Rating: positive \n",
        "\n",
        "###########"
       ]
      },
      {
       "output_type": "stream",
       "stream": "stdout",
       "text": [
        " The Other Woman ###########\n",
        "There are 36 reviews for The Other Woman\n",
        "Pos: "
       ]
      },
      {
       "output_type": "stream",
       "stream": "stdout",
       "text": [
        " 12 Neg:  23 Net:  1\n",
        "28 out of 36 were correctly classified or 78.0\n",
        "Score: 34.0 Rating: negative \n",
        "\n",
        "###########"
       ]
      },
      {
       "output_type": "stream",
       "stream": "stdout",
       "text": [
        " Jersey Boys ###########\n",
        "There are 47 reviews for Jersey Boys\n",
        "Pos: "
       ]
      },
      {
       "output_type": "stream",
       "stream": "stdout",
       "text": [
        " 36 Neg:  9 Net:  2\n",
        "31 out of 47 were correctly classified or 66.0\n",
        "Score: 80.0 Rating: positive \n",
        "\n",
        "###########"
       ]
      },
      {
       "output_type": "stream",
       "stream": "stdout",
       "text": [
        " A Million Ways to Die in The West ###########\n",
        "There are 43 reviews for A Million Ways to Die in The West\n",
        "Pos: "
       ]
      },
      {
       "output_type": "stream",
       "stream": "stdout",
       "text": [
        " 20 Neg:  16 Net:  7\n",
        "24 out of 43 were correctly classified or 56.0\n",
        "Score: 56.0 Rating: positive \n",
        "\n",
        "###########"
       ]
      },
      {
       "output_type": "stream",
       "stream": "stdout",
       "text": [
        " Sex Tape ###########\n",
        "There are 34 reviews for Sex Tape\n",
        "Pos: "
       ]
      },
      {
       "output_type": "stream",
       "stream": "stdout",
       "text": [
        " 14 Neg:  15 Net:  5\n",
        "21 out of 34 were correctly classified or 62.0\n",
        "Score: 48.0 Rating: negative \n",
        "\n",
        "###########"
       ]
      },
      {
       "output_type": "stream",
       "stream": "stdout",
       "text": [
        " Dumb and Dumber To ###########\n",
        "There are 29 reviews for Dumb and Dumber To\n",
        "Pos: "
       ]
      },
      {
       "output_type": "stream",
       "stream": "stdout",
       "text": [
        " 11 Neg:  15 Net:  3\n",
        "19 out of 29 were correctly classified or 66.0\n",
        "Score: 42.0 Rating: negative \n",
        "\n",
        "###########"
       ]
      },
      {
       "output_type": "stream",
       "stream": "stdout",
       "text": [
        " Dolphin Tale 2 ###########\n",
        "There are 23 reviews for Dolphin Tale 2\n",
        "Pos: "
       ]
      },
      {
       "output_type": "stream",
       "stream": "stdout",
       "text": [
        " 12 Neg:  8 Net:  3\n",
        "15 out of 23 were correctly classified or 65.0\n",
        "Score: 60.0 Rating: positive \n",
        "\n",
        "###########"
       ]
      },
      {
       "output_type": "stream",
       "stream": "stdout",
       "text": [
        " Sabotage ###########\n",
        "There are 28 reviews for Sabotage\n",
        "Pos: "
       ]
      },
      {
       "output_type": "stream",
       "stream": "stdout",
       "text": [
        " 16 Neg:  11 Net:  1\n",
        "13 out of 28 were correctly classified or 46.0\n",
        "Score: 59.0 Rating: positive \n",
        "\n",
        "###########"
       ]
      },
      {
       "output_type": "stream",
       "stream": "stdout",
       "text": [
        " The Maze Runner ###########\n",
        "There are 33 reviews for The Maze Runner\n",
        "Pos: "
       ]
      },
      {
       "output_type": "stream",
       "stream": "stdout",
       "text": [
        " 24 Neg:  5 Net:  4\n",
        "19 out of 33 were correctly classified or 58.0\n",
        "Score: 83.0 Rating: positive \n",
        "\n",
        "###########"
       ]
      },
      {
       "output_type": "stream",
       "stream": "stdout",
       "text": [
        " The House of Magic ###########\n",
        "There are 7 reviews for The House of Magic\n",
        "Pos: "
       ]
      },
      {
       "output_type": "stream",
       "stream": "stdout",
       "text": [
        " 6 Neg:  1 Net:  0\n",
        "4 out of 7 were correctly classified or 57.0\n",
        "Score: 86.0 Rating: positive \n",
        "\n",
        "###########"
       ]
      },
      {
       "output_type": "stream",
       "stream": "stdout",
       "text": [
        " The Grand Budapest Hotel ###########\n",
        "There are 48 reviews for The Grand Budapest Hotel\n",
        "Pos: "
       ]
      },
      {
       "output_type": "stream",
       "stream": "stdout",
       "text": [
        " 38 Neg:  7 Net:  3\n",
        "38 out of 48 were correctly classified or 79.0\n",
        "Score: 84.0 Rating: positive \n",
        "\n",
        "###########"
       ]
      },
      {
       "output_type": "stream",
       "stream": "stdout",
       "text": [
        " The Nut Job ###########\n",
        "There are 27 reviews for The Nut Job\n",
        "Pos: "
       ]
      },
      {
       "output_type": "stream",
       "stream": "stdout",
       "text": [
        " 16 Neg:  9 Net:  2\n",
        "11 out of 27 were correctly classified or 41.0\n",
        "Score: 64.0 Rating: positive \n",
        "\n",
        "###########"
       ]
      },
      {
       "output_type": "stream",
       "stream": "stdout",
       "text": [
        " Get on Up ###########\n",
        "There are 41 reviews for Get on Up\n",
        "Pos: "
       ]
      },
      {
       "output_type": "stream",
       "stream": "stdout",
       "text": [
        " 32 Neg:  8 Net:  1\n",
        "30 out of 41 were correctly classified or 73.0\n",
        "Score: 80.0 Rating: positive \n",
        "\n",
        "###########"
       ]
      },
      {
       "output_type": "stream",
       "stream": "stdout",
       "text": [
        " Deliver Us from Evil ###########\n",
        "There are 27 reviews for Deliver Us from Evil\n",
        "Pos: "
       ]
      },
      {
       "output_type": "stream",
       "stream": "stdout",
       "text": [
        " 16 Neg:  7 Net:  4\n",
        "14 out of 27 were correctly classified or 52.0\n",
        "Score: 70.0 Rating: positive \n",
        "\n",
        "###########"
       ]
      },
      {
       "output_type": "stream",
       "stream": "stdout",
       "text": [
        " Grace of Monaco ###########\n",
        "There are 5 reviews for Grace of Monaco\n",
        "Pos: "
       ]
      },
      {
       "output_type": "stream",
       "stream": "stdout",
       "text": [
        " 3 Neg:  1 Net:  1\n",
        "2 out of 5 were correctly classified or 40.0\n",
        "Score: 75.0 Rating: positive \n",
        "\n",
        "###########"
       ]
      },
      {
       "output_type": "stream",
       "stream": "stdout",
       "text": [
        " Alexander and the Terrible, Horrible, No Good, Very Bad Day ###########\n",
        "There are 27 reviews for Alexander and the Terrible, Horrible, No Good, Very Bad Day\n",
        "Pos: "
       ]
      },
      {
       "output_type": "stream",
       "stream": "stdout",
       "text": [
        " 13 Neg:  11 Net:  3\n",
        "15 out of 27 were correctly classified or 56.0\n",
        "Score: 54.0 Rating: positive \n",
        "\n",
        "###########"
       ]
      },
      {
       "output_type": "stream",
       "stream": "stdout",
       "text": [
        " 3 Days to Kill ###########\n",
        "There are 27 reviews for 3 Days to Kill\n",
        "Pos: "
       ]
      },
      {
       "output_type": "stream",
       "stream": "stdout",
       "text": [
        " 12 Neg:  11 Net:  4\n",
        "15 out of 27 were correctly classified or 56.0\n",
        "Score: 52.0 Rating: positive \n",
        "\n",
        "###########"
       ]
      },
      {
       "output_type": "stream",
       "stream": "stdout",
       "text": [
        " A Walk Among the Tombstones ###########\n",
        "There are 29 reviews for A Walk Among the Tombstones\n",
        "Pos: "
       ]
      },
      {
       "output_type": "stream",
       "stream": "stdout",
       "text": [
        " 18 Neg:  5 Net:  6\n",
        "14 out of 29 were correctly classified or 48.0\n",
        "Score: 78.0 Rating: positive \n",
        "\n",
        "###########"
       ]
      },
      {
       "output_type": "stream",
       "stream": "stdout",
       "text": [
        " Brick Mansions ###########\n",
        "There are 26 reviews for Brick Mansions\n",
        "Pos: "
       ]
      },
      {
       "output_type": "stream",
       "stream": "stdout",
       "text": [
        " 8 Neg:  17 Net:  1\n",
        "18 out of 26 were correctly classified or 69.0\n",
        "Score: 32.0 Rating: negative \n",
        "\n",
        "###########"
       ]
      },
      {
       "output_type": "stream",
       "stream": "stdout",
       "text": [
        " The Best of Me ###########\n",
        "There are 21 reviews for The Best of Me\n",
        "Pos: "
       ]
      },
      {
       "output_type": "stream",
       "stream": "stdout",
       "text": [
        " 12 Neg:  6 Net:  3\n",
        "8 out of 21 were correctly classified or 38.0\n",
        "Score: 67.0 Rating: positive \n",
        "\n",
        "###########"
       ]
      },
      {
       "output_type": "stream",
       "stream": "stdout",
       "text": [
        " Ride Along ###########\n",
        "There are 38 reviews for Ride Along\n",
        "Pos: "
       ]
      },
      {
       "output_type": "stream",
       "stream": "stdout",
       "text": [
        " 11 Neg:  22 Net:  5\n",
        "28 out of 38 were correctly classified or 74.0\n",
        "Score: 33.0 Rating: negative \n",
        "\n",
        "###########"
       ]
      },
      {
       "output_type": "stream",
       "stream": "stdout",
       "text": [
        " The Giver ###########\n",
        "There are 33 reviews for The Giver\n",
        "Pos: "
       ]
      },
      {
       "output_type": "stream",
       "stream": "stdout",
       "text": [
        " 24 Neg:  8 Net:  1\n",
        "17 out of 33 were correctly classified or 52.0\n",
        "Score: 75.0 Rating: positive \n",
        "\n",
        "###########"
       ]
      },
      {
       "output_type": "stream",
       "stream": "stdout",
       "text": [
        " Million Dollar Arm ###########\n",
        "There are 37 reviews for Million Dollar Arm\n",
        "Pos: "
       ]
      },
      {
       "output_type": "stream",
       "stream": "stdout",
       "text": [
        " 24 Neg:  8 Net:  5\n",
        "23 out of 37 were correctly classified or 62.0\n",
        "Score: 75.0 Rating: positive \n",
        "\n",
        "###########"
       ]
      },
      {
       "output_type": "stream",
       "stream": "stdout",
       "text": [
        " Draft Day ###########\n",
        "There are 38 reviews for Draft Day\n",
        "Pos: "
       ]
      },
      {
       "output_type": "stream",
       "stream": "stdout",
       "text": [
        " 25 Neg:  12 Net:  1\n",
        "28 out of 38 were correctly classified or 74.0\n",
        "Score: 68.0 Rating: positive \n",
        "\n",
        "###########"
       ]
      },
      {
       "output_type": "stream",
       "stream": "stdout",
       "text": [
        " The Adventurer: The Curse of the Midas Box ###########\n",
        "There are 2 reviews for The Adventurer: The Curse of the Midas Box\n",
        "There are not enough reviews\n",
        "Can not score classifier, not enough reviews \n",
        "\n",
        "###########"
       ]
      },
      {
       "output_type": "stream",
       "stream": "stdout",
       "text": [
        " Think Like a Man Too ###########\n",
        "There are 29 reviews for Think Like a Man Too\n",
        "Pos: "
       ]
      },
      {
       "output_type": "stream",
       "stream": "stdout",
       "text": [
        " 9 Neg:  14 Net:  6\n",
        "21 out of 29 were correctly classified or 72.0\n",
        "Score: 39.0 Rating: negative \n",
        "\n",
        "###########"
       ]
      },
      {
       "output_type": "stream",
       "stream": "stdout",
       "text": [
        " Always Woodstock ###########\n",
        "There are 5 reviews for Always Woodstock\n",
        "Pos: "
       ]
      },
      {
       "output_type": "stream",
       "stream": "stdout",
       "text": [
        " 4 Neg:  1 Net:  0\n",
        "2 out of 5 were correctly classified or 40.0\n",
        "Score: 80.0 Rating: positive \n",
        "\n",
        "###########"
       ]
      },
      {
       "output_type": "stream",
       "stream": "stdout",
       "text": [
        " Son of God ###########\n",
        "There are 25 reviews for Son of God\n",
        "Pos: "
       ]
      },
      {
       "output_type": "stream",
       "stream": "stdout",
       "text": [
        " 15 Neg:  8 Net:  2\n",
        "10 out of 25 were correctly classified or 40.0\n",
        "Score: 65.0 Rating: positive \n",
        "\n",
        "###########"
       ]
      },
      {
       "output_type": "stream",
       "stream": "stdout",
       "text": [
        " The Hundred-Foot Journey ###########\n",
        "There are 37 reviews for The Hundred-Foot Journey\n",
        "Pos: "
       ]
      },
      {
       "output_type": "stream",
       "stream": "stdout",
       "text": [
        " 25 Neg:  10 Net:  2\n",
        "19 out of 37 were correctly classified or 51.0\n",
        "Score: 71.0 Rating: positive \n",
        "\n",
        "###########"
       ]
      },
      {
       "output_type": "stream",
       "stream": "stdout",
       "text": [
        " Metegol ###########\n",
        "There are 1 reviews for Metegol\n",
        "There are not enough reviews\n",
        "Can not score classifier, not enough reviews \n",
        "\n",
        "###########"
       ]
      },
      {
       "output_type": "stream",
       "stream": "stdout",
       "text": [
        " Tammy ###########\n",
        "There are 41 reviews for Tammy\n",
        "Pos: "
       ]
      },
      {
       "output_type": "stream",
       "stream": "stdout",
       "text": [
        " 19 Neg:  17 Net:  5\n",
        "27"
       ]
      },
      {
       "output_type": "stream",
       "stream": "stdout",
       "text": [
        " out of 41 were correctly classified or 66.0\n",
        "Score: 53.0 Rating: positive \n",
        "\n",
        "###########"
       ]
      },
      {
       "output_type": "stream",
       "stream": "stdout",
       "text": [
        " This is Where I Leave You ###########\n",
        "There are 43 reviews for This is Where I Leave You\n",
        "Pos: "
       ]
      },
      {
       "output_type": "stream",
       "stream": "stdout",
       "text": [
        " 24 Neg:  17 Net:  2\n",
        "25 out of 43 were correctly classified or 58.0\n",
        "Score: 59.0 Rating: positive \n",
        "\n",
        "###########"
       ]
      },
      {
       "output_type": "stream",
       "stream": "stdout",
       "text": [
        " Endless Love ###########\n",
        "There are 29 reviews for Endless Love\n",
        "Pos: "
       ]
      },
      {
       "output_type": "stream",
       "stream": "stdout",
       "text": [
        " 14 Neg:  13 Net:  2\n",
        "18 out of 29 were correctly classified or 62.0\n",
        "Score: 52.0 Rating: positive \n",
        "\n",
        "###########"
       ]
      },
      {
       "output_type": "stream",
       "stream": "stdout",
       "text": [
        " The Maid's Room ###########\n",
        "There are 6 reviews for The Maid's Room\n",
        "Pos: "
       ]
      },
      {
       "output_type": "stream",
       "stream": "stdout",
       "text": [
        " 4 Neg:  1 Net:  1\n",
        "4 out of 6 were correctly classified or 67.0\n",
        "Score: 80.0 Rating: positive \n",
        "\n",
        "###########"
       ]
      },
      {
       "output_type": "stream",
       "stream": "stdout",
       "text": [
        " Neighbors ###########\n",
        "There are 44 reviews for Neighbors\n",
        "Pos: "
       ]
      },
      {
       "output_type": "stream",
       "stream": "stdout",
       "text": [
        " 31 Neg:  9 Net:  4\n",
        "31 out of 44 were correctly classified or 70.0\n",
        "Score: 78.0 Rating: positive \n",
        "\n",
        "###########"
       ]
      },
      {
       "output_type": "stream",
       "stream": "stdout",
       "text": [
        " Labor Day ###########\n",
        "There are 46 reviews for Labor Day\n",
        "Pos: "
       ]
      },
      {
       "output_type": "stream",
       "stream": "stdout",
       "text": [
        " 28 Neg:  13 Net:  5\n",
        "28 out of 46 were correctly classified or 61.0\n",
        "Score: 68.0 Rating: positive \n",
        "\n",
        "###########"
       ]
      },
      {
       "output_type": "stream",
       "stream": "stdout",
       "text": [
        " The Prince ###########\n",
        "There are 4 reviews for The Prince\n",
        "Pos: "
       ]
      },
      {
       "output_type": "stream",
       "stream": "stdout",
       "text": [
        " 2 Neg:  2 Net:  0\n",
        "2 out of 4 were correctly classified or 50.0\n",
        "Score: 50.0 Rating: netural \n",
        "\n",
        "###########"
       ]
      },
      {
       "output_type": "stream",
       "stream": "stdout",
       "text": [
        " Wolves ###########\n",
        "There are 7 reviews for Wolves\n",
        "Pos: "
       ]
      },
      {
       "output_type": "stream",
       "stream": "stdout",
       "text": [
        " 2 Neg:  3 Net:  2\n",
        "3 out of 7 were correctly classified or 43.0\n",
        "Score: 40.0 Rating: negative \n",
        "\n",
        "###########"
       ]
      },
      {
       "output_type": "stream",
       "stream": "stdout",
       "text": [
        " Let\u0092s Be Cops ###########\n",
        "There are 17 reviews for Let\u0092s Be Cops\n",
        "Pos: "
       ]
      },
      {
       "output_type": "stream",
       "stream": "stdout",
       "text": [
        " 8 Neg:  8 Net:  1\n",
        "9 out of 17 were correctly classified or 53.0\n",
        "Score: 50.0 Rating: netural \n",
        "\n",
        "###########"
       ]
      },
      {
       "output_type": "stream",
       "stream": "stdout",
       "text": [
        " Left Behind ###########\n",
        "There are 20 reviews for Left Behind\n",
        "Pos: "
       ]
      },
      {
       "output_type": "stream",
       "stream": "stdout",
       "text": [
        " 10 Neg:  9 Net:  1\n",
        "10 out of 20 were correctly classified or 50.0\n",
        "Score: 53.0 Rating: positive \n",
        "\n",
        "###########"
       ]
      },
      {
       "output_type": "stream",
       "stream": "stdout",
       "text": [
        " The Homesman ###########\n",
        "There are 36 reviews for The Homesman\n",
        "Pos: "
       ]
      },
      {
       "output_type": "stream",
       "stream": "stdout",
       "text": [
        " 30 Neg:  4 Net:  2\n",
        "27 out of 36 were correctly classified or 75.0\n",
        "Score: 88.0 Rating: positive \n",
        "\n",
        "###########"
       ]
      },
      {
       "output_type": "stream",
       "stream": "stdout",
       "text": [
        " The November Man ###########\n",
        "There are 27 reviews for The November Man\n",
        "Pos: "
       ]
      },
      {
       "output_type": "stream",
       "stream": "stdout",
       "text": [
        " 10 Neg:  13 Net:  4\n",
        "19 out of 27 were correctly classified or 70.0\n",
        "Score: 43.0 Rating: negative \n",
        "\n",
        "###########"
       ]
      },
      {
       "output_type": "stream",
       "stream": "stdout",
       "text": [
        " Automata ###########\n",
        "There are 10 reviews for Automata\n",
        "Pos: "
       ]
      },
      {
       "output_type": "stream",
       "stream": "stdout",
       "text": [
        " 5 Neg:  3 Net:  2\n",
        "6 out of 10 were correctly classified or 60.0\n",
        "Score: 62.0 Rating: positive \n",
        "\n",
        "###########"
       ]
      },
      {
       "output_type": "stream",
       "stream": "stdout",
       "text": [
        " No Good Deed ###########\n",
        "There are 13 reviews for No Good Deed\n",
        "Pos: "
       ]
      },
      {
       "output_type": "stream",
       "stream": "stdout",
       "text": [
        " 8 Neg:  5 Net:  0\n",
        "7 out of 13 were correctly classified or 54.0\n",
        "Score: 62.0 Rating: positive \n",
        "\n",
        "###########"
       ]
      },
      {
       "output_type": "stream",
       "stream": "stdout",
       "text": [
        " About Last Night ###########\n",
        "There are 30 reviews for About Last Night\n",
        "Pos: "
       ]
      },
      {
       "output_type": "stream",
       "stream": "stdout",
       "text": [
        " 23 Neg:  4 Net:  3\n",
        "20 out of 30 were correctly classified or 67.0\n",
        "Score: 85.0 Rating: positive \n",
        "\n",
        "###########"
       ]
      },
      {
       "output_type": "stream",
       "stream": "stdout",
       "text": [
        " Earth to Echo ###########\n",
        "There are 29 reviews for Earth to Echo\n",
        "Pos: "
       ]
      },
      {
       "output_type": "stream",
       "stream": "stdout",
       "text": [
        " 20 Neg:  6 Net:  3\n",
        "18 out of 29 were correctly classified or 62.0\n",
        "Score: 77.0 Rating: positive \n",
        "\n",
        "###########"
       ]
      },
      {
       "output_type": "stream",
       "stream": "stdout",
       "text": [
        " The Fault in Our Stars ###########\n",
        "There are 44 reviews for The Fault in Our Stars\n",
        "Pos: "
       ]
      },
      {
       "output_type": "stream",
       "stream": "stdout",
       "text": [
        " 35 Neg:  6 Net:  3\n",
        "33 out of 44 were correctly classified or 75.0\n",
        "Score: 85.0 Rating: positive \n",
        "\n",
        "###########"
       ]
      },
      {
       "output_type": "stream",
       "stream": "stdout",
       "text": [
        " Heaven is for Real ###########\n",
        "There are 24 reviews for Heaven is for Real\n",
        "Pos: "
       ]
      },
      {
       "output_type": "stream",
       "stream": "stdout",
       "text": [
        " 19 Neg:  4 Net:  1\n",
        "12 out of 24 were correctly classified or 50.0\n",
        "Score: 83.0 Rating: positive \n",
        "\n",
        "###########"
       ]
      },
      {
       "output_type": "stream",
       "stream": "stdout",
       "text": [
        " Drive Hard ###########\n",
        "There are 9 reviews for Drive Hard\n",
        "Pos: "
       ]
      },
      {
       "output_type": "stream",
       "stream": "stdout",
       "text": [
        " 4 Neg:  3 Net:  2\n",
        "3 out of 9 were correctly classified or 33.0\n",
        "Score: 57.0 Rating: positive \n",
        "\n",
        "###########"
       ]
      },
      {
       "output_type": "stream",
       "stream": "stdout",
       "text": [
        " If I Stay ###########\n",
        "There are 34 reviews for If I Stay\n",
        "Pos: "
       ]
      },
      {
       "output_type": "stream",
       "stream": "stdout",
       "text": [
        " 19 Neg:  10 Net:  5\n",
        "15 out of 34 were correctly classified or 44.0\n",
        "Score: 66.0 Rating: positive \n",
        "\n",
        "###########"
       ]
      },
      {
       "output_type": "stream",
       "stream": "stdout",
       "text": [
        " Bad Words ###########\n",
        "There are 37 reviews for Bad Words\n",
        "Pos: "
       ]
      },
      {
       "output_type": "stream",
       "stream": "stdout",
       "text": [
        " 21 Neg:  14 Net:  2\n",
        "23 out of 37 were correctly classified or 62.0\n",
        "Score: 60.0 Rating: positive \n",
        "\n",
        "###########"
       ]
      },
      {
       "output_type": "stream",
       "stream": "stdout",
       "text": [
        " Big Eyes ###########\n",
        "There are 3 reviews for Big Eyes\n",
        "Pos: "
       ]
      },
      {
       "output_type": "stream",
       "stream": "stdout",
       "text": [
        " 3 Neg:  0 Net:  0\n",
        "2 out of 3 were correctly classified or 67.0\n",
        "Score: 100.0 Rating: positive \n",
        "\n",
        "###########"
       ]
      },
      {
       "output_type": "stream",
       "stream": "stdout",
       "text": [
        " Elsa & Fred ###########\n",
        "There are 9 reviews for Elsa & Fred\n",
        "Pos: "
       ]
      },
      {
       "output_type": "stream",
       "stream": "stdout",
       "text": [
        " 6 Neg:  1 Net:  2\n",
        "6 out of 9 were correctly classified or 67.0\n",
        "Score: 86.0 Rating: positive \n",
        "\n",
        "###########"
       ]
      },
      {
       "output_type": "stream",
       "stream": "stdout",
       "text": [
        " Plastic ###########\n",
        "There are 7 reviews for Plastic\n",
        "Pos: "
       ]
      },
      {
       "output_type": "stream",
       "stream": "stdout",
       "text": [
        " 1 Neg:  4 Net:  2\n",
        "4 out of 7 were correctly classified or 57.0\n",
        "Score: 20.0 Rating: negative \n",
        "\n",
        "###########"
       ]
      },
      {
       "output_type": "stream",
       "stream": "stdout",
       "text": [
        " While We're Young ###########\n",
        "There are 4 reviews for While We're Young\n",
        "Pos: "
       ]
      },
      {
       "output_type": "stream",
       "stream": "stdout",
       "text": [
        " 3 Neg:  1 Net:  0\n",
        "4 out of 4 were correctly classified or 100.0\n",
        "Score: 75.0 Rating: positive \n",
        "\n",
        "###########"
       ]
      },
      {
       "output_type": "stream",
       "stream": "stdout",
       "text": [
        " The Purge: Anarchy ###########\n",
        "There are 25 reviews for The Purge: Anarchy\n",
        "Pos: "
       ]
      },
      {
       "output_type": "stream",
       "stream": "stdout",
       "text": [
        " 16 Neg:  8 Net:  1\n",
        "13 out of 25 were correctly classified or 52.0\n",
        "Score: 67.0 Rating: positive \n",
        "\n",
        "###########"
       ]
      },
      {
       "output_type": "stream",
       "stream": "stdout",
       "text": [
        " Nightcrawler ###########\n",
        "There are 44 reviews for Nightcrawler\n",
        "Pos: "
       ]
      },
      {
       "output_type": "stream",
       "stream": "stdout",
       "text": [
        " 35 Neg:  5 Net:  4\n",
        "35 out of 44 were correctly classified or 80.0\n",
        "Score: 88.0 Rating: positive \n",
        "\n",
        "###########"
       ]
      },
      {
       "output_type": "stream",
       "stream": "stdout",
       "text": [
        " That Awkward Moment ###########\n",
        "There are 32 reviews for That Awkward Moment\n",
        "Pos: "
       ]
      },
      {
       "output_type": "stream",
       "stream": "stdout",
       "text": [
        " 13 Neg:  16 Net:  3\n",
        "21 out of 32 were correctly classified or 66.0\n",
        "Score: 45.0 Rating: negative \n",
        "\n",
        "###########"
       ]
      },
      {
       "output_type": "stream",
       "stream": "stdout",
       "text": [
        " Devil's Due ###########\n",
        "There are 8 reviews for Devil's Due\n",
        "Pos: "
       ]
      },
      {
       "output_type": "stream",
       "stream": "stdout",
       "text": [
        " 3 Neg:  5 Net:  0\n",
        "4 out of 8 were correctly classified or 50.0\n",
        "Score: 38.0 Rating: negative \n",
        "\n",
        "###########"
       ]
      },
      {
       "output_type": "stream",
       "stream": "stdout",
       "text": [
        " Beyond the Lights ###########\n",
        "There are 28 reviews for Beyond the Lights\n",
        "Pos: "
       ]
      },
      {
       "output_type": "stream",
       "stream": "stdout",
       "text": [
        " 22 Neg:  3 Net:  3\n",
        "19 out of 28 were correctly classified or 68.0\n",
        "Score: 88.0 Rating: positive \n",
        "\n",
        "###########"
       ]
      },
      {
       "output_type": "stream",
       "stream": "stdout",
       "text": [
        " Annabelle ###########\n",
        "There are 25 reviews for Annabelle\n",
        "Pos: "
       ]
      },
      {
       "output_type": "stream",
       "stream": "stdout",
       "text": [
        " 11 Neg:  10 Net:  4\n",
        "10 out of 25 were correctly classified or 40.0\n",
        "Score: 52.0 Rating: positive \n",
        "\n",
        "###########"
       ]
      },
      {
       "output_type": "stream",
       "stream": "stdout",
       "text": [
        " Veronica Mars ###########\n",
        "There are 32 reviews for Veronica Mars\n",
        "Pos: "
       ]
      },
      {
       "output_type": "stream",
       "stream": "stdout",
       "text": [
        " 20 Neg:  7 Net:  5\n",
        "17 out of 32 were correctly classified or 53.0\n",
        "Score: 74.0 Rating: positive \n",
        "\n",
        "###########"
       ]
      },
      {
       "output_type": "stream",
       "stream": "stdout",
       "text": [
        " Ouija ###########\n",
        "There are 17 reviews for Ouija\n",
        "Pos: "
       ]
      },
      {
       "output_type": "stream",
       "stream": "stdout",
       "text": [
        " 10 Neg:  6 Net:  1\n",
        "10 out of 17 were correctly classified or 59.0\n",
        "Score: 62.0 Rating: positive \n",
        "\n",
        "###########"
       ]
      },
      {
       "output_type": "stream",
       "stream": "stdout",
       "text": [
        " Paranormal Activity: The Marked Ones ###########\n",
        "There are 18 reviews for Paranormal Activity: The Marked Ones\n",
        "Pos: "
       ]
      },
      {
       "output_type": "stream",
       "stream": "stdout",
       "text": [
        " 12 Neg:  5 Net:  1\n",
        "10 out of 18 were correctly classified or 56.0\n",
        "Score: 71.0 Rating: positive \n",
        "\n",
        "###########"
       ]
      },
      {
       "output_type": "stream",
       "stream": "stdout",
       "text": [
        " Oculus ###########\n",
        "There are 26 reviews for Oculus\n",
        "Pos: "
       ]
      },
      {
       "output_type": "stream",
       "stream": "stdout",
       "text": [
        " 21 Neg:  4 Net:  1\n",
        "21 out of 26 were correctly classified or 81.0\n",
        "Score: 84.0 Rating: positive \n",
        "\n",
        "###########"
       ]
      },
      {
       "output_type": "stream",
       "stream": "stdout",
       "text": [
        " As Above, So Below ###########\n",
        "There are 11 reviews for As Above, So Below\n",
        "Pos: "
       ]
      },
      {
       "output_type": "stream",
       "stream": "stdout",
       "text": [
        " 7 Neg:  4 Net:  0\n",
        "5 out of 11 were correctly classified or 45.0\n",
        "Score: 64.0 Rating: positive \n",
        "\n",
        "###########"
       ]
      },
      {
       "output_type": "stream",
       "stream": "stdout",
       "text": [
        " Kill the Messenger ###########\n",
        "There are 32 reviews for Kill the Messenger\n",
        "Pos: "
       ]
      },
      {
       "output_type": "stream",
       "stream": "stdout",
       "text": [
        " 25 Neg:  6 Net:  1\n",
        "24 out of 32 were correctly classified or 75.0\n",
        "Score: 81.0 Rating: positive \n",
        "\n",
        "###########"
       ]
      },
      {
       "output_type": "stream",
       "stream": "stdout",
       "text": [
        " Atlas Shrugged: Who Is John Galt? ###########\n",
        "There are 6 reviews for Atlas Shrugged: Who Is John Galt?\n",
        "Pos: "
       ]
      },
      {
       "output_type": "stream",
       "stream": "stdout",
       "text": [
        " 1 Neg:  5 Net:  0\n",
        "5 out of 6 were correctly classified or 83.0\n",
        "Score: 17.0 Rating: negative \n",
        "\n",
        "###########"
       ]
      },
      {
       "output_type": "stream",
       "stream": "stdout",
       "text": [
        " Rudderless ###########\n",
        "There are 16 reviews for Rudderless\n",
        "Pos: "
       ]
      },
      {
       "output_type": "stream",
       "stream": "stdout",
       "text": [
        " 14 Neg:  2 Net:  0\n",
        "10 out of 16 were correctly classified or 62.0\n",
        "Score: 88.0 Rating: positive \n",
        "\n",
        "###########"
       ]
      },
      {
       "output_type": "stream",
       "stream": "stdout",
       "text": [
        " Henry & Me ###########\n",
        "There are 3 reviews for Henry & Me\n",
        "Pos: "
       ]
      },
      {
       "output_type": "stream",
       "stream": "stdout",
       "text": [
        " 3 Neg:  0 Net:  0\n",
        "2 out of 3 were correctly classified or 67.0\n",
        "Score: 100.0 Rating: positive \n",
        "\n",
        "###########"
       ]
      },
      {
       "output_type": "stream",
       "stream": "stdout",
       "text": [
        " Falcon Rising ###########\n",
        "There are 4 reviews for Falcon Rising\n",
        "Pos: "
       ]
      },
      {
       "output_type": "stream",
       "stream": "stdout",
       "text": [
        " 4 Neg:  0 Net:  0\n",
        "1 out of 4 were correctly classified or 25.0\n",
        "Score: 100.0 Rating: positive \n",
        "\n",
        "###########"
       ]
      },
      {
       "output_type": "stream",
       "stream": "stdout",
       "text": [
        " Anna ###########\n",
        "There are 25 reviews for Anna\n",
        "Pos: "
       ]
      },
      {
       "output_type": "stream",
       "stream": "stdout",
       "text": [
        " 11 Neg:  10 Net:  4\n",
        "10 out of 25 were correctly classified or 40.0\n",
        "Score: 52.0 Rating: positive \n",
        "\n",
        "###########"
       ]
      },
      {
       "output_type": "stream",
       "stream": "stdout",
       "text": [
        " A Haunted House 2 ###########\n",
        "There are 15 reviews for A Haunted House 2\n",
        "Pos: "
       ]
      },
      {
       "output_type": "stream",
       "stream": "stdout",
       "text": [
        " 4 Neg:  9 Net:  2\n",
        "14 out of 15 were correctly classified or 93.0\n",
        "Score: 31.0 Rating: negative \n",
        "\n",
        "###########"
       ]
      },
      {
       "output_type": "stream",
       "stream": "stdout",
       "text": [
        " The Perfect Wave ###########\n",
        "There are 2 reviews for The Perfect Wave\n",
        "There are not enough reviews\n",
        "Can not score classifier, not enough reviews \n",
        "\n",
        "###########"
       ]
      },
      {
       "output_type": "stream",
       "stream": "stdout",
       "text": [
        " Whiplash ###########\n",
        "There are 47 reviews for Whiplash\n",
        "Pos: "
       ]
      },
      {
       "output_type": "stream",
       "stream": "stdout",
       "text": [
        " 37 Neg:  6 Net:  4\n",
        "37 out of 47 were correctly classified or 79.0\n",
        "Score: 86.0 Rating: positive \n",
        "\n",
        "###########"
       ]
      },
      {
       "output_type": "stream",
       "stream": "stdout",
       "text": [
        " Fort McCoy ###########\n",
        "There are 5 reviews for Fort McCoy\n",
        "Pos: "
       ]
      },
      {
       "output_type": "stream",
       "stream": "stdout",
       "text": [
        " 5 Neg:  0 Net:  0\n",
        "3 out of 5 were correctly classified or 60.0\n",
        "Score: 100.0 Rating: positive \n",
        "\n",
        "###########"
       ]
      },
      {
       "output_type": "stream",
       "stream": "stdout",
       "text": [
        " Boyhood ###########\n",
        "There are 46 reviews for Boyhood\n",
        "Pos: "
       ]
      },
      {
       "output_type": "stream",
       "stream": "stdout",
       "text": [
        " 37 Neg:  7 Net:  2\n",
        "37 out of 46 were correctly classified or 80.0\n",
        "Score: 84.0 Rating: positive \n",
        "\n",
        "###########"
       ]
      },
      {
       "output_type": "stream",
       "stream": "stdout",
       "text": [
        " God\u0092s Not Dead ###########\n",
        "There are 4 reviews for God\u0092s Not Dead\n",
        "Pos: "
       ]
      },
      {
       "output_type": "stream",
       "stream": "stdout",
       "text": [
        " 3 Neg:  1 Net:  0\n",
        "2 out of 4 were correctly classified or 50.0\n",
        "Score: 75.0 Rating: positive \n",
        "\n",
        "###########"
       ]
      },
      {
       "output_type": "stream",
       "stream": "stdout",
       "text": [
        " Pump ###########\n",
        "There are 5 reviews for Pump\n",
        "Pos: "
       ]
      },
      {
       "output_type": "stream",
       "stream": "stdout",
       "text": [
        " 4 Neg:  0 Net:  1\n",
        "3 out of 5 were correctly classified or 60.0\n",
        "Score: 100.0 Rating: positive \n",
        "\n",
        "###########"
       ]
      },
      {
       "output_type": "stream",
       "stream": "stdout",
       "text": [
        " Housebound ###########\n",
        "There are 5 reviews for Housebound\n",
        "Pos: "
       ]
      },
      {
       "output_type": "stream",
       "stream": "stdout",
       "text": [
        " 4 Neg:  1 Net:  0\n",
        "4 out of 5 were correctly classified or 80.0\n",
        "Score: 80.0 Rating: positive \n",
        "\n",
        "###########"
       ]
      },
      {
       "output_type": "stream",
       "stream": "stdout",
       "text": [
        " Los insolitos peces gato ###########\n",
        "There are 4 reviews for Los insolitos peces gato\n",
        "Pos: "
       ]
      },
      {
       "output_type": "stream",
       "stream": "stdout",
       "text": [
        " 4 Neg:  0 Net:  0\n",
        "4 out of 4 were correctly classified or 100.0\n",
        "Score: 100.0 Rating: positive \n",
        "\n",
        "###########"
       ]
      },
      {
       "output_type": "stream",
       "stream": "stdout",
       "text": [
        " Water & Power ###########\n",
        "There are 1 reviews for Water & Power\n",
        "There are not enough reviews\n",
        "Can not score classifier, not enough reviews \n",
        "\n",
        "###########"
       ]
      },
      {
       "output_type": "stream",
       "stream": "stdout",
       "text": [
        " As It Is in Heaven ###########\n",
        "There are 7 reviews for As It Is in Heaven\n",
        "Pos: "
       ]
      },
      {
       "output_type": "stream",
       "stream": "stdout",
       "text": [
        " 6 Neg:  1 Net:  0\n",
        "6 out of 7 were correctly classified or 86.0\n",
        "Score: 86.0 Rating: positive \n",
        "\n",
        "###########"
       ]
      },
      {
       "output_type": "stream",
       "stream": "stdout",
       "text": [
        " Locker 13 ###########\n",
        "There are 3 reviews for Locker 13\n",
        "Pos: "
       ]
      },
      {
       "output_type": "stream",
       "stream": "stdout",
       "text": [
        " 2 Neg:  0 Net:  1\n",
        "1 out of 3 were correctly classified or 33.0\n",
        "Score: 100.0 Rating: positive \n",
        "\n",
        "###########"
       ]
      },
      {
       "output_type": "stream",
       "stream": "stdout",
       "text": [
        " All You Need Is Love ###########\n",
        "There are 3 reviews for All You Need Is Love\n",
        "Pos: "
       ]
      },
      {
       "output_type": "stream",
       "stream": "stdout",
       "text": [
        " 3 Neg:  0 Net:  0\n",
        "1 out of 3 were correctly classified or 33.0\n",
        "Score: 100.0 Rating: positive \n",
        "\n",
        "###########"
       ]
      },
      {
       "output_type": "stream",
       "stream": "stdout",
       "text": [
        " Test ###########\n",
        "There are 7 reviews for Test\n",
        "Pos: "
       ]
      },
      {
       "output_type": "stream",
       "stream": "stdout",
       "text": [
        " 5 Neg:  2 Net:  0\n",
        "6 out of 7 were correctly classified or 86.0\n",
        "Score: 71.0 Rating: positive \n",
        "\n",
        "###########"
       ]
      },
      {
       "output_type": "stream",
       "stream": "stdout",
       "text": [
        " Jesus People ###########\n",
        "There are 2 reviews for Jesus People\n",
        "There are not enough reviews\n",
        "Can not score classifier, not enough reviews \n",
        "\n",
        "###########"
       ]
      },
      {
       "output_type": "stream",
       "stream": "stdout",
       "text": [
        " The Word ###########\n",
        "There are 2 reviews for The Word\n",
        "There are not enough reviews\n",
        "Can not score classifier, not enough reviews \n",
        "\n",
        "###########"
       ]
      },
      {
       "output_type": "stream",
       "stream": "stdout",
       "text": [
        " Archaeology of a Woman ###########\n",
        "There are 2 reviews for Archaeology of a Woman\n",
        "There are not enough reviews\n",
        "Can not score classifier, not enough reviews \n",
        "\n",
        "###########"
       ]
      },
      {
       "output_type": "stream",
       "stream": "stdout",
       "text": [
        " Cheap Thrills ###########\n",
        "There are 18 reviews for Cheap Thrills\n",
        "Pos: "
       ]
      },
      {
       "output_type": "stream",
       "stream": "stdout",
       "text": [
        " 14 Neg:  4 Net:  0\n",
        "13 out of 18 were correctly classified or 72.0\n",
        "Score: 78.0 Rating: positive \n",
        "\n",
        "###########"
       ]
      },
      {
       "output_type": "stream",
       "stream": "stdout",
       "text": [
        " The Past is a Grotesque Animal ###########\n",
        "There are 1 reviews for The Past is a Grotesque Animal\n",
        "There are not enough reviews\n",
        "Can not score classifier, not enough reviews \n",
        "\n"
       ]
      }
     ],
     "prompt_number": 20
    },
    {
     "cell_type": "code",
     "collapsed": false,
     "input": [
      "print len(pert_movie), len(pert_class)"
     ],
     "language": "python",
     "metadata": {},
     "outputs": [
      {
       "output_type": "stream",
       "stream": "stdout",
       "text": [
        "136 136\n"
       ]
      }
     ],
     "prompt_number": 21
    },
    {
     "cell_type": "code",
     "collapsed": false,
     "input": [
      "overall_mov['Sentiment_Score'] = pert_movie\n",
      "overall_mov['Classifier_Rating'] = pert_class\n",
      "overall_mov"
     ],
     "language": "python",
     "metadata": {},
     "outputs": [
      {
       "html": [
        "<div style=\"max-height:1000px;max-width:1500px;overflow:auto;\">\n",
        "<table border=\"1\" class=\"dataframe\">\n",
        "  <thead>\n",
        "    <tr style=\"text-align: right;\">\n",
        "      <th></th>\n",
        "      <th>Name</th>\n",
        "      <th>CriticsScore</th>\n",
        "      <th>AudScore</th>\n",
        "      <th>Rank</th>\n",
        "      <th>Reviews_JSON</th>\n",
        "      <th>Sentiment_Score</th>\n",
        "      <th>Classifier_Rating</th>\n",
        "    </tr>\n",
        "  </thead>\n",
        "  <tbody>\n",
        "    <tr>\n",
        "      <th>0  </th>\n",
        "      <td> The Hobbit: The Battle of the Five Armies</td>\n",
        "      <td>  -1</td>\n",
        "      <td> 99</td>\n",
        "      <td>   12</td>\n",
        "      <td> [\"It's sad that Hollywood filmmaking is so oft...</td>\n",
        "      <td> 100</td>\n",
        "      <td>  80</td>\n",
        "    </tr>\n",
        "    <tr>\n",
        "      <th>1  </th>\n",
        "      <td>           Transformers: Age of Extinction</td>\n",
        "      <td>  18</td>\n",
        "      <td> 53</td>\n",
        "      <td>   22</td>\n",
        "      <td> [\"The few authentic inspirations to be found i...</td>\n",
        "      <td>  56</td>\n",
        "      <td>  53</td>\n",
        "    </tr>\n",
        "    <tr>\n",
        "      <th>2  </th>\n",
        "      <td>                X-Men: Days of Future Past</td>\n",
        "      <td>  92</td>\n",
        "      <td> 92</td>\n",
        "      <td>   36</td>\n",
        "      <td> [\"Much of this takes place in the early 1970s,...</td>\n",
        "      <td>  85</td>\n",
        "      <td>  68</td>\n",
        "    </tr>\n",
        "    <tr>\n",
        "      <th>3  </th>\n",
        "      <td>                  The Amazing Spider-Man 2</td>\n",
        "      <td>  53</td>\n",
        "      <td> 68</td>\n",
        "      <td>   37</td>\n",
        "      <td> [\"Despite the efforts of Electro, the franchis...</td>\n",
        "      <td>  71</td>\n",
        "      <td>  46</td>\n",
        "    </tr>\n",
        "    <tr>\n",
        "      <th>4  </th>\n",
        "      <td>                                Maleficent</td>\n",
        "      <td>  49</td>\n",
        "      <td> 72</td>\n",
        "      <td>   57</td>\n",
        "      <td> [\"As for the screenplay, by Linda Woolverton, ...</td>\n",
        "      <td>  81</td>\n",
        "      <td>  49</td>\n",
        "    </tr>\n",
        "    <tr>\n",
        "      <th>5  </th>\n",
        "      <td>                          Edge of Tomorrow</td>\n",
        "      <td>  90</td>\n",
        "      <td> 91</td>\n",
        "      <td>   61</td>\n",
        "      <td> [\"The conceit may sound constricting, but Lima...</td>\n",
        "      <td>  77</td>\n",
        "      <td>  68</td>\n",
        "    </tr>\n",
        "    <tr>\n",
        "      <th>6  </th>\n",
        "      <td>                   Guardians of the Galaxy</td>\n",
        "      <td>  90</td>\n",
        "      <td> 94</td>\n",
        "      <td>   71</td>\n",
        "      <td> [\"Blessed with a loose, anarchic B-picture sou...</td>\n",
        "      <td>  76</td>\n",
        "      <td>  70</td>\n",
        "    </tr>\n",
        "    <tr>\n",
        "      <th>7  </th>\n",
        "      <td>       Captain America: The Winter Soldier</td>\n",
        "      <td>  89</td>\n",
        "      <td> 92</td>\n",
        "      <td>   73</td>\n",
        "      <td> [\"A movie that is, in the best sense of the wo...</td>\n",
        "      <td>  73</td>\n",
        "      <td>  67</td>\n",
        "    </tr>\n",
        "    <tr>\n",
        "      <th>8  </th>\n",
        "      <td>            Dawn of the Planet of the Apes</td>\n",
        "      <td>  91</td>\n",
        "      <td> 90</td>\n",
        "      <td>   74</td>\n",
        "      <td> [\"For dramatic verve and emotional nuance, ape...</td>\n",
        "      <td>  76</td>\n",
        "      <td>  66</td>\n",
        "    </tr>\n",
        "    <tr>\n",
        "      <th>9  </th>\n",
        "      <td>                                Big Hero 6</td>\n",
        "      <td>  89</td>\n",
        "      <td> 94</td>\n",
        "      <td>   83</td>\n",
        "      <td> [\"Big Hero 6 offers something for everyone: ac...</td>\n",
        "      <td>  82</td>\n",
        "      <td>  81</td>\n",
        "    </tr>\n",
        "    <tr>\n",
        "      <th>10 </th>\n",
        "      <td>                              Interstellar</td>\n",
        "      <td>  73</td>\n",
        "      <td> 87</td>\n",
        "      <td>   84</td>\n",
        "      <td> [\"After the first hour, with its poignant depi...</td>\n",
        "      <td>  79</td>\n",
        "      <td>  62</td>\n",
        "    </tr>\n",
        "    <tr>\n",
        "      <th>11 </th>\n",
        "      <td>                                  Godzilla</td>\n",
        "      <td>  73</td>\n",
        "      <td> 68</td>\n",
        "      <td>   89</td>\n",
        "      <td> [\"This is what you get, San Francisco, with al...</td>\n",
        "      <td>  75</td>\n",
        "      <td>  68</td>\n",
        "    </tr>\n",
        "    <tr>\n",
        "      <th>12 </th>\n",
        "      <td>                How to Train Your Dragon 2</td>\n",
        "      <td>  92</td>\n",
        "      <td> 91</td>\n",
        "      <td>  127</td>\n",
        "      <td> [\"Hats off to Dreamworks for offering some bol...</td>\n",
        "      <td>  91</td>\n",
        "      <td>  89</td>\n",
        "    </tr>\n",
        "    <tr>\n",
        "      <th>13 </th>\n",
        "      <td>                     Mr. Peabody &amp; Sherman</td>\n",
        "      <td>  79</td>\n",
        "      <td> 74</td>\n",
        "      <td>  129</td>\n",
        "      <td> [\"Back in his day, Mr. Peabody was a dog whose...</td>\n",
        "      <td>  76</td>\n",
        "      <td>  67</td>\n",
        "    </tr>\n",
        "    <tr>\n",
        "      <th>14 </th>\n",
        "      <td>                                     Rio 2</td>\n",
        "      <td>  48</td>\n",
        "      <td> 60</td>\n",
        "      <td>  163</td>\n",
        "      <td> [\"The movie has one goal: to amuse the most ch...</td>\n",
        "      <td>  82</td>\n",
        "      <td>  44</td>\n",
        "    </tr>\n",
        "    <tr>\n",
        "      <th>15 </th>\n",
        "      <td>                                      Noah</td>\n",
        "      <td>  77</td>\n",
        "      <td> 43</td>\n",
        "      <td>  165</td>\n",
        "      <td> [\"In a single sequence, Aronofsky combines cre...</td>\n",
        "      <td>  86</td>\n",
        "      <td>  74</td>\n",
        "    </tr>\n",
        "    <tr>\n",
        "      <th>16 </th>\n",
        "      <td>              Teenage Mutant Ninja Turtles</td>\n",
        "      <td>  22</td>\n",
        "      <td> 56</td>\n",
        "      <td>  180</td>\n",
        "      <td> [\"In one way, Teenage Mutant Ninja Turtles is ...</td>\n",
        "      <td>  37</td>\n",
        "      <td>  58</td>\n",
        "    </tr>\n",
        "    <tr>\n",
        "      <th>17 </th>\n",
        "      <td>                                   RoboCop</td>\n",
        "      <td>  48</td>\n",
        "      <td> 52</td>\n",
        "      <td>  200</td>\n",
        "      <td> [\"Surveying the peculiar array of 1980s retrea...</td>\n",
        "      <td>  69</td>\n",
        "      <td>  57</td>\n",
        "    </tr>\n",
        "    <tr>\n",
        "      <th>18 </th>\n",
        "      <td>                    300: Rise of an Empire</td>\n",
        "      <td>  42</td>\n",
        "      <td> 54</td>\n",
        "      <td>  224</td>\n",
        "      <td> [\"The mere existence of 300: Rise of an Empire...</td>\n",
        "      <td>  66</td>\n",
        "      <td>  68</td>\n",
        "    </tr>\n",
        "    <tr>\n",
        "      <th>19 </th>\n",
        "      <td>                                  Hercules</td>\n",
        "      <td>  58</td>\n",
        "      <td> 54</td>\n",
        "      <td>  271</td>\n",
        "      <td> [\"Everything Guardians of the Galaxy gets righ...</td>\n",
        "      <td>  63</td>\n",
        "      <td>  73</td>\n",
        "    </tr>\n",
        "    <tr>\n",
        "      <th>20 </th>\n",
        "      <td>                         The Expendables 3</td>\n",
        "      <td>  33</td>\n",
        "      <td> 50</td>\n",
        "      <td>  282</td>\n",
        "      <td> [\"At this point, the Expendables have formed a...</td>\n",
        "      <td>  45</td>\n",
        "      <td>  53</td>\n",
        "    </tr>\n",
        "    <tr>\n",
        "      <th>21 </th>\n",
        "      <td>                             Transcendence</td>\n",
        "      <td>  19</td>\n",
        "      <td> 38</td>\n",
        "      <td>  285</td>\n",
        "      <td> [\"The movie is rhythmless, shapeless, and, wit...</td>\n",
        "      <td>  61</td>\n",
        "      <td>  58</td>\n",
        "    </tr>\n",
        "    <tr>\n",
        "      <th>22 </th>\n",
        "      <td>                                 Divergent</td>\n",
        "      <td>  41</td>\n",
        "      <td> 71</td>\n",
        "      <td>  357</td>\n",
        "      <td> [\"Barely diverting.\", \"It's all pretty dumb, a...</td>\n",
        "      <td>  67</td>\n",
        "      <td>  55</td>\n",
        "    </tr>\n",
        "    <tr>\n",
        "      <th>23 </th>\n",
        "      <td>                                      Fury</td>\n",
        "      <td>  78</td>\n",
        "      <td> 88</td>\n",
        "      <td>  430</td>\n",
        "      <td> [\"\\\"Fury\\\" is literally visceral-a kind of war...</td>\n",
        "      <td>  82</td>\n",
        "      <td>  72</td>\n",
        "    </tr>\n",
        "    <tr>\n",
        "      <th>24 </th>\n",
        "      <td>                                   Pompeii</td>\n",
        "      <td>  29</td>\n",
        "      <td> 36</td>\n",
        "      <td>  450</td>\n",
        "      <td> [\"Is it wrong to root for the volcano?\", \"Parm...</td>\n",
        "      <td>  63</td>\n",
        "      <td>  52</td>\n",
        "    </tr>\n",
        "    <tr>\n",
        "      <th>25 </th>\n",
        "      <td>                         The Monuments Men</td>\n",
        "      <td>  31</td>\n",
        "      <td> 44</td>\n",
        "      <td>  553</td>\n",
        "      <td> [\"We may have gained something in humor by not...</td>\n",
        "      <td>  78</td>\n",
        "      <td>  45</td>\n",
        "    </tr>\n",
        "    <tr>\n",
        "      <th>26 </th>\n",
        "      <td>                            Dracula Untold</td>\n",
        "      <td>  23</td>\n",
        "      <td> 61</td>\n",
        "      <td>  558</td>\n",
        "      <td> [\"[Evans] carries Untold by admirably fulfilli...</td>\n",
        "      <td>  85</td>\n",
        "      <td>  29</td>\n",
        "    </tr>\n",
        "    <tr>\n",
        "      <th>27 </th>\n",
        "      <td>                    The Legend of Hercules</td>\n",
        "      <td>   3</td>\n",
        "      <td> 34</td>\n",
        "      <td>  575</td>\n",
        "      <td> [\"Essentially a Monday Night Raw episode with ...</td>\n",
        "      <td>  43</td>\n",
        "      <td>  73</td>\n",
        "    </tr>\n",
        "    <tr>\n",
        "      <th>28 </th>\n",
        "      <td>           Legends of Oz: Dorothy\u0092s Return</td>\n",
        "      <td>  16</td>\n",
        "      <td> 73</td>\n",
        "      <td>  578</td>\n",
        "      <td> [\"Problems abound from the rushed beginning al...</td>\n",
        "      <td>  86</td>\n",
        "      <td>  33</td>\n",
        "    </tr>\n",
        "    <tr>\n",
        "      <th>29 </th>\n",
        "      <td>                            Need for Speed</td>\n",
        "      <td>  22</td>\n",
        "      <td> 59</td>\n",
        "      <td>  598</td>\n",
        "      <td> [\"This is cinema reduced or distilled to its p...</td>\n",
        "      <td>  43</td>\n",
        "      <td>  62</td>\n",
        "    </tr>\n",
        "    <tr>\n",
        "      <th>...</th>\n",
        "      <td>...</td>\n",
        "      <td>...</td>\n",
        "      <td>...</td>\n",
        "      <td>...</td>\n",
        "      <td>...</td>\n",
        "      <td>...</td>\n",
        "      <td>...</td>\n",
        "    </tr>\n",
        "    <tr>\n",
        "      <th>106</th>\n",
        "      <td>                             Veronica Mars</td>\n",
        "      <td>  78</td>\n",
        "      <td> 81</td>\n",
        "      <td> 3323</td>\n",
        "      <td> [\"The film is an obvious labor of love for all...</td>\n",
        "      <td>  74</td>\n",
        "      <td>  53</td>\n",
        "    </tr>\n",
        "    <tr>\n",
        "      <th>107</th>\n",
        "      <td>                                     Ouija</td>\n",
        "      <td>   7</td>\n",
        "      <td> 30</td>\n",
        "      <td> 3390</td>\n",
        "      <td> [\"\\\"Ouija\\\" is hampered by the fact that watch...</td>\n",
        "      <td>  62</td>\n",
        "      <td>  59</td>\n",
        "    </tr>\n",
        "    <tr>\n",
        "      <th>108</th>\n",
        "      <td>      Paranormal Activity: The Marked Ones</td>\n",
        "      <td>  38</td>\n",
        "      <td> 36</td>\n",
        "      <td> 3396</td>\n",
        "      <td> [\"There's no getting past the nonsense formali...</td>\n",
        "      <td>  71</td>\n",
        "      <td>  56</td>\n",
        "    </tr>\n",
        "    <tr>\n",
        "      <th>109</th>\n",
        "      <td>                                    Oculus</td>\n",
        "      <td>  74</td>\n",
        "      <td> 53</td>\n",
        "      <td> 3398</td>\n",
        "      <td> [\"\\\"Reaches right through you and chills you t...</td>\n",
        "      <td>  84</td>\n",
        "      <td>  81</td>\n",
        "    </tr>\n",
        "    <tr>\n",
        "      <th>110</th>\n",
        "      <td>                        As Above, So Below</td>\n",
        "      <td>  27</td>\n",
        "      <td> 43</td>\n",
        "      <td> 3407</td>\n",
        "      <td> [\"Once upon a time, when someone in a horror m...</td>\n",
        "      <td>  64</td>\n",
        "      <td>  45</td>\n",
        "    </tr>\n",
        "    <tr>\n",
        "      <th>111</th>\n",
        "      <td>                        Kill the Messenger</td>\n",
        "      <td>  77</td>\n",
        "      <td> 77</td>\n",
        "      <td> 3452</td>\n",
        "      <td> [\"Kill the Messenger does a credible if not da...</td>\n",
        "      <td>  81</td>\n",
        "      <td>  75</td>\n",
        "    </tr>\n",
        "    <tr>\n",
        "      <th>112</th>\n",
        "      <td>         Atlas Shrugged: Who Is John Galt?</td>\n",
        "      <td>   0</td>\n",
        "      <td> 54</td>\n",
        "      <td> 3457</td>\n",
        "      <td> [\"Prime Mystery Science Theater 3000 fodder, c...</td>\n",
        "      <td>  17</td>\n",
        "      <td>  83</td>\n",
        "    </tr>\n",
        "    <tr>\n",
        "      <th>113</th>\n",
        "      <td>                                Rudderless</td>\n",
        "      <td>  64</td>\n",
        "      <td> 93</td>\n",
        "      <td> 3470</td>\n",
        "      <td> [\"Rudderless is humane and almost entertaining...</td>\n",
        "      <td>  88</td>\n",
        "      <td>  62</td>\n",
        "    </tr>\n",
        "    <tr>\n",
        "      <th>114</th>\n",
        "      <td>                                Henry &amp; Me</td>\n",
        "      <td>  -1</td>\n",
        "      <td> 50</td>\n",
        "      <td> 3476</td>\n",
        "      <td> [\"Henry &amp; Me is a heartwarming tale that shoul...</td>\n",
        "      <td> 100</td>\n",
        "      <td>  67</td>\n",
        "    </tr>\n",
        "    <tr>\n",
        "      <th>115</th>\n",
        "      <td>                             Falcon Rising</td>\n",
        "      <td>  43</td>\n",
        "      <td> 50</td>\n",
        "      <td> 3518</td>\n",
        "      <td> [\"\\\"Falcon Rising\\\" is filled with so many act...</td>\n",
        "      <td> 100</td>\n",
        "      <td>  25</td>\n",
        "    </tr>\n",
        "    <tr>\n",
        "      <th>116</th>\n",
        "      <td>                                      Anna</td>\n",
        "      <td>  29</td>\n",
        "      <td> 40</td>\n",
        "      <td> 3522</td>\n",
        "      <td> [\"Quality is often irrelevant in a horror movi...</td>\n",
        "      <td>  52</td>\n",
        "      <td>  40</td>\n",
        "    </tr>\n",
        "    <tr>\n",
        "      <th>117</th>\n",
        "      <td>                         A Haunted House 2</td>\n",
        "      <td>   8</td>\n",
        "      <td> 49</td>\n",
        "      <td> 3543</td>\n",
        "      <td> [\"Though he's not for all tastes, there's some...</td>\n",
        "      <td>  31</td>\n",
        "      <td>  93</td>\n",
        "    </tr>\n",
        "    <tr>\n",
        "      <th>118</th>\n",
        "      <td>                          The Perfect Wave</td>\n",
        "      <td>  -1</td>\n",
        "      <td> 36</td>\n",
        "      <td> 3601</td>\n",
        "      <td> [\"Unfortunately, it's not enough to resurrect ...</td>\n",
        "      <td>   0</td>\n",
        "      <td>   0</td>\n",
        "    </tr>\n",
        "    <tr>\n",
        "      <th>119</th>\n",
        "      <td>                                  Whiplash</td>\n",
        "      <td>  96</td>\n",
        "      <td> 96</td>\n",
        "      <td> 3654</td>\n",
        "      <td> [\"Primarily two actors and a jazz score, but t...</td>\n",
        "      <td>  86</td>\n",
        "      <td>  79</td>\n",
        "    </tr>\n",
        "    <tr>\n",
        "      <th>120</th>\n",
        "      <td>                                Fort McCoy</td>\n",
        "      <td>  50</td>\n",
        "      <td> 43</td>\n",
        "      <td> 3735</td>\n",
        "      <td> [\"If the film has a major flaw, it's the profu...</td>\n",
        "      <td> 100</td>\n",
        "      <td>  60</td>\n",
        "    </tr>\n",
        "    <tr>\n",
        "      <th>121</th>\n",
        "      <td>                                   Boyhood</td>\n",
        "      <td>  99</td>\n",
        "      <td> 89</td>\n",
        "      <td> 3806</td>\n",
        "      <td> [\"An exceptionally well-crafted coming-of-age ...</td>\n",
        "      <td>  84</td>\n",
        "      <td>  80</td>\n",
        "    </tr>\n",
        "    <tr>\n",
        "      <th>122</th>\n",
        "      <td>                            God\u0092s Not Dead</td>\n",
        "      <td>  17</td>\n",
        "      <td> 81</td>\n",
        "      <td> 3826</td>\n",
        "      <td> [\"Despite the campus setting, little about the...</td>\n",
        "      <td>  75</td>\n",
        "      <td>  50</td>\n",
        "    </tr>\n",
        "    <tr>\n",
        "      <th>123</th>\n",
        "      <td>                                      Pump</td>\n",
        "      <td>  71</td>\n",
        "      <td> 85</td>\n",
        "      <td> 3884</td>\n",
        "      <td> [\"\\\"Pump\\\" is fascinating at times, although t...</td>\n",
        "      <td> 100</td>\n",
        "      <td>  60</td>\n",
        "    </tr>\n",
        "    <tr>\n",
        "      <th>124</th>\n",
        "      <td>                                Housebound</td>\n",
        "      <td>  95</td>\n",
        "      <td> 75</td>\n",
        "      <td> 3983</td>\n",
        "      <td> [\"The mishmash that results is by turns creepy...</td>\n",
        "      <td>  80</td>\n",
        "      <td>  80</td>\n",
        "    </tr>\n",
        "    <tr>\n",
        "      <th>125</th>\n",
        "      <td>                  Los insolitos peces gato</td>\n",
        "      <td> 100</td>\n",
        "      <td> 86</td>\n",
        "      <td> 4000</td>\n",
        "      <td> [\"Writer-director Claudia Sainte-Luce heralds ...</td>\n",
        "      <td> 100</td>\n",
        "      <td> 100</td>\n",
        "    </tr>\n",
        "    <tr>\n",
        "      <th>126</th>\n",
        "      <td>                             Water &amp; Power</td>\n",
        "      <td>  -1</td>\n",
        "      <td> 73</td>\n",
        "      <td> 4167</td>\n",
        "      <td> [\"A quintessential L.A. story that is worth se...</td>\n",
        "      <td>   0</td>\n",
        "      <td>   0</td>\n",
        "    </tr>\n",
        "    <tr>\n",
        "      <th>127</th>\n",
        "      <td>                        As It Is in Heaven</td>\n",
        "      <td>  82</td>\n",
        "      <td> 80</td>\n",
        "      <td> 4220</td>\n",
        "      <td> [\"Never as tense and gripping as it should be,...</td>\n",
        "      <td>  86</td>\n",
        "      <td>  86</td>\n",
        "    </tr>\n",
        "    <tr>\n",
        "      <th>128</th>\n",
        "      <td>                                 Locker 13</td>\n",
        "      <td>  13</td>\n",
        "      <td> 60</td>\n",
        "      <td> 4265</td>\n",
        "      <td> [\"Only those scared of being bored to death ne...</td>\n",
        "      <td> 100</td>\n",
        "      <td>  33</td>\n",
        "    </tr>\n",
        "    <tr>\n",
        "      <th>129</th>\n",
        "      <td>                      All You Need Is Love</td>\n",
        "      <td>  -1</td>\n",
        "      <td>  0</td>\n",
        "      <td> 4266</td>\n",
        "      <td> [\"Those eager young faces and Weaver's informe...</td>\n",
        "      <td> 100</td>\n",
        "      <td>  33</td>\n",
        "    </tr>\n",
        "    <tr>\n",
        "      <th>130</th>\n",
        "      <td>                                      Test</td>\n",
        "      <td>  89</td>\n",
        "      <td> 63</td>\n",
        "      <td> 4285</td>\n",
        "      <td> [\"Here is San Francisco as it was in its bohem...</td>\n",
        "      <td>  71</td>\n",
        "      <td>  86</td>\n",
        "    </tr>\n",
        "    <tr>\n",
        "      <th>131</th>\n",
        "      <td>                              Jesus People</td>\n",
        "      <td>  -1</td>\n",
        "      <td> 67</td>\n",
        "      <td> 4291</td>\n",
        "      <td> [\"The world of Christian pop music gets the \\\"...</td>\n",
        "      <td>   0</td>\n",
        "      <td>   0</td>\n",
        "    </tr>\n",
        "    <tr>\n",
        "      <th>132</th>\n",
        "      <td>                                  The Word</td>\n",
        "      <td>  -1</td>\n",
        "      <td> 25</td>\n",
        "      <td> 4316</td>\n",
        "      <td> [\"\\\"The Word\\\" is never boring, though that ha...</td>\n",
        "      <td>   0</td>\n",
        "      <td>   0</td>\n",
        "    </tr>\n",
        "    <tr>\n",
        "      <th>133</th>\n",
        "      <td>                    Archaeology of a Woman</td>\n",
        "      <td>  60</td>\n",
        "      <td> 71</td>\n",
        "      <td> 4320</td>\n",
        "      <td> [\"Ms. Kirkland - a headstrong veteran performe...</td>\n",
        "      <td>   0</td>\n",
        "      <td>   0</td>\n",
        "    </tr>\n",
        "    <tr>\n",
        "      <th>134</th>\n",
        "      <td>                             Cheap Thrills</td>\n",
        "      <td>  89</td>\n",
        "      <td> 70</td>\n",
        "      <td> 4353</td>\n",
        "      <td> [\"There are satisfying echoes of Stephen King'...</td>\n",
        "      <td>  78</td>\n",
        "      <td>  72</td>\n",
        "    </tr>\n",
        "    <tr>\n",
        "      <th>135</th>\n",
        "      <td>            The Past is a Grotesque Animal</td>\n",
        "      <td>  -1</td>\n",
        "      <td> 78</td>\n",
        "      <td> 4354</td>\n",
        "      <td> [\"How exhilarating, and exhausting, it must be...</td>\n",
        "      <td>   0</td>\n",
        "      <td>   0</td>\n",
        "    </tr>\n",
        "  </tbody>\n",
        "</table>\n",
        "<p>136 rows \u00d7 7 columns</p>\n",
        "</div>"
       ],
       "metadata": {},
       "output_type": "pyout",
       "prompt_number": 22,
       "text": [
        "                                          Name  CriticsScore  AudScore  Rank  \\\n",
        "0    The Hobbit: The Battle of the Five Armies            -1        99    12   \n",
        "1              Transformers: Age of Extinction            18        53    22   \n",
        "2                   X-Men: Days of Future Past            92        92    36   \n",
        "3                     The Amazing Spider-Man 2            53        68    37   \n",
        "4                                   Maleficent            49        72    57   \n",
        "5                             Edge of Tomorrow            90        91    61   \n",
        "6                      Guardians of the Galaxy            90        94    71   \n",
        "7          Captain America: The Winter Soldier            89        92    73   \n",
        "8               Dawn of the Planet of the Apes            91        90    74   \n",
        "9                                   Big Hero 6            89        94    83   \n",
        "10                                Interstellar            73        87    84   \n",
        "11                                    Godzilla            73        68    89   \n",
        "12                  How to Train Your Dragon 2            92        91   127   \n",
        "13                       Mr. Peabody & Sherman            79        74   129   \n",
        "14                                       Rio 2            48        60   163   \n",
        "15                                        Noah            77        43   165   \n",
        "16                Teenage Mutant Ninja Turtles            22        56   180   \n",
        "17                                     RoboCop            48        52   200   \n",
        "18                      300: Rise of an Empire            42        54   224   \n",
        "19                                    Hercules            58        54   271   \n",
        "20                           The Expendables 3            33        50   282   \n",
        "21                               Transcendence            19        38   285   \n",
        "22                                   Divergent            41        71   357   \n",
        "23                                        Fury            78        88   430   \n",
        "24                                     Pompeii            29        36   450   \n",
        "25                           The Monuments Men            31        44   553   \n",
        "26                              Dracula Untold            23        61   558   \n",
        "27                      The Legend of Hercules             3        34   575   \n",
        "28             Legends of Oz: Dorothy\u0092s Return            16        73   578   \n",
        "29                              Need for Speed            22        59   598   \n",
        "..                                         ...           ...       ...   ...   \n",
        "106                              Veronica Mars            78        81  3323   \n",
        "107                                      Ouija             7        30  3390   \n",
        "108       Paranormal Activity: The Marked Ones            38        36  3396   \n",
        "109                                     Oculus            74        53  3398   \n",
        "110                         As Above, So Below            27        43  3407   \n",
        "111                         Kill the Messenger            77        77  3452   \n",
        "112          Atlas Shrugged: Who Is John Galt?             0        54  3457   \n",
        "113                                 Rudderless            64        93  3470   \n",
        "114                                 Henry & Me            -1        50  3476   \n",
        "115                              Falcon Rising            43        50  3518   \n",
        "116                                       Anna            29        40  3522   \n",
        "117                          A Haunted House 2             8        49  3543   \n",
        "118                           The Perfect Wave            -1        36  3601   \n",
        "119                                   Whiplash            96        96  3654   \n",
        "120                                 Fort McCoy            50        43  3735   \n",
        "121                                    Boyhood            99        89  3806   \n",
        "122                             God\u0092s Not Dead            17        81  3826   \n",
        "123                                       Pump            71        85  3884   \n",
        "124                                 Housebound            95        75  3983   \n",
        "125                   Los insolitos peces gato           100        86  4000   \n",
        "126                              Water & Power            -1        73  4167   \n",
        "127                         As It Is in Heaven            82        80  4220   \n",
        "128                                  Locker 13            13        60  4265   \n",
        "129                       All You Need Is Love            -1         0  4266   \n",
        "130                                       Test            89        63  4285   \n",
        "131                               Jesus People            -1        67  4291   \n",
        "132                                   The Word            -1        25  4316   \n",
        "133                     Archaeology of a Woman            60        71  4320   \n",
        "134                              Cheap Thrills            89        70  4353   \n",
        "135             The Past is a Grotesque Animal            -1        78  4354   \n",
        "\n",
        "                                          Reviews_JSON  Sentiment_Score  \\\n",
        "0    [\"It's sad that Hollywood filmmaking is so oft...              100   \n",
        "1    [\"The few authentic inspirations to be found i...               56   \n",
        "2    [\"Much of this takes place in the early 1970s,...               85   \n",
        "3    [\"Despite the efforts of Electro, the franchis...               71   \n",
        "4    [\"As for the screenplay, by Linda Woolverton, ...               81   \n",
        "5    [\"The conceit may sound constricting, but Lima...               77   \n",
        "6    [\"Blessed with a loose, anarchic B-picture sou...               76   \n",
        "7    [\"A movie that is, in the best sense of the wo...               73   \n",
        "8    [\"For dramatic verve and emotional nuance, ape...               76   \n",
        "9    [\"Big Hero 6 offers something for everyone: ac...               82   \n",
        "10   [\"After the first hour, with its poignant depi...               79   \n",
        "11   [\"This is what you get, San Francisco, with al...               75   \n",
        "12   [\"Hats off to Dreamworks for offering some bol...               91   \n",
        "13   [\"Back in his day, Mr. Peabody was a dog whose...               76   \n",
        "14   [\"The movie has one goal: to amuse the most ch...               82   \n",
        "15   [\"In a single sequence, Aronofsky combines cre...               86   \n",
        "16   [\"In one way, Teenage Mutant Ninja Turtles is ...               37   \n",
        "17   [\"Surveying the peculiar array of 1980s retrea...               69   \n",
        "18   [\"The mere existence of 300: Rise of an Empire...               66   \n",
        "19   [\"Everything Guardians of the Galaxy gets righ...               63   \n",
        "20   [\"At this point, the Expendables have formed a...               45   \n",
        "21   [\"The movie is rhythmless, shapeless, and, wit...               61   \n",
        "22   [\"Barely diverting.\", \"It's all pretty dumb, a...               67   \n",
        "23   [\"\\\"Fury\\\" is literally visceral-a kind of war...               82   \n",
        "24   [\"Is it wrong to root for the volcano?\", \"Parm...               63   \n",
        "25   [\"We may have gained something in humor by not...               78   \n",
        "26   [\"[Evans] carries Untold by admirably fulfilli...               85   \n",
        "27   [\"Essentially a Monday Night Raw episode with ...               43   \n",
        "28   [\"Problems abound from the rushed beginning al...               86   \n",
        "29   [\"This is cinema reduced or distilled to its p...               43   \n",
        "..                                                 ...              ...   \n",
        "106  [\"The film is an obvious labor of love for all...               74   \n",
        "107  [\"\\\"Ouija\\\" is hampered by the fact that watch...               62   \n",
        "108  [\"There's no getting past the nonsense formali...               71   \n",
        "109  [\"\\\"Reaches right through you and chills you t...               84   \n",
        "110  [\"Once upon a time, when someone in a horror m...               64   \n",
        "111  [\"Kill the Messenger does a credible if not da...               81   \n",
        "112  [\"Prime Mystery Science Theater 3000 fodder, c...               17   \n",
        "113  [\"Rudderless is humane and almost entertaining...               88   \n",
        "114  [\"Henry & Me is a heartwarming tale that shoul...              100   \n",
        "115  [\"\\\"Falcon Rising\\\" is filled with so many act...              100   \n",
        "116  [\"Quality is often irrelevant in a horror movi...               52   \n",
        "117  [\"Though he's not for all tastes, there's some...               31   \n",
        "118  [\"Unfortunately, it's not enough to resurrect ...                0   \n",
        "119  [\"Primarily two actors and a jazz score, but t...               86   \n",
        "120  [\"If the film has a major flaw, it's the profu...              100   \n",
        "121  [\"An exceptionally well-crafted coming-of-age ...               84   \n",
        "122  [\"Despite the campus setting, little about the...               75   \n",
        "123  [\"\\\"Pump\\\" is fascinating at times, although t...              100   \n",
        "124  [\"The mishmash that results is by turns creepy...               80   \n",
        "125  [\"Writer-director Claudia Sainte-Luce heralds ...              100   \n",
        "126  [\"A quintessential L.A. story that is worth se...                0   \n",
        "127  [\"Never as tense and gripping as it should be,...               86   \n",
        "128  [\"Only those scared of being bored to death ne...              100   \n",
        "129  [\"Those eager young faces and Weaver's informe...              100   \n",
        "130  [\"Here is San Francisco as it was in its bohem...               71   \n",
        "131  [\"The world of Christian pop music gets the \\\"...                0   \n",
        "132  [\"\\\"The Word\\\" is never boring, though that ha...                0   \n",
        "133  [\"Ms. Kirkland - a headstrong veteran performe...                0   \n",
        "134  [\"There are satisfying echoes of Stephen King'...               78   \n",
        "135  [\"How exhilarating, and exhausting, it must be...                0   \n",
        "\n",
        "     Classifier_Rating  \n",
        "0                   80  \n",
        "1                   53  \n",
        "2                   68  \n",
        "3                   46  \n",
        "4                   49  \n",
        "5                   68  \n",
        "6                   70  \n",
        "7                   67  \n",
        "8                   66  \n",
        "9                   81  \n",
        "10                  62  \n",
        "11                  68  \n",
        "12                  89  \n",
        "13                  67  \n",
        "14                  44  \n",
        "15                  74  \n",
        "16                  58  \n",
        "17                  57  \n",
        "18                  68  \n",
        "19                  73  \n",
        "20                  53  \n",
        "21                  58  \n",
        "22                  55  \n",
        "23                  72  \n",
        "24                  52  \n",
        "25                  45  \n",
        "26                  29  \n",
        "27                  73  \n",
        "28                  33  \n",
        "29                  62  \n",
        "..                 ...  \n",
        "106                 53  \n",
        "107                 59  \n",
        "108                 56  \n",
        "109                 81  \n",
        "110                 45  \n",
        "111                 75  \n",
        "112                 83  \n",
        "113                 62  \n",
        "114                 67  \n",
        "115                 25  \n",
        "116                 40  \n",
        "117                 93  \n",
        "118                  0  \n",
        "119                 79  \n",
        "120                 60  \n",
        "121                 80  \n",
        "122                 50  \n",
        "123                 60  \n",
        "124                 80  \n",
        "125                100  \n",
        "126                  0  \n",
        "127                 86  \n",
        "128                 33  \n",
        "129                 33  \n",
        "130                 86  \n",
        "131                  0  \n",
        "132                  0  \n",
        "133                  0  \n",
        "134                 72  \n",
        "135                  0  \n",
        "\n",
        "[136 rows x 7 columns]"
       ]
      }
     ],
     "prompt_number": 22
    },
    {
     "cell_type": "code",
     "collapsed": false,
     "input": [
      "plt.figure(figsize=(12, 7))\n",
      "plt.scatter(overall_mov.AudScore, overall_mov.Sentiment_Score)\n",
      "plt.xlabel('Rotten Tomatoes Audience Score')\n",
      "plt.ylabel('Sentiment Analysis Score')\n",
      "plt.title('Comparsion of RT Audience Score and Sentiment Analysis')\n",
      "\n",
      "m, b = np.polyfit(overall_mov.AudScore, overall_mov.Sentiment_Score, 1)\n",
      "x = np.linspace(overall_mov.AudScore.min(), overall_mov.AudScore.max(), 1000)\n",
      "plt.plot(x, m*x +b, 'r-')\n",
      "plt.show()"
     ],
     "language": "python",
     "metadata": {},
     "outputs": [
      {
       "metadata": {},
       "output_type": "display_data",
       "png": "[encoded data removed]",
       "text": [
        "<matplotlib.figure.Figure at 0x121b51a90>"
       ]
      }
     ],
     "prompt_number": 33
    },
    {
     "cell_type": "code",
     "collapsed": false,
     "input": [
      "plt.figure(figsize=(12, 7))\n",
      "plt.scatter(overall_mov.CriticsScore, overall_mov.Sentiment_Score)\n",
      "plt.xlabel('Rotten Tomatoes Critic Score')\n",
      "plt.ylabel('Sentiment Analysis Score')\n",
      "plt.title('Comparsion of RT Critic Score and Sentiment Analysis')\n",
      "\n",
      "m, b = np.polyfit(overall_mov.CriticsScore, overall_mov.Sentiment_Score, 1)\n",
      "x = np.linspace(overall_mov.CriticsScore.min(), overall_mov.CriticsScore.max(), 1000)\n",
      "plt.plot(x, m*x +b, 'r-')\n",
      "plt.show()"
     ],
     "language": "python",
     "metadata": {},
     "outputs": [
      {
       "metadata": {},
       "output_type": "display_data",
       "png": "[encoded data removed]",
       "text": [
        "<matplotlib.figure.Figure at 0x12252d650>"
       ]
      }
     ],
     "prompt_number": 34
    },
    {
     "cell_type": "code",
     "collapsed": false,
     "input": [
      "print 'Overall percentage of correct classifier', np.mean(overall_mov.Classifier_Rating)"
     ],
     "language": "python",
     "metadata": {},
     "outputs": [
      {
       "output_type": "stream",
       "stream": "stdout",
       "text": [
        "Overall percentage of correct classifier 57.125\n"
       ]
      }
     ],
     "prompt_number": 25
    },
    {
     "cell_type": "code",
     "collapsed": false,
     "input": [
      "pert_bigram_movie, pert_bigram_class = rate_movie(overall_names, 'bigram')"
     ],
     "language": "python",
     "metadata": {},
     "outputs": [
      {
       "output_type": "stream",
       "stream": "stdout",
       "text": [
        "########### The Hobbit: The Battle of the Five Armies ###########\n",
        "There are 5 reviews for The Hobbit: The Battle of the Five Armies\n",
        "Pos:  1 Neg:  3 Net:  1\n",
        "2 out of 5 were correctly classified or 40.0\n",
        "Score: 25.0 Rating: negative \n",
        "\n",
        "###########"
       ]
      },
      {
       "output_type": "stream",
       "stream": "stdout",
       "text": [
        " Transformers: Age of Extinction ###########\n",
        "There are 43 reviews for Transformers: Age of Extinction\n",
        "Pos: "
       ]
      },
      {
       "output_type": "stream",
       "stream": "stdout",
       "text": [
        " 13 Neg:  23 Net:  7\n",
        "30 out of 43 were correctly classified or 70.0\n",
        "Score: 36.0 Rating: negative \n",
        "\n",
        "###########"
       ]
      },
      {
       "output_type": "stream",
       "stream": "stdout",
       "text": [
        " X-Men: Days of Future Past ###########\n",
        "There are 47 reviews for X-Men: Days of Future Past\n",
        "Pos: "
       ]
      },
      {
       "output_type": "stream",
       "stream": "stdout",
       "text": [
        " 18 Neg:  20 Net:  9\n",
        "17 out of 47 were correctly classified or 36.0\n",
        "Score: 47.0 Rating: negative \n",
        "\n",
        "###########"
       ]
      },
      {
       "output_type": "stream",
       "stream": "stdout",
       "text": [
        " The Amazing Spider-Man 2 ###########\n",
        "There are 50 reviews for The Amazing Spider-Man 2\n",
        "Pos: "
       ]
      },
      {
       "output_type": "stream",
       "stream": "stdout",
       "text": [
        " 12 Neg:  33 Net:  5\n",
        "29 out of 50 were correctly classified or 58.0\n",
        "Score: 27.0 Rating: negative \n",
        "\n",
        "###########"
       ]
      },
      {
       "output_type": "stream",
       "stream": "stdout",
       "text": [
        " Maleficent ###########\n",
        "There are 41 reviews for Maleficent\n",
        "Pos: "
       ]
      },
      {
       "output_type": "stream",
       "stream": "stdout",
       "text": [
        " 10 Neg:  24 Net:  7\n",
        "23 out of 41 were correctly classified or 56.0\n",
        "Score: 29.0 Rating: negative \n",
        "\n",
        "###########"
       ]
      },
      {
       "output_type": "stream",
       "stream": "stdout",
       "text": [
        " Edge of Tomorrow ###########\n",
        "There are 47 reviews for Edge of Tomorrow\n",
        "Pos: "
       ]
      },
      {
       "output_type": "stream",
       "stream": "stdout",
       "text": [
        " 15 Neg:  25 Net:  7\n",
        "17 out of 47 were correctly classified or 36.0\n",
        "Score: 38.0 Rating: negative \n",
        "\n",
        "###########"
       ]
      },
      {
       "output_type": "stream",
       "stream": "stdout",
       "text": [
        " Guardians of the Galaxy ###########\n",
        "There are 46 reviews for Guardians of the Galaxy\n",
        "Pos: "
       ]
      },
      {
       "output_type": "stream",
       "stream": "stdout",
       "text": [
        " 20 Neg:  21 Net:  5\n",
        "19 out of 46 were correctly classified or 41.0\n",
        "Score: 49.0 Rating: negative \n",
        "\n",
        "###########"
       ]
      },
      {
       "output_type": "stream",
       "stream": "stdout",
       "text": [
        " Captain America: The Winter Soldier ###########\n",
        "There are 43 reviews for Captain America: The Winter Soldier\n",
        "Pos: "
       ]
      },
      {
       "output_type": "stream",
       "stream": "stdout",
       "text": [
        " 11 Neg:  28 Net:  4\n",
        "19 out of 43 were correctly classified or 44.0\n",
        "Score: 28.0 Rating: negative \n",
        "\n",
        "###########"
       ]
      },
      {
       "output_type": "stream",
       "stream": "stdout",
       "text": [
        " Dawn of the Planet of the Apes ###########\n",
        "There are 47 reviews for Dawn of the Planet of the Apes\n",
        "Pos: "
       ]
      },
      {
       "output_type": "stream",
       "stream": "stdout",
       "text": [
        " 12 Neg:  25 Net:  10\n",
        "15 out of 47 were correctly classified or 32.0\n",
        "Score: 32.0 Rating: negative \n",
        "\n",
        "###########"
       ]
      },
      {
       "output_type": "stream",
       "stream": "stdout",
       "text": [
        " Big Hero 6 ###########\n",
        "There are 36 reviews for Big Hero 6\n",
        "Pos: "
       ]
      },
      {
       "output_type": "stream",
       "stream": "stdout",
       "text": [
        " 14 Neg:  13 Net:  9\n",
        "18 out of 36 were correctly classified or 50.0\n",
        "Score: 52.0 Rating: positive \n",
        "\n",
        "###########"
       ]
      },
      {
       "output_type": "stream",
       "stream": "stdout",
       "text": [
        " Interstellar ###########\n",
        "There are 45 reviews for Interstellar\n",
        "Pos: "
       ]
      },
      {
       "output_type": "stream",
       "stream": "stdout",
       "text": [
        " 19 Neg:  16 Net:  10\n",
        "30 out of 45 were correctly classified or 67.0\n",
        "Score: 54.0 Rating: positive \n",
        "\n",
        "###########"
       ]
      },
      {
       "output_type": "stream",
       "stream": "stdout",
       "text": [
        " Godzilla ###########\n",
        "There are 50 reviews for Godzilla\n",
        "Pos: "
       ]
      },
      {
       "output_type": "stream",
       "stream": "stdout",
       "text": [
        " 18 Neg:  24 Net:  8\n",
        "27 out of 50 were correctly classified or 54.0\n",
        "Score: 43.0 Rating: negative \n",
        "\n",
        "###########"
       ]
      },
      {
       "output_type": "stream",
       "stream": "stdout",
       "text": [
        " How to Train Your Dragon 2 ###########\n",
        "There are 37 reviews for How to Train Your Dragon 2\n",
        "Pos: "
       ]
      },
      {
       "output_type": "stream",
       "stream": "stdout",
       "text": [
        " 14 Neg:  13 Net:  10\n",
        "13 out of 37 were correctly classified or 35.0\n",
        "Score: 52.0 Rating: positive \n",
        "\n",
        "###########"
       ]
      },
      {
       "output_type": "stream",
       "stream": "stdout",
       "text": [
        " Mr. Peabody & Sherman ###########\n",
        "There are 24 reviews for Mr. Peabody & Sherman\n",
        "Pos:  9 Neg:  12 Net:  3\n",
        "11"
       ]
      },
      {
       "output_type": "stream",
       "stream": "stdout",
       "text": [
        " out of 24 were correctly classified or 46.0\n",
        "Score: 43.0 Rating: negative \n",
        "\n",
        "###########"
       ]
      },
      {
       "output_type": "stream",
       "stream": "stdout",
       "text": [
        " Rio 2 ###########\n",
        "There are 25 reviews for Rio 2\n",
        "Pos:  5 Neg:  13 Net:  7\n",
        "12"
       ]
      },
      {
       "output_type": "stream",
       "stream": "stdout",
       "text": [
        " out of 25 were correctly classified or 48.0\n",
        "Score: 28.0 Rating: negative \n",
        "\n",
        "###########"
       ]
      },
      {
       "output_type": "stream",
       "stream": "stdout",
       "text": [
        " Noah ###########\n",
        "There are 46 reviews for Noah\n",
        "Pos: "
       ]
      },
      {
       "output_type": "stream",
       "stream": "stdout",
       "text": [
        " 20 Neg:  19 Net:  7\n",
        "27 out of 46 were correctly classified or 59.0\n",
        "Score: 51.0 Rating: positive \n",
        "\n",
        "###########"
       ]
      },
      {
       "output_type": "stream",
       "stream": "stdout",
       "text": [
        " Teenage Mutant Ninja Turtles ###########\n",
        "There are 33 reviews for Teenage Mutant Ninja Turtles\n",
        "Pos: "
       ]
      },
      {
       "output_type": "stream",
       "stream": "stdout",
       "text": [
        " 5 Neg:  21 Net:  7\n",
        "27 out of 33 were correctly classified or 82.0\n",
        "Score: 19.0 Rating: negative \n",
        "\n",
        "###########"
       ]
      },
      {
       "output_type": "stream",
       "stream": "stdout",
       "text": [
        " RoboCop ###########\n",
        "There are 42 reviews for RoboCop\n",
        "Pos: "
       ]
      },
      {
       "output_type": "stream",
       "stream": "stdout",
       "text": [
        " 15 Neg:  24 Net:  3\n",
        "22 out of 42 were correctly classified or 52.0\n",
        "Score: 38.0 Rating: negative \n",
        "\n",
        "###########"
       ]
      },
      {
       "output_type": "stream",
       "stream": "stdout",
       "text": [
        " 300: Rise of an Empire ###########\n",
        "There are 34 reviews for 300: Rise of an Empire\n",
        "Pos:  6 Neg:  22 Net:  6\n",
        "20"
       ]
      },
      {
       "output_type": "stream",
       "stream": "stdout",
       "text": [
        " out of 34 were correctly classified or 59.0\n",
        "Score: 21.0 Rating: negative \n",
        "\n",
        "###########"
       ]
      },
      {
       "output_type": "stream",
       "stream": "stdout",
       "text": [
        " Hercules ###########\n",
        "There are 22 reviews for Hercules\n",
        "Pos:  8 Neg:  12 Net:  2\n",
        "8 out of 22 were correctly classified or 36.0\n",
        "Score: 40.0 Rating: negative \n",
        "\n",
        "###########"
       ]
      },
      {
       "output_type": "stream",
       "stream": "stdout",
       "text": [
        " The Expendables 3 ###########\n",
        "There are 32 reviews for The Expendables 3\n",
        "Pos:  10 Neg:  16 Net:  6\n",
        "21 out of 32 were correctly classified or 66.0\n",
        "Score: 38.0 Rating: negative \n",
        "\n",
        "###########"
       ]
      },
      {
       "output_type": "stream",
       "stream": "stdout",
       "text": [
        " Transcendence ###########\n",
        "There are 45 reviews for Transcendence\n",
        "Pos: "
       ]
      },
      {
       "output_type": "stream",
       "stream": "stdout",
       "text": [
        " 15 Neg:  26 Net:  4\n",
        "30 out of 45 were correctly classified or 67.0\n",
        "Score: 37.0 Rating: negative \n",
        "\n",
        "###########"
       ]
      },
      {
       "output_type": "stream",
       "stream": "stdout",
       "text": [
        " Divergent ###########\n",
        "There are 42 reviews for Divergent\n",
        "Pos: "
       ]
      },
      {
       "output_type": "stream",
       "stream": "stdout",
       "text": [
        " 7 Neg:  27 Net:  8\n",
        "32 out of 42 were correctly classified or 76.0\n",
        "Score: 21.0 Rating: negative \n",
        "\n",
        "###########"
       ]
      },
      {
       "output_type": "stream",
       "stream": "stdout",
       "text": [
        " Fury ###########\n",
        "There are 40 reviews for Fury\n",
        "Pos: "
       ]
      },
      {
       "output_type": "stream",
       "stream": "stdout",
       "text": [
        " 17 Neg:  16 Net:  7\n",
        "19 out of 40 were correctly classified or 48.0\n",
        "Score: 52.0 Rating: positive \n",
        "\n",
        "###########"
       ]
      },
      {
       "output_type": "stream",
       "stream": "stdout",
       "text": [
        " Pompeii ###########\n",
        "There are 29 reviews for Pompeii\n",
        "Pos:  8 Neg:  13 Net:  8\n",
        "20"
       ]
      },
      {
       "output_type": "stream",
       "stream": "stdout",
       "text": [
        " out of 29 were correctly classified or 69.0\n",
        "Score: 38.0 Rating: negative \n",
        "\n",
        "###########"
       ]
      },
      {
       "output_type": "stream",
       "stream": "stdout",
       "text": [
        " The Monuments Men ###########\n",
        "There are 49 reviews for The Monuments Men\n",
        "Pos: "
       ]
      },
      {
       "output_type": "stream",
       "stream": "stdout",
       "text": [
        " 12 Neg:  28 Net:  9\n",
        "32 out of 49 were correctly classified or 65.0\n",
        "Score: 30.0 Rating: negative \n",
        "\n",
        "###########"
       ]
      },
      {
       "output_type": "stream",
       "stream": "stdout",
       "text": [
        " Dracula Untold ###########\n",
        "There are 21 reviews for Dracula Untold\n",
        "Pos:  4 Neg:  9 Net:  8\n",
        "15 out of 21 were correctly classified or 71.0\n",
        "Score: 31.0 Rating: negative \n",
        "\n",
        "###########"
       ]
      },
      {
       "output_type": "stream",
       "stream": "stdout",
       "text": [
        " The Legend of Hercules ###########\n",
        "There are 15 reviews for The Legend of Hercules\n",
        "Pos:  1 Neg:  10 Net:  4\n",
        "12 out of 15 were correctly classified or 80.0\n",
        "Score: 9.0 Rating: negative \n",
        "\n",
        "###########"
       ]
      },
      {
       "output_type": "stream",
       "stream": "stdout",
       "text": [
        " Legends of Oz: Dorothy\u0092s Return ###########\n",
        "There are 18 reviews for Legends of Oz: Dorothy\u0092s Return\n",
        "Pos:  3 Neg:  14 Net:  1\n",
        "15 out of 18 were correctly classified or 83.0\n",
        "Score: 18.0 Rating: negative \n",
        "\n",
        "###########"
       ]
      },
      {
       "output_type": "stream",
       "stream": "stdout",
       "text": [
        " Need for Speed ###########\n",
        "There are 34 reviews for Need for Speed\n",
        "Pos:  11 Neg:  17 Net:  6\n",
        "21"
       ]
      },
      {
       "output_type": "stream",
       "stream": "stdout",
       "text": [
        " out of 34 were correctly classified or 62.0\n",
        "Score: 39.0 Rating: negative \n",
        "\n",
        "###########"
       ]
      },
      {
       "output_type": "stream",
       "stream": "stdout",
       "text": [
        " I, Frankenstein ###########\n",
        "There are 14 reviews for I, Frankenstein\n",
        "Pos:  3 Neg:  11 Net:  0\n",
        "10 out of 14 were correctly classified or 71.0\n",
        "Score: 21.0 Rating: negative \n",
        "\n",
        "###########"
       ]
      },
      {
       "output_type": "stream",
       "stream": "stdout",
       "text": [
        " Sin City: A Dame to Kill For ###########\n",
        "There are 36 reviews for Sin City: A Dame to Kill For\n",
        "Pos: "
       ]
      },
      {
       "output_type": "stream",
       "stream": "stdout",
       "text": [
        " 5 Neg:  23 Net:  8\n",
        "30 out of 36 were correctly classified or 83.0\n",
        "Score: 18.0 Rating: negative \n",
        "\n",
        "###########"
       ]
      },
      {
       "output_type": "stream",
       "stream": "stdout",
       "text": [
        " Gone Girl ###########\n",
        "There are 48 reviews for Gone Girl\n",
        "Pos: "
       ]
      },
      {
       "output_type": "stream",
       "stream": "stdout",
       "text": [
        " 14 Neg:  20 Net:  14\n",
        "17 out of 48 were correctly classified or 35.0\n",
        "Score: 41.0 Rating: negative \n",
        "\n",
        "###########"
       ]
      },
      {
       "output_type": "stream",
       "stream": "stdout",
       "text": [
        " The Lego Movie ###########\n",
        "There are 40 reviews for The Lego Movie\n",
        "Pos: "
       ]
      },
      {
       "output_type": "stream",
       "stream": "stdout",
       "text": [
        " 15 Neg:  17 Net:  8\n",
        "17 out of 40 were correctly classified or 42.0\n",
        "Score: 47.0 Rating: negative \n",
        "\n",
        "###########"
       ]
      },
      {
       "output_type": "stream",
       "stream": "stdout",
       "text": [
        " Jack Ryan: Shadow Recruit ###########\n",
        "There are 36 reviews for Jack Ryan: Shadow Recruit\n",
        "Pos: "
       ]
      },
      {
       "output_type": "stream",
       "stream": "stdout",
       "text": [
        " 7 Neg:  24 Net:  5\n",
        "17 out of 36 were correctly classified or 47.0\n",
        "Score: 23.0 Rating: negative \n",
        "\n",
        "###########"
       ]
      },
      {
       "output_type": "stream",
       "stream": "stdout",
       "text": [
        " Winter's Tale ###########\n",
        "There are 29 reviews for Winter's Tale\n",
        "Pos:  7 Neg:  19 Net:  3\n",
        "19"
       ]
      },
      {
       "output_type": "stream",
       "stream": "stdout",
       "text": [
        " out of 29 were correctly classified or 66.0\n",
        "Score: 27.0 Rating: negative \n",
        "\n",
        "###########"
       ]
      },
      {
       "output_type": "stream",
       "stream": "stdout",
       "text": [
        " The Equalizer ###########\n",
        "There are 37 reviews for The Equalizer\n",
        "Pos: "
       ]
      },
      {
       "output_type": "stream",
       "stream": "stdout",
       "text": [
        " 7 Neg:  22 Net:  8\n",
        "17 out of 37 were correctly classified or 46.0\n",
        "Score: 24.0 Rating: negative \n",
        "\n",
        "###########"
       ]
      },
      {
       "output_type": "stream",
       "stream": "stdout",
       "text": [
        " Muppets Most Wanted ###########\n",
        "There are 36 reviews for Muppets Most Wanted\n",
        "Pos: "
       ]
      },
      {
       "output_type": "stream",
       "stream": "stdout",
       "text": [
        " 11 Neg:  19 Net:  6\n",
        "16 out of 36 were correctly classified or 44.0\n",
        "Score: 37.0 Rating: negative \n",
        "\n",
        "###########"
       ]
      },
      {
       "output_type": "stream",
       "stream": "stdout",
       "text": [
        " 22 Jump Street ###########\n",
        "There are 47 reviews for 22 Jump Street\n",
        "Pos: "
       ]
      },
      {
       "output_type": "stream",
       "stream": "stdout",
       "text": [
        " 14 Neg:  22 Net:  11\n",
        "16 out of 47 were correctly classified or 34.0\n",
        "Score: 39.0 Rating: negative \n",
        "\n",
        "###########"
       ]
      },
      {
       "output_type": "stream",
       "stream": "stdout",
       "text": [
        " Non-Stop ###########\n",
        "There are 39 reviews for Non-Stop\n",
        "Pos: "
       ]
      },
      {
       "output_type": "stream",
       "stream": "stdout",
       "text": [
        " 17 Neg:  17 Net:  5\n",
        "23 out of 39 were correctly classified or 59.0\n",
        "Score: 50.0 Rating: netural \n",
        "\n",
        "###########"
       ]
      },
      {
       "output_type": "stream",
       "stream": "stdout",
       "text": [
        " Planes: Fire and Rescue ###########\n",
        "There are 23 reviews for Planes: Fire and Rescue\n",
        "Pos:  4 Neg:  16 Net:  3\n",
        "14 out of 23 were correctly classified or 61.0\n",
        "Score: 20.0 Rating: negative \n",
        "\n",
        "###########"
       ]
      },
      {
       "output_type": "stream",
       "stream": "stdout",
       "text": [
        " Into the Storm ###########\n",
        "There are 33 reviews for Into the Storm\n",
        "Pos: "
       ]
      },
      {
       "output_type": "stream",
       "stream": "stdout",
       "text": [
        " 8 Neg:  22 Net:  3\n",
        "18 out of 33 were correctly classified or 55.0\n",
        "Score: 27.0 Rating: negative \n",
        "\n",
        "###########"
       ]
      },
      {
       "output_type": "stream",
       "stream": "stdout",
       "text": [
        " The Book of Life ###########\n",
        "There are 26 reviews for The Book of Life\n",
        "Pos:  12 Neg:  7 Net:  7\n",
        "13 out of 26 were correctly classified or 50.0\n",
        "Score: 63.0 Rating: positive \n",
        "\n",
        "###########"
       ]
      },
      {
       "output_type": "stream",
       "stream": "stdout",
       "text": [
        " The Judge ###########\n",
        "There are 36 reviews for The Judge\n",
        "Pos: "
       ]
      },
      {
       "output_type": "stream",
       "stream": "stdout",
       "text": [
        " 14 Neg:  16 Net:  6\n",
        "17 out of 36 were correctly classified or 47.0\n",
        "Score: 47.0 Rating: negative \n",
        "\n",
        "###########"
       ]
      },
      {
       "output_type": "stream",
       "stream": "stdout",
       "text": [
        " Blended ###########\n",
        "There are 30 reviews for Blended\n",
        "Pos: "
       ]
      },
      {
       "output_type": "stream",
       "stream": "stdout",
       "text": [
        " 10 Neg:  17 Net:  3\n",
        "19 out of 30 were correctly classified or 63.0\n",
        "Score: 37.0 Rating: negative \n",
        "\n",
        "###########"
       ]
      },
      {
       "output_type": "stream",
       "stream": "stdout",
       "text": [
        " Lucy ###########\n",
        "There are 41 reviews for Lucy\n",
        "Pos: "
       ]
      },
      {
       "output_type": "stream",
       "stream": "stdout",
       "text": [
        " 8 Neg:  28 Net:  5\n",
        "21 out of 41 were correctly classified or 51.0\n",
        "Score: 22.0 Rating: negative \n",
        "\n",
        "###########"
       ]
      },
      {
       "output_type": "stream",
       "stream": "stdout",
       "text": [
        " The Other Woman ###########\n",
        "There are 36 reviews for The Other Woman\n",
        "Pos: "
       ]
      },
      {
       "output_type": "stream",
       "stream": "stdout",
       "text": [
        " 10 Neg:  18 Net:  8\n",
        "24 out of 36 were correctly classified or 67.0\n",
        "Score: 36.0 Rating: negative \n",
        "\n",
        "###########"
       ]
      },
      {
       "output_type": "stream",
       "stream": "stdout",
       "text": [
        " Jersey Boys ###########\n",
        "There are 47 reviews for Jersey Boys\n",
        "Pos: "
       ]
      },
      {
       "output_type": "stream",
       "stream": "stdout",
       "text": [
        " 12 Neg:  26 Net:  9\n",
        "27 out of 47 were correctly classified or 57.0\n",
        "Score: 32.0 Rating: negative \n",
        "\n",
        "###########"
       ]
      },
      {
       "output_type": "stream",
       "stream": "stdout",
       "text": [
        " A Million Ways to Die in The West ###########\n",
        "There are 43 reviews for A Million Ways to Die in The West\n",
        "Pos: "
       ]
      },
      {
       "output_type": "stream",
       "stream": "stdout",
       "text": [
        " 10 Neg:  30 Net:  3\n",
        "30 out of 43 were correctly classified or 70.0\n",
        "Score: 25.0 Rating: negative \n",
        "\n",
        "###########"
       ]
      },
      {
       "output_type": "stream",
       "stream": "stdout",
       "text": [
        " Sex Tape ###########\n",
        "There are 34 reviews for Sex Tape\n",
        "Pos: "
       ]
      },
      {
       "output_type": "stream",
       "stream": "stdout",
       "text": [
        " 9 Neg:  22 Net:  3\n",
        "24 out of 34 were correctly classified or 71.0\n",
        "Score: 29.0 Rating: negative \n",
        "\n",
        "###########"
       ]
      },
      {
       "output_type": "stream",
       "stream": "stdout",
       "text": [
        " Dumb and Dumber To ###########\n",
        "There are 29 reviews for Dumb and Dumber To\n",
        "Pos: "
       ]
      },
      {
       "output_type": "stream",
       "stream": "stdout",
       "text": [
        " 9 Neg:  18 Net:  2\n",
        "17 out of 29 were correctly classified or 59.0\n",
        "Score: 33.0 Rating: negative \n",
        "\n",
        "###########"
       ]
      },
      {
       "output_type": "stream",
       "stream": "stdout",
       "text": [
        " Dolphin Tale 2 ###########\n",
        "There are 23 reviews for Dolphin Tale 2\n",
        "Pos:  8 Neg:  10 Net:  5\n",
        "9 out of 23 were correctly classified or 39.0\n",
        "Score: 44.0 Rating: negative \n",
        "\n",
        "###########"
       ]
      },
      {
       "output_type": "stream",
       "stream": "stdout",
       "text": [
        " Sabotage ###########\n",
        "There are 28 reviews for Sabotage\n",
        "Pos:  2 Neg:  21 Net:  5\n",
        "23"
       ]
      },
      {
       "output_type": "stream",
       "stream": "stdout",
       "text": [
        " out of 28 were correctly classified or 82.0\n",
        "Score: 9.0 Rating: negative \n",
        "\n",
        "###########"
       ]
      },
      {
       "output_type": "stream",
       "stream": "stdout",
       "text": [
        " The Maze Runner ###########\n",
        "There are 33 reviews for The Maze Runner\n",
        "Pos: "
       ]
      },
      {
       "output_type": "stream",
       "stream": "stdout",
       "text": [
        " 9 Neg:  20 Net:  4\n",
        "16 out of 33 were correctly classified or 48.0\n",
        "Score: 31.0 Rating: negative \n",
        "\n",
        "###########"
       ]
      },
      {
       "output_type": "stream",
       "stream": "stdout",
       "text": [
        " The House of Magic ###########\n",
        "There are 7 reviews for The House of Magic\n",
        "Pos:  2 Neg:  4 Net:  1\n",
        "4 out of 7 were correctly classified or 57.0\n",
        "Score: 33.0 Rating: negative \n",
        "\n",
        "###########"
       ]
      },
      {
       "output_type": "stream",
       "stream": "stdout",
       "text": [
        " The Grand Budapest Hotel ###########\n",
        "There are 48 reviews for The Grand Budapest Hotel\n",
        "Pos: "
       ]
      },
      {
       "output_type": "stream",
       "stream": "stdout",
       "text": [
        " 17 Neg:  23 Net:  8\n",
        "19 out of 48 were correctly classified or 40.0\n",
        "Score: 42.0 Rating: negative \n",
        "\n",
        "###########"
       ]
      },
      {
       "output_type": "stream",
       "stream": "stdout",
       "text": [
        " The Nut Job ###########\n",
        "There are 27 reviews for The Nut Job\n",
        "Pos:  4 Neg:  19 Net:  4\n",
        "19 out of 27 were correctly classified or 70.0\n",
        "Score: 17.0 Rating: negative \n",
        "\n",
        "###########"
       ]
      },
      {
       "output_type": "stream",
       "stream": "stdout",
       "text": [
        " Get on Up ###########\n",
        "There are 41 reviews for Get on Up\n",
        "Pos: "
       ]
      },
      {
       "output_type": "stream",
       "stream": "stdout",
       "text": [
        " 14 Neg:  21 Net:  6\n",
        "20 out of 41 were correctly classified or 49.0\n",
        "Score: 40.0 Rating: negative \n",
        "\n",
        "###########"
       ]
      },
      {
       "output_type": "stream",
       "stream": "stdout",
       "text": [
        " Deliver Us from Evil ###########\n",
        "There are 27 reviews for Deliver Us from Evil\n",
        "Pos:  2 Neg:  22 Net:  3\n",
        "20 out of 27 were correctly classified or 74.0\n",
        "Score: 8.0 Rating: negative \n",
        "\n",
        "###########"
       ]
      },
      {
       "output_type": "stream",
       "stream": "stdout",
       "text": [
        " Grace of Monaco ###########\n",
        "There are 5 reviews for Grace of Monaco\n",
        "Pos:  2 Neg:  2 Net:  1\n",
        "3 out of 5 were correctly classified or 60.0\n",
        "Score: 50.0 Rating: netural \n",
        "\n",
        "###########"
       ]
      },
      {
       "output_type": "stream",
       "stream": "stdout",
       "text": [
        " Alexander and the Terrible, Horrible, No Good, Very Bad Day ###########\n",
        "There are 27 reviews for Alexander and the Terrible, Horrible, No Good, Very Bad Day\n",
        "Pos:  5 Neg:  15 Net:  7\n",
        "11 out of 27 were correctly classified or 41.0\n",
        "Score: 25.0 Rating: negative \n",
        "\n",
        "###########"
       ]
      },
      {
       "output_type": "stream",
       "stream": "stdout",
       "text": [
        " 3 Days to Kill ###########\n",
        "There are 27 reviews for 3 Days to Kill\n",
        "Pos:  8 Neg:  14 Net:  5\n",
        "23 out of 27 were correctly classified or 85.0\n",
        "Score: 36.0 Rating: negative \n",
        "\n",
        "###########"
       ]
      },
      {
       "output_type": "stream",
       "stream": "stdout",
       "text": [
        " A Walk Among the Tombstones ###########\n",
        "There are 29 reviews for A Walk Among the Tombstones\n",
        "Pos:  7 Neg:  20 Net:  2\n",
        "13 out of 29 were correctly classified or 45.0\n",
        "Score: 26.0 Rating: negative \n",
        "\n",
        "###########"
       ]
      },
      {
       "output_type": "stream",
       "stream": "stdout",
       "text": [
        " Brick Mansions ###########\n",
        "There are 26 reviews for Brick Mansions\n",
        "Pos: "
       ]
      },
      {
       "output_type": "stream",
       "stream": "stdout",
       "text": [
        " 4 Neg:  21 Net:  1\n",
        "18 out of 26 were correctly classified or 69.0\n",
        "Score: 16.0 Rating: negative \n",
        "\n",
        "###########"
       ]
      },
      {
       "output_type": "stream",
       "stream": "stdout",
       "text": [
        " The Best of Me ###########\n",
        "There are 21 reviews for The Best of Me\n",
        "Pos:  8 Neg:  11 Net:  2\n",
        "14 out of 21 were correctly classified or 67.0\n",
        "Score: 42.0 Rating: negative \n",
        "\n",
        "###########"
       ]
      },
      {
       "output_type": "stream",
       "stream": "stdout",
       "text": [
        " Ride Along ###########\n",
        "There are 38 reviews for Ride Along\n",
        "Pos: "
       ]
      },
      {
       "output_type": "stream",
       "stream": "stdout",
       "text": [
        " 7 Neg:  27 Net:  4\n",
        "30 out of 38 were correctly classified or 79.0\n",
        "Score: 21.0 Rating: negative \n",
        "\n",
        "###########"
       ]
      },
      {
       "output_type": "stream",
       "stream": "stdout",
       "text": [
        " The Giver ###########\n",
        "There are 33 reviews for The Giver\n",
        "Pos:  14 Neg:  17 Net:  2\n",
        "19"
       ]
      },
      {
       "output_type": "stream",
       "stream": "stdout",
       "text": [
        " out of 33 were correctly classified or 58.0\n",
        "Score: 45.0 Rating: negative \n",
        "\n",
        "###########"
       ]
      },
      {
       "output_type": "stream",
       "stream": "stdout",
       "text": [
        " Million Dollar Arm ###########\n",
        "There are 37 reviews for Million Dollar Arm\n",
        "Pos:  11 Neg:  20 Net:  6\n",
        "24"
       ]
      },
      {
       "output_type": "stream",
       "stream": "stdout",
       "text": [
        " out of 37 were correctly classified or 65.0\n",
        "Score: 35.0 Rating: negative \n",
        "\n",
        "###########"
       ]
      },
      {
       "output_type": "stream",
       "stream": "stdout",
       "text": [
        " Draft Day ###########\n",
        "There are 38 reviews for Draft Day\n",
        "Pos: "
       ]
      },
      {
       "output_type": "stream",
       "stream": "stdout",
       "text": [
        " 11 Neg:  19 Net:  8\n",
        "16 out of 38 were correctly classified or 42.0\n",
        "Score: 37.0 Rating: negative \n",
        "\n",
        "###########"
       ]
      },
      {
       "output_type": "stream",
       "stream": "stdout",
       "text": [
        " The Adventurer: The Curse of the Midas Box ###########\n",
        "There are 2 reviews for The Adventurer: The Curse of the Midas Box\n",
        "There are not enough reviews\n",
        "Can not score classifier, not enough reviews \n",
        "\n",
        "###########"
       ]
      },
      {
       "output_type": "stream",
       "stream": "stdout",
       "text": [
        " Think Like a Man Too ###########\n",
        "There are 29 reviews for Think Like a Man Too\n",
        "Pos: "
       ]
      },
      {
       "output_type": "stream",
       "stream": "stdout",
       "text": [
        " 6 Neg:  19 Net:  4\n",
        "20 out of 29 were correctly classified or 69.0\n",
        "Score: 24.0 Rating: negative \n",
        "\n",
        "###########"
       ]
      },
      {
       "output_type": "stream",
       "stream": "stdout",
       "text": [
        " Always Woodstock ###########\n",
        "There are 5 reviews for Always Woodstock\n",
        "Pos:  1 Neg:  3 Net:  1\n",
        "3 out of 5 were correctly classified or 60.0\n",
        "Score: 25.0 Rating: negative \n",
        "\n",
        "###########"
       ]
      },
      {
       "output_type": "stream",
       "stream": "stdout",
       "text": [
        " Son of God ###########\n",
        "There are 25 reviews for Son of God\n",
        "Pos:  5 Neg:  16 Net:  4\n",
        "18"
       ]
      },
      {
       "output_type": "stream",
       "stream": "stdout",
       "text": [
        " out of 25 were correctly classified or 72.0\n",
        "Score: 24.0 Rating: negative \n",
        "\n",
        "###########"
       ]
      },
      {
       "output_type": "stream",
       "stream": "stdout",
       "text": [
        " The Hundred-Foot Journey ###########\n",
        "There are 37 reviews for The Hundred-Foot Journey\n",
        "Pos: "
       ]
      },
      {
       "output_type": "stream",
       "stream": "stdout",
       "text": [
        " 10 Neg:  21 Net:  6\n",
        "14 out of 37 were correctly classified or 38.0\n",
        "Score: 32.0 Rating: negative \n",
        "\n",
        "###########"
       ]
      },
      {
       "output_type": "stream",
       "stream": "stdout",
       "text": [
        " Metegol ###########\n",
        "There are 1 reviews for Metegol\n",
        "There are not enough reviews\n",
        "Can not score classifier, not enough reviews \n",
        "\n",
        "###########"
       ]
      },
      {
       "output_type": "stream",
       "stream": "stdout",
       "text": [
        " Tammy ###########\n",
        "There are 41 reviews for Tammy\n",
        "Pos: "
       ]
      },
      {
       "output_type": "stream",
       "stream": "stdout",
       "text": [
        " 10 Neg:  19 Net:  12\n",
        "28 out of 41 were correctly classified or 68.0\n",
        "Score: 34.0 Rating: negative \n",
        "\n",
        "###########"
       ]
      },
      {
       "output_type": "stream",
       "stream": "stdout",
       "text": [
        " This is Where I Leave You ###########\n",
        "There are 43 reviews for This is Where I Leave You\n",
        "Pos: "
       ]
      },
      {
       "output_type": "stream",
       "stream": "stdout",
       "text": [
        " 9 Neg:  27 Net:  7\n",
        "30 out of 43 were correctly classified or 70.0\n",
        "Score: 25.0 Rating: negative \n",
        "\n",
        "###########"
       ]
      },
      {
       "output_type": "stream",
       "stream": "stdout",
       "text": [
        " Endless Love ###########\n",
        "There are 29 reviews for Endless Love\n",
        "Pos:  7 Neg:  17 Net:  5\n",
        "21"
       ]
      },
      {
       "output_type": "stream",
       "stream": "stdout",
       "text": [
        " out of 29 were correctly classified or 72.0\n",
        "Score: 29.0 Rating: negative \n",
        "\n",
        "###########"
       ]
      },
      {
       "output_type": "stream",
       "stream": "stdout",
       "text": [
        " The Maid's Room ###########\n",
        "There are 6 reviews for The Maid's Room\n",
        "Pos:  0 Neg:  5 Net:  1\n",
        "4 out of 6 were correctly classified or 67.0\n",
        "Score: 0.0 Rating: negative \n",
        "\n",
        "###########"
       ]
      },
      {
       "output_type": "stream",
       "stream": "stdout",
       "text": [
        " Neighbors ###########\n",
        "There are 44 reviews for Neighbors\n",
        "Pos: "
       ]
      },
      {
       "output_type": "stream",
       "stream": "stdout",
       "text": [
        " 14 Neg:  23 Net:  7\n",
        "20 out of 44 were correctly classified or 45.0\n",
        "Score: 38.0 Rating: negative \n",
        "\n",
        "###########"
       ]
      },
      {
       "output_type": "stream",
       "stream": "stdout",
       "text": [
        " Labor Day ###########\n",
        "There are 46 reviews for Labor Day\n",
        "Pos: "
       ]
      },
      {
       "output_type": "stream",
       "stream": "stdout",
       "text": [
        " 6 Neg:  30 Net:  10\n",
        "30 out of 46 were correctly classified or 65.0\n",
        "Score: 17.0 Rating: negative \n",
        "\n",
        "###########"
       ]
      },
      {
       "output_type": "stream",
       "stream": "stdout",
       "text": [
        " The Prince ###########\n",
        "There are 4 reviews for The Prince\n",
        "Pos:  1 Neg:  2 Net:  1\n",
        "3 out of 4 were correctly classified or 75.0\n",
        "Score: 33.0 Rating: negative \n",
        "\n",
        "###########"
       ]
      },
      {
       "output_type": "stream",
       "stream": "stdout",
       "text": [
        " Wolves ###########\n",
        "There are 7 reviews for Wolves\n",
        "Pos:  1 Neg:  5 Net:  1\n",
        "6 out of 7 were correctly classified or 86.0\n",
        "Score: 17.0 Rating: negative \n",
        "\n",
        "###########"
       ]
      },
      {
       "output_type": "stream",
       "stream": "stdout",
       "text": [
        " Let\u0092s Be Cops ###########\n",
        "There are 17 reviews for Let\u0092s Be Cops\n",
        "Pos:  3 Neg:  13 Net:  1\n",
        "12 out of 17 were correctly classified or 71.0\n",
        "Score: 19.0 Rating: negative \n",
        "\n",
        "###########"
       ]
      },
      {
       "output_type": "stream",
       "stream": "stdout",
       "text": [
        " Left Behind ###########\n",
        "There are 20 reviews for Left Behind\n",
        "Pos:  3 Neg:  16 Net:  1\n",
        "17 out of 20 were correctly classified or 85.0\n",
        "Score: 16.0 Rating: negative \n",
        "\n",
        "###########"
       ]
      },
      {
       "output_type": "stream",
       "stream": "stdout",
       "text": [
        " The Homesman ###########\n",
        "There are 36 reviews for The Homesman\n",
        "Pos: "
       ]
      },
      {
       "output_type": "stream",
       "stream": "stdout",
       "text": [
        " 9 Neg:  23 Net:  4\n",
        "18 out of 36 were correctly classified or 50.0\n",
        "Score: 28.0 Rating: negative \n",
        "\n",
        "###########"
       ]
      },
      {
       "output_type": "stream",
       "stream": "stdout",
       "text": [
        " The November Man ###########\n",
        "There are 27 reviews for The November Man\n",
        "Pos: "
       ]
      },
      {
       "output_type": "stream",
       "stream": "stdout",
       "text": [
        " 6 Neg:  13 Net:  8\n",
        "19 out of 27 were correctly classified or 70.0\n",
        "Score: 32.0 Rating: negative \n",
        "\n",
        "###########"
       ]
      },
      {
       "output_type": "stream",
       "stream": "stdout",
       "text": [
        " Automata ###########\n",
        "There are 10 reviews for Automata\n",
        "Pos:  4 Neg:  6 Net:  0\n",
        "7 out of 10 were correctly classified or 70.0\n",
        "Score: 40.0 Rating: negative \n",
        "\n",
        "###########"
       ]
      },
      {
       "output_type": "stream",
       "stream": "stdout",
       "text": [
        " No Good Deed ###########\n",
        "There are 13 reviews for No Good Deed\n",
        "Pos:  2 Neg:  9 Net:  2\n",
        "11 out of 13 were correctly classified or 85.0\n",
        "Score: 18.0 Rating: negative \n",
        "\n",
        "###########"
       ]
      },
      {
       "output_type": "stream",
       "stream": "stdout",
       "text": [
        " About Last Night ###########\n",
        "There are 30 reviews for About Last Night\n",
        "Pos:  7 Neg:  16 Net:  7\n",
        "12"
       ]
      },
      {
       "output_type": "stream",
       "stream": "stdout",
       "text": [
        " out of 30 were correctly classified or 40.0\n",
        "Score: 30.0 Rating: negative \n",
        "\n",
        "###########"
       ]
      },
      {
       "output_type": "stream",
       "stream": "stdout",
       "text": [
        " Earth to Echo ###########\n",
        "There are 29 reviews for Earth to Echo\n",
        "Pos: "
       ]
      },
      {
       "output_type": "stream",
       "stream": "stdout",
       "text": [
        " 9 Neg:  14 Net:  6\n",
        "19 out of 29 were correctly classified or 66.0\n",
        "Score: 39.0 Rating: negative \n",
        "\n",
        "###########"
       ]
      },
      {
       "output_type": "stream",
       "stream": "stdout",
       "text": [
        " The Fault in Our Stars ###########\n",
        "There are 44 reviews for The Fault in Our Stars\n",
        "Pos: "
       ]
      },
      {
       "output_type": "stream",
       "stream": "stdout",
       "text": [
        " 18 Neg:  15 Net:  11\n",
        "20 out of 44 were correctly classified or 45.0\n",
        "Score: 55.0 Rating: positive \n",
        "\n",
        "###########"
       ]
      },
      {
       "output_type": "stream",
       "stream": "stdout",
       "text": [
        " Heaven is for Real ###########\n",
        "There are 24 reviews for Heaven is for Real\n",
        "Pos:  6 Neg:  12 Net:  6\n",
        "17 out of 24 were correctly classified or 71.0\n",
        "Score: 33.0 Rating: negative \n",
        "\n",
        "###########"
       ]
      },
      {
       "output_type": "stream",
       "stream": "stdout",
       "text": [
        " Drive Hard ###########\n",
        "There are 9 reviews for Drive Hard\n",
        "Pos:  0 Neg:  8 Net:  1\n",
        "7 out of 9 were correctly classified or 78.0\n",
        "Score: 0.0 Rating: negative \n",
        "\n",
        "###########"
       ]
      },
      {
       "output_type": "stream",
       "stream": "stdout",
       "text": [
        " If I Stay ###########\n",
        "There are 34 reviews for If I Stay\n",
        "Pos: "
       ]
      },
      {
       "output_type": "stream",
       "stream": "stdout",
       "text": [
        " 6 Neg:  22 Net:  6\n",
        "24 out of 34 were correctly classified or 71.0\n",
        "Score: 21.0 Rating: negative \n",
        "\n",
        "###########"
       ]
      },
      {
       "output_type": "stream",
       "stream": "stdout",
       "text": [
        " Bad Words ###########\n",
        "There are 37 reviews for Bad Words\n",
        "Pos: "
       ]
      },
      {
       "output_type": "stream",
       "stream": "stdout",
       "text": [
        " 9 Neg:  24 Net:  4\n",
        "19 out of 37 were correctly classified or 51.0\n",
        "Score: 27.0 Rating: negative \n",
        "\n",
        "###########"
       ]
      },
      {
       "output_type": "stream",
       "stream": "stdout",
       "text": [
        " Big Eyes ###########\n",
        "There are 3 reviews for Big Eyes\n",
        "Pos:  1 Neg:  2 Net:  0\n",
        "0 out of 3 were correctly classified or 0.0\n",
        "Score: 33.0 Rating: negative \n",
        "\n",
        "###########"
       ]
      },
      {
       "output_type": "stream",
       "stream": "stdout",
       "text": [
        " Elsa & Fred ###########\n",
        "There are 9 reviews for Elsa & Fred\n",
        "Pos:  0 Neg:  8 Net:  1\n",
        "6 out of 9 were correctly classified or 67.0\n",
        "Score: 0.0 Rating: negative \n",
        "\n",
        "###########"
       ]
      },
      {
       "output_type": "stream",
       "stream": "stdout",
       "text": [
        " Plastic ###########\n",
        "There are 7 reviews for Plastic\n",
        "Pos:  1 Neg:  6 Net:  0\n",
        "4 out of 7 were correctly classified or 57.0\n",
        "Score: 14.0 Rating: negative \n",
        "\n",
        "###########"
       ]
      },
      {
       "output_type": "stream",
       "stream": "stdout",
       "text": [
        " While We're Young ###########\n",
        "There are 4 reviews for While We're Young\n",
        "Pos:  2 Neg:  2 Net:  0\n",
        "3 out of 4 were correctly classified or 75.0\n",
        "Score: 50.0 Rating: netural \n",
        "\n",
        "###########"
       ]
      },
      {
       "output_type": "stream",
       "stream": "stdout",
       "text": [
        " The Purge: Anarchy ###########\n",
        "There are 25 reviews for The Purge: Anarchy\n",
        "Pos:  6 Neg:  14 Net:  5\n",
        "17 out of 25 were correctly classified or 68.0\n",
        "Score: 30.0 Rating: negative \n",
        "\n",
        "###########"
       ]
      },
      {
       "output_type": "stream",
       "stream": "stdout",
       "text": [
        " Nightcrawler ###########\n",
        "There are 44 reviews for Nightcrawler\n",
        "Pos: "
       ]
      },
      {
       "output_type": "stream",
       "stream": "stdout",
       "text": [
        " 21 Neg:  17 Net:  6\n",
        "23 out of 44 were correctly classified or 52.0\n",
        "Score: 55.0 Rating: positive \n",
        "\n",
        "###########"
       ]
      },
      {
       "output_type": "stream",
       "stream": "stdout",
       "text": [
        " That Awkward Moment ###########\n",
        "There are 32 reviews for That Awkward Moment\n",
        "Pos:  6 Neg:  20 Net:  6\n",
        "24"
       ]
      },
      {
       "output_type": "stream",
       "stream": "stdout",
       "text": [
        " out of 32 were correctly classified or 75.0\n",
        "Score: 23.0 Rating: negative \n",
        "\n",
        "###########"
       ]
      },
      {
       "output_type": "stream",
       "stream": "stdout",
       "text": [
        " Devil's Due ###########\n",
        "There are 8 reviews for Devil's Due\n",
        "Pos:  1 Neg:  7 Net:  0\n",
        "6 out of 8 were correctly classified or 75.0\n",
        "Score: 12.0 Rating: negative \n",
        "\n",
        "###########"
       ]
      },
      {
       "output_type": "stream",
       "stream": "stdout",
       "text": [
        " Beyond the Lights ###########\n",
        "There are 28 reviews for Beyond the Lights\n",
        "Pos:  12 Neg:  13 Net:  3\n",
        "15"
       ]
      },
      {
       "output_type": "stream",
       "stream": "stdout",
       "text": [
        " out of 28 were correctly classified or 54.0\n",
        "Score: 48.0 Rating: negative \n",
        "\n",
        "###########"
       ]
      },
      {
       "output_type": "stream",
       "stream": "stdout",
       "text": [
        " Annabelle ###########\n",
        "There are 25 reviews for Annabelle\n",
        "Pos:  2 Neg:  17 Net:  6\n",
        "13 out of 25 were correctly classified or 52.0\n",
        "Score: 11.0 Rating: negative \n",
        "\n",
        "###########"
       ]
      },
      {
       "output_type": "stream",
       "stream": "stdout",
       "text": [
        " Veronica Mars ###########\n",
        "There are 32 reviews for Veronica Mars\n",
        "Pos: "
       ]
      },
      {
       "output_type": "stream",
       "stream": "stdout",
       "text": [
        " 16 Neg:  14 Net:  2\n",
        "17 out of 32 were correctly classified or 53.0\n",
        "Score: 53.0 Rating: positive \n",
        "\n",
        "###########"
       ]
      },
      {
       "output_type": "stream",
       "stream": "stdout",
       "text": [
        " Ouija ###########\n",
        "There are 17 reviews for Ouija\n",
        "Pos:  5 Neg:  11 Net:  1\n",
        "11"
       ]
      },
      {
       "output_type": "stream",
       "stream": "stdout",
       "text": [
        " out of 17 were correctly classified or 65.0\n",
        "Score: 31.0 Rating: negative \n",
        "\n",
        "###########"
       ]
      },
      {
       "output_type": "stream",
       "stream": "stdout",
       "text": [
        " Paranormal Activity: The Marked Ones ###########\n",
        "There are 18 reviews for Paranormal Activity: The Marked Ones\n",
        "Pos:  6 Neg:  7 Net:  5\n",
        "8 out of 18 were correctly classified or 44.0\n",
        "Score: 46.0 Rating: negative \n",
        "\n",
        "###########"
       ]
      },
      {
       "output_type": "stream",
       "stream": "stdout",
       "text": [
        " Oculus ###########\n",
        "There are 26 reviews for Oculus\n",
        "Pos:  1 Neg:  19 Net:  6\n",
        "11 out of 26 were correctly classified or 42.0\n",
        "Score: 5.0 Rating: negative \n",
        "\n",
        "###########"
       ]
      },
      {
       "output_type": "stream",
       "stream": "stdout",
       "text": [
        " As Above, So Below ###########\n",
        "There are 11 reviews for As Above, So Below\n",
        "Pos:  2 Neg:  7 Net:  2\n",
        "10 out of 11 were correctly classified or 91.0\n",
        "Score: 22.0 Rating: negative \n",
        "\n",
        "###########"
       ]
      },
      {
       "output_type": "stream",
       "stream": "stdout",
       "text": [
        " Kill the Messenger ###########\n",
        "There are 32 reviews for Kill the Messenger\n",
        "Pos: "
       ]
      },
      {
       "output_type": "stream",
       "stream": "stdout",
       "text": [
        " 10 Neg:  12 Net:  10\n",
        "17 out of 32 were correctly classified or 53.0\n",
        "Score: 45.0 Rating: negative \n",
        "\n",
        "###########"
       ]
      },
      {
       "output_type": "stream",
       "stream": "stdout",
       "text": [
        " Atlas Shrugged: Who Is John Galt? ###########\n",
        "There are 6 reviews for Atlas Shrugged: Who Is John Galt?\n",
        "Pos:  0 Neg:  6 Net:  0\n",
        "6 out of 6 were correctly classified or 100.0\n",
        "Score: 0.0 Rating: negative \n",
        "\n",
        "###########"
       ]
      },
      {
       "output_type": "stream",
       "stream": "stdout",
       "text": [
        " Rudderless ###########\n",
        "There are 16 reviews for Rudderless\n",
        "Pos:  8 Neg:  7 Net:  1\n",
        "6 out of 16 were correctly classified or 38.0\n",
        "Score: 53.0 Rating: positive \n",
        "\n",
        "###########"
       ]
      },
      {
       "output_type": "stream",
       "stream": "stdout",
       "text": [
        " Henry & Me ###########\n",
        "There are 3 reviews for Henry & Me\n",
        "Pos:  1 Neg:  1 Net:  1\n",
        "0 out of 3 were correctly classified or 0.0\n",
        "Score: 50.0 Rating: netural \n",
        "\n",
        "###########"
       ]
      },
      {
       "output_type": "stream",
       "stream": "stdout",
       "text": [
        " Falcon Rising ###########\n",
        "There are 4 reviews for Falcon Rising\n",
        "Pos:  1 Neg:  3 Net:  0\n",
        "4 out of 4 were correctly classified or 100.0\n",
        "Score: 25.0 Rating: negative \n",
        "\n",
        "###########"
       ]
      },
      {
       "output_type": "stream",
       "stream": "stdout",
       "text": [
        " Anna ###########\n",
        "There are 25 reviews for Anna\n",
        "Pos:  2 Neg:  17 Net:  6\n",
        "13 out of 25 were correctly classified or 52.0\n",
        "Score: 11.0 Rating: negative \n",
        "\n",
        "###########"
       ]
      },
      {
       "output_type": "stream",
       "stream": "stdout",
       "text": [
        " A Haunted House 2 ###########\n",
        "There are 15 reviews for A Haunted House 2\n",
        "Pos:  3 Neg:  9 Net:  3\n",
        "11 out of 15 were correctly classified or 73.0\n",
        "Score: 25.0 Rating: negative \n",
        "\n",
        "###########"
       ]
      },
      {
       "output_type": "stream",
       "stream": "stdout",
       "text": [
        " The Perfect Wave ###########\n",
        "There are 2 reviews for The Perfect Wave\n",
        "There are not enough reviews\n",
        "Can not score classifier, not enough reviews \n",
        "\n",
        "###########"
       ]
      },
      {
       "output_type": "stream",
       "stream": "stdout",
       "text": [
        " Whiplash ###########\n",
        "There are 47 reviews for Whiplash\n",
        "Pos: "
       ]
      },
      {
       "output_type": "stream",
       "stream": "stdout",
       "text": [
        " 21 Neg:  20 Net:  6\n",
        "21 out of 47 were correctly classified or 45.0\n",
        "Score: 51.0 Rating: positive \n",
        "\n",
        "###########"
       ]
      },
      {
       "output_type": "stream",
       "stream": "stdout",
       "text": [
        " Fort McCoy ###########\n",
        "There are 5 reviews for Fort McCoy\n",
        "Pos:  1 Neg:  2 Net:  2\n",
        "1 out of 5 were correctly classified or 20.0\n",
        "Score: 33.0 Rating: negative \n",
        "\n",
        "###########"
       ]
      },
      {
       "output_type": "stream",
       "stream": "stdout",
       "text": [
        " Boyhood ###########\n",
        "There are 46 reviews for Boyhood\n",
        "Pos: "
       ]
      },
      {
       "output_type": "stream",
       "stream": "stdout",
       "text": [
        " 18 Neg:  20 Net:  8\n",
        "18 out of 46 were correctly classified or 39.0\n",
        "Score: 47.0 Rating: negative \n",
        "\n",
        "###########"
       ]
      },
      {
       "output_type": "stream",
       "stream": "stdout",
       "text": [
        " God\u0092s Not Dead ###########\n",
        "There are 4 reviews for God\u0092s Not Dead\n",
        "Pos:  1 Neg:  3 Net:  0\n",
        "2 out of 4 were correctly classified or 50.0\n",
        "Score: 25.0 Rating: negative \n",
        "\n",
        "###########"
       ]
      },
      {
       "output_type": "stream",
       "stream": "stdout",
       "text": [
        " Pump ###########\n",
        "There are 5 reviews for Pump\n",
        "Pos:  1 Neg:  1 Net:  3\n",
        "2 out of 5 were correctly classified or 40.0\n",
        "Score: 50.0 Rating: netural \n",
        "\n",
        "###########"
       ]
      },
      {
       "output_type": "stream",
       "stream": "stdout",
       "text": [
        " Housebound ###########\n",
        "There are 5 reviews for Housebound\n",
        "Pos:  3 Neg:  2 Net:  0\n",
        "3 out of 5 were correctly classified or 60.0\n",
        "Score: 60.0 Rating: positive \n",
        "\n",
        "###########"
       ]
      },
      {
       "output_type": "stream",
       "stream": "stdout",
       "text": [
        " Los insolitos peces gato ###########\n",
        "There are 4 reviews for Los insolitos peces gato\n",
        "Pos:  2 Neg:  2 Net:  0\n",
        "2 out of 4 were correctly classified or 50.0\n",
        "Score: 50.0 Rating: netural \n",
        "\n",
        "###########"
       ]
      },
      {
       "output_type": "stream",
       "stream": "stdout",
       "text": [
        " Water & Power ###########\n",
        "There are 1 reviews for Water & Power\n",
        "There are not enough reviews\n",
        "Can not score classifier, not enough reviews \n",
        "\n",
        "###########"
       ]
      },
      {
       "output_type": "stream",
       "stream": "stdout",
       "text": [
        " As It Is in Heaven ###########\n",
        "There are 7 reviews for As It Is in Heaven\n",
        "Pos:  1 Neg:  6 Net:  0\n",
        "3 out of 7 were correctly classified or 43.0\n",
        "Score: 14.0 Rating: negative \n",
        "\n",
        "###########"
       ]
      },
      {
       "output_type": "stream",
       "stream": "stdout",
       "text": [
        " Locker 13 ###########\n",
        "There are 3 reviews for Locker 13\n",
        "Pos:  2 Neg:  1 Net:  0\n",
        "1 out of 3 were correctly classified or 33.0\n",
        "Score: 67.0 Rating: positive \n",
        "\n",
        "###########"
       ]
      },
      {
       "output_type": "stream",
       "stream": "stdout",
       "text": [
        " All You Need Is Love ###########\n",
        "There are 3 reviews for All You Need Is Love\n",
        "Pos:  1 Neg:  2 Net:  0\n",
        "1 out of 3 were correctly classified or 33.0\n",
        "Score: 33.0 Rating: negative \n",
        "\n",
        "###########"
       ]
      },
      {
       "output_type": "stream",
       "stream": "stdout",
       "text": [
        " Test ###########\n",
        "There are 7 reviews for Test\n",
        "Pos:  3 Neg:  3 Net:  1\n",
        "2 out of 7 were correctly classified or 29.0\n",
        "Score: 50.0 Rating: netural \n",
        "\n",
        "###########"
       ]
      },
      {
       "output_type": "stream",
       "stream": "stdout",
       "text": [
        " Jesus People ###########\n",
        "There are 2 reviews for Jesus People\n",
        "There are not enough reviews\n",
        "Can not score classifier, not enough reviews \n",
        "\n",
        "###########"
       ]
      },
      {
       "output_type": "stream",
       "stream": "stdout",
       "text": [
        " The Word ###########\n",
        "There are 2 reviews for The Word\n",
        "There are not enough reviews\n",
        "Can not score classifier, not enough reviews \n",
        "\n",
        "###########"
       ]
      },
      {
       "output_type": "stream",
       "stream": "stdout",
       "text": [
        " Archaeology of a Woman ###########\n",
        "There are 2 reviews for Archaeology of a Woman\n",
        "There are not enough reviews\n",
        "Can not score classifier, not enough reviews \n",
        "\n",
        "###########"
       ]
      },
      {
       "output_type": "stream",
       "stream": "stdout",
       "text": [
        " Cheap Thrills ###########\n",
        "There are 18 reviews for Cheap Thrills\n",
        "Pos:  6 Neg:  8 Net:  4\n",
        "9 out of 18 were correctly classified or 50.0\n",
        "Score: 43.0 Rating: negative \n",
        "\n",
        "###########"
       ]
      },
      {
       "output_type": "stream",
       "stream": "stdout",
       "text": [
        " The Past is a Grotesque Animal ###########\n",
        "There are 1 reviews for The Past is a Grotesque Animal\n",
        "There are not enough reviews\n",
        "Can not score classifier, not enough reviews \n",
        "\n"
       ]
      }
     ],
     "prompt_number": 27
    },
    {
     "cell_type": "code",
     "collapsed": false,
     "input": [
      "overall_mov['Sentiment_Bi_Score'] = pert_bigram_movie\n",
      "overall_mov['Classifier__Bi_Rating'] = pert_bigram_class\n",
      "overall_mov"
     ],
     "language": "python",
     "metadata": {},
     "outputs": [
      {
       "html": [
        "<div style=\"max-height:1000px;max-width:1500px;overflow:auto;\">\n",
        "<table border=\"1\" class=\"dataframe\">\n",
        "  <thead>\n",
        "    <tr style=\"text-align: right;\">\n",
        "      <th></th>\n",
        "      <th>Name</th>\n",
        "      <th>CriticsScore</th>\n",
        "      <th>AudScore</th>\n",
        "      <th>Rank</th>\n",
        "      <th>Reviews_JSON</th>\n",
        "      <th>Sentiment_Score</th>\n",
        "      <th>Classifier_Rating</th>\n",
        "      <th>Sentiment_Bi_Score</th>\n",
        "      <th>Classifier__Bi_Rating</th>\n",
        "    </tr>\n",
        "  </thead>\n",
        "  <tbody>\n",
        "    <tr>\n",
        "      <th>0  </th>\n",
        "      <td> The Hobbit: The Battle of the Five Armies</td>\n",
        "      <td>  -1</td>\n",
        "      <td> 99</td>\n",
        "      <td>   12</td>\n",
        "      <td> [\"It's sad that Hollywood filmmaking is so oft...</td>\n",
        "      <td> 100</td>\n",
        "      <td>  80</td>\n",
        "      <td> 25</td>\n",
        "      <td>  40</td>\n",
        "    </tr>\n",
        "    <tr>\n",
        "      <th>1  </th>\n",
        "      <td>           Transformers: Age of Extinction</td>\n",
        "      <td>  18</td>\n",
        "      <td> 53</td>\n",
        "      <td>   22</td>\n",
        "      <td> [\"The few authentic inspirations to be found i...</td>\n",
        "      <td>  56</td>\n",
        "      <td>  53</td>\n",
        "      <td> 36</td>\n",
        "      <td>  70</td>\n",
        "    </tr>\n",
        "    <tr>\n",
        "      <th>2  </th>\n",
        "      <td>                X-Men: Days of Future Past</td>\n",
        "      <td>  92</td>\n",
        "      <td> 92</td>\n",
        "      <td>   36</td>\n",
        "      <td> [\"Much of this takes place in the early 1970s,...</td>\n",
        "      <td>  85</td>\n",
        "      <td>  68</td>\n",
        "      <td> 47</td>\n",
        "      <td>  36</td>\n",
        "    </tr>\n",
        "    <tr>\n",
        "      <th>3  </th>\n",
        "      <td>                  The Amazing Spider-Man 2</td>\n",
        "      <td>  53</td>\n",
        "      <td> 68</td>\n",
        "      <td>   37</td>\n",
        "      <td> [\"Despite the efforts of Electro, the franchis...</td>\n",
        "      <td>  71</td>\n",
        "      <td>  46</td>\n",
        "      <td> 27</td>\n",
        "      <td>  58</td>\n",
        "    </tr>\n",
        "    <tr>\n",
        "      <th>4  </th>\n",
        "      <td>                                Maleficent</td>\n",
        "      <td>  49</td>\n",
        "      <td> 72</td>\n",
        "      <td>   57</td>\n",
        "      <td> [\"As for the screenplay, by Linda Woolverton, ...</td>\n",
        "      <td>  81</td>\n",
        "      <td>  49</td>\n",
        "      <td> 29</td>\n",
        "      <td>  56</td>\n",
        "    </tr>\n",
        "    <tr>\n",
        "      <th>5  </th>\n",
        "      <td>                          Edge of Tomorrow</td>\n",
        "      <td>  90</td>\n",
        "      <td> 91</td>\n",
        "      <td>   61</td>\n",
        "      <td> [\"The conceit may sound constricting, but Lima...</td>\n",
        "      <td>  77</td>\n",
        "      <td>  68</td>\n",
        "      <td> 38</td>\n",
        "      <td>  36</td>\n",
        "    </tr>\n",
        "    <tr>\n",
        "      <th>6  </th>\n",
        "      <td>                   Guardians of the Galaxy</td>\n",
        "      <td>  90</td>\n",
        "      <td> 94</td>\n",
        "      <td>   71</td>\n",
        "      <td> [\"Blessed with a loose, anarchic B-picture sou...</td>\n",
        "      <td>  76</td>\n",
        "      <td>  70</td>\n",
        "      <td> 49</td>\n",
        "      <td>  41</td>\n",
        "    </tr>\n",
        "    <tr>\n",
        "      <th>7  </th>\n",
        "      <td>       Captain America: The Winter Soldier</td>\n",
        "      <td>  89</td>\n",
        "      <td> 92</td>\n",
        "      <td>   73</td>\n",
        "      <td> [\"A movie that is, in the best sense of the wo...</td>\n",
        "      <td>  73</td>\n",
        "      <td>  67</td>\n",
        "      <td> 28</td>\n",
        "      <td>  44</td>\n",
        "    </tr>\n",
        "    <tr>\n",
        "      <th>8  </th>\n",
        "      <td>            Dawn of the Planet of the Apes</td>\n",
        "      <td>  91</td>\n",
        "      <td> 90</td>\n",
        "      <td>   74</td>\n",
        "      <td> [\"For dramatic verve and emotional nuance, ape...</td>\n",
        "      <td>  76</td>\n",
        "      <td>  66</td>\n",
        "      <td> 32</td>\n",
        "      <td>  32</td>\n",
        "    </tr>\n",
        "    <tr>\n",
        "      <th>9  </th>\n",
        "      <td>                                Big Hero 6</td>\n",
        "      <td>  89</td>\n",
        "      <td> 94</td>\n",
        "      <td>   83</td>\n",
        "      <td> [\"Big Hero 6 offers something for everyone: ac...</td>\n",
        "      <td>  82</td>\n",
        "      <td>  81</td>\n",
        "      <td> 52</td>\n",
        "      <td>  50</td>\n",
        "    </tr>\n",
        "    <tr>\n",
        "      <th>10 </th>\n",
        "      <td>                              Interstellar</td>\n",
        "      <td>  73</td>\n",
        "      <td> 87</td>\n",
        "      <td>   84</td>\n",
        "      <td> [\"After the first hour, with its poignant depi...</td>\n",
        "      <td>  79</td>\n",
        "      <td>  62</td>\n",
        "      <td> 54</td>\n",
        "      <td>  67</td>\n",
        "    </tr>\n",
        "    <tr>\n",
        "      <th>11 </th>\n",
        "      <td>                                  Godzilla</td>\n",
        "      <td>  73</td>\n",
        "      <td> 68</td>\n",
        "      <td>   89</td>\n",
        "      <td> [\"This is what you get, San Francisco, with al...</td>\n",
        "      <td>  75</td>\n",
        "      <td>  68</td>\n",
        "      <td> 43</td>\n",
        "      <td>  54</td>\n",
        "    </tr>\n",
        "    <tr>\n",
        "      <th>12 </th>\n",
        "      <td>                How to Train Your Dragon 2</td>\n",
        "      <td>  92</td>\n",
        "      <td> 91</td>\n",
        "      <td>  127</td>\n",
        "      <td> [\"Hats off to Dreamworks for offering some bol...</td>\n",
        "      <td>  91</td>\n",
        "      <td>  89</td>\n",
        "      <td> 52</td>\n",
        "      <td>  35</td>\n",
        "    </tr>\n",
        "    <tr>\n",
        "      <th>13 </th>\n",
        "      <td>                     Mr. Peabody &amp; Sherman</td>\n",
        "      <td>  79</td>\n",
        "      <td> 74</td>\n",
        "      <td>  129</td>\n",
        "      <td> [\"Back in his day, Mr. Peabody was a dog whose...</td>\n",
        "      <td>  76</td>\n",
        "      <td>  67</td>\n",
        "      <td> 43</td>\n",
        "      <td>  46</td>\n",
        "    </tr>\n",
        "    <tr>\n",
        "      <th>14 </th>\n",
        "      <td>                                     Rio 2</td>\n",
        "      <td>  48</td>\n",
        "      <td> 60</td>\n",
        "      <td>  163</td>\n",
        "      <td> [\"The movie has one goal: to amuse the most ch...</td>\n",
        "      <td>  82</td>\n",
        "      <td>  44</td>\n",
        "      <td> 28</td>\n",
        "      <td>  48</td>\n",
        "    </tr>\n",
        "    <tr>\n",
        "      <th>15 </th>\n",
        "      <td>                                      Noah</td>\n",
        "      <td>  77</td>\n",
        "      <td> 43</td>\n",
        "      <td>  165</td>\n",
        "      <td> [\"In a single sequence, Aronofsky combines cre...</td>\n",
        "      <td>  86</td>\n",
        "      <td>  74</td>\n",
        "      <td> 51</td>\n",
        "      <td>  59</td>\n",
        "    </tr>\n",
        "    <tr>\n",
        "      <th>16 </th>\n",
        "      <td>              Teenage Mutant Ninja Turtles</td>\n",
        "      <td>  22</td>\n",
        "      <td> 56</td>\n",
        "      <td>  180</td>\n",
        "      <td> [\"In one way, Teenage Mutant Ninja Turtles is ...</td>\n",
        "      <td>  37</td>\n",
        "      <td>  58</td>\n",
        "      <td> 19</td>\n",
        "      <td>  82</td>\n",
        "    </tr>\n",
        "    <tr>\n",
        "      <th>17 </th>\n",
        "      <td>                                   RoboCop</td>\n",
        "      <td>  48</td>\n",
        "      <td> 52</td>\n",
        "      <td>  200</td>\n",
        "      <td> [\"Surveying the peculiar array of 1980s retrea...</td>\n",
        "      <td>  69</td>\n",
        "      <td>  57</td>\n",
        "      <td> 38</td>\n",
        "      <td>  52</td>\n",
        "    </tr>\n",
        "    <tr>\n",
        "      <th>18 </th>\n",
        "      <td>                    300: Rise of an Empire</td>\n",
        "      <td>  42</td>\n",
        "      <td> 54</td>\n",
        "      <td>  224</td>\n",
        "      <td> [\"The mere existence of 300: Rise of an Empire...</td>\n",
        "      <td>  66</td>\n",
        "      <td>  68</td>\n",
        "      <td> 21</td>\n",
        "      <td>  59</td>\n",
        "    </tr>\n",
        "    <tr>\n",
        "      <th>19 </th>\n",
        "      <td>                                  Hercules</td>\n",
        "      <td>  58</td>\n",
        "      <td> 54</td>\n",
        "      <td>  271</td>\n",
        "      <td> [\"Everything Guardians of the Galaxy gets righ...</td>\n",
        "      <td>  63</td>\n",
        "      <td>  73</td>\n",
        "      <td> 40</td>\n",
        "      <td>  36</td>\n",
        "    </tr>\n",
        "    <tr>\n",
        "      <th>20 </th>\n",
        "      <td>                         The Expendables 3</td>\n",
        "      <td>  33</td>\n",
        "      <td> 50</td>\n",
        "      <td>  282</td>\n",
        "      <td> [\"At this point, the Expendables have formed a...</td>\n",
        "      <td>  45</td>\n",
        "      <td>  53</td>\n",
        "      <td> 38</td>\n",
        "      <td>  66</td>\n",
        "    </tr>\n",
        "    <tr>\n",
        "      <th>21 </th>\n",
        "      <td>                             Transcendence</td>\n",
        "      <td>  19</td>\n",
        "      <td> 38</td>\n",
        "      <td>  285</td>\n",
        "      <td> [\"The movie is rhythmless, shapeless, and, wit...</td>\n",
        "      <td>  61</td>\n",
        "      <td>  58</td>\n",
        "      <td> 37</td>\n",
        "      <td>  67</td>\n",
        "    </tr>\n",
        "    <tr>\n",
        "      <th>22 </th>\n",
        "      <td>                                 Divergent</td>\n",
        "      <td>  41</td>\n",
        "      <td> 71</td>\n",
        "      <td>  357</td>\n",
        "      <td> [\"Barely diverting.\", \"It's all pretty dumb, a...</td>\n",
        "      <td>  67</td>\n",
        "      <td>  55</td>\n",
        "      <td> 21</td>\n",
        "      <td>  76</td>\n",
        "    </tr>\n",
        "    <tr>\n",
        "      <th>23 </th>\n",
        "      <td>                                      Fury</td>\n",
        "      <td>  78</td>\n",
        "      <td> 88</td>\n",
        "      <td>  430</td>\n",
        "      <td> [\"\\\"Fury\\\" is literally visceral-a kind of war...</td>\n",
        "      <td>  82</td>\n",
        "      <td>  72</td>\n",
        "      <td> 52</td>\n",
        "      <td>  48</td>\n",
        "    </tr>\n",
        "    <tr>\n",
        "      <th>24 </th>\n",
        "      <td>                                   Pompeii</td>\n",
        "      <td>  29</td>\n",
        "      <td> 36</td>\n",
        "      <td>  450</td>\n",
        "      <td> [\"Is it wrong to root for the volcano?\", \"Parm...</td>\n",
        "      <td>  63</td>\n",
        "      <td>  52</td>\n",
        "      <td> 38</td>\n",
        "      <td>  69</td>\n",
        "    </tr>\n",
        "    <tr>\n",
        "      <th>25 </th>\n",
        "      <td>                         The Monuments Men</td>\n",
        "      <td>  31</td>\n",
        "      <td> 44</td>\n",
        "      <td>  553</td>\n",
        "      <td> [\"We may have gained something in humor by not...</td>\n",
        "      <td>  78</td>\n",
        "      <td>  45</td>\n",
        "      <td> 30</td>\n",
        "      <td>  65</td>\n",
        "    </tr>\n",
        "    <tr>\n",
        "      <th>26 </th>\n",
        "      <td>                            Dracula Untold</td>\n",
        "      <td>  23</td>\n",
        "      <td> 61</td>\n",
        "      <td>  558</td>\n",
        "      <td> [\"[Evans] carries Untold by admirably fulfilli...</td>\n",
        "      <td>  85</td>\n",
        "      <td>  29</td>\n",
        "      <td> 31</td>\n",
        "      <td>  71</td>\n",
        "    </tr>\n",
        "    <tr>\n",
        "      <th>27 </th>\n",
        "      <td>                    The Legend of Hercules</td>\n",
        "      <td>   3</td>\n",
        "      <td> 34</td>\n",
        "      <td>  575</td>\n",
        "      <td> [\"Essentially a Monday Night Raw episode with ...</td>\n",
        "      <td>  43</td>\n",
        "      <td>  73</td>\n",
        "      <td>  9</td>\n",
        "      <td>  80</td>\n",
        "    </tr>\n",
        "    <tr>\n",
        "      <th>28 </th>\n",
        "      <td>           Legends of Oz: Dorothy\u0092s Return</td>\n",
        "      <td>  16</td>\n",
        "      <td> 73</td>\n",
        "      <td>  578</td>\n",
        "      <td> [\"Problems abound from the rushed beginning al...</td>\n",
        "      <td>  86</td>\n",
        "      <td>  33</td>\n",
        "      <td> 18</td>\n",
        "      <td>  83</td>\n",
        "    </tr>\n",
        "    <tr>\n",
        "      <th>29 </th>\n",
        "      <td>                            Need for Speed</td>\n",
        "      <td>  22</td>\n",
        "      <td> 59</td>\n",
        "      <td>  598</td>\n",
        "      <td> [\"This is cinema reduced or distilled to its p...</td>\n",
        "      <td>  43</td>\n",
        "      <td>  62</td>\n",
        "      <td> 39</td>\n",
        "      <td>  62</td>\n",
        "    </tr>\n",
        "    <tr>\n",
        "      <th>...</th>\n",
        "      <td>...</td>\n",
        "      <td>...</td>\n",
        "      <td>...</td>\n",
        "      <td>...</td>\n",
        "      <td>...</td>\n",
        "      <td>...</td>\n",
        "      <td>...</td>\n",
        "      <td>...</td>\n",
        "      <td>...</td>\n",
        "    </tr>\n",
        "    <tr>\n",
        "      <th>106</th>\n",
        "      <td>                             Veronica Mars</td>\n",
        "      <td>  78</td>\n",
        "      <td> 81</td>\n",
        "      <td> 3323</td>\n",
        "      <td> [\"The film is an obvious labor of love for all...</td>\n",
        "      <td>  74</td>\n",
        "      <td>  53</td>\n",
        "      <td> 53</td>\n",
        "      <td>  53</td>\n",
        "    </tr>\n",
        "    <tr>\n",
        "      <th>107</th>\n",
        "      <td>                                     Ouija</td>\n",
        "      <td>   7</td>\n",
        "      <td> 30</td>\n",
        "      <td> 3390</td>\n",
        "      <td> [\"\\\"Ouija\\\" is hampered by the fact that watch...</td>\n",
        "      <td>  62</td>\n",
        "      <td>  59</td>\n",
        "      <td> 31</td>\n",
        "      <td>  65</td>\n",
        "    </tr>\n",
        "    <tr>\n",
        "      <th>108</th>\n",
        "      <td>      Paranormal Activity: The Marked Ones</td>\n",
        "      <td>  38</td>\n",
        "      <td> 36</td>\n",
        "      <td> 3396</td>\n",
        "      <td> [\"There's no getting past the nonsense formali...</td>\n",
        "      <td>  71</td>\n",
        "      <td>  56</td>\n",
        "      <td> 46</td>\n",
        "      <td>  44</td>\n",
        "    </tr>\n",
        "    <tr>\n",
        "      <th>109</th>\n",
        "      <td>                                    Oculus</td>\n",
        "      <td>  74</td>\n",
        "      <td> 53</td>\n",
        "      <td> 3398</td>\n",
        "      <td> [\"\\\"Reaches right through you and chills you t...</td>\n",
        "      <td>  84</td>\n",
        "      <td>  81</td>\n",
        "      <td>  5</td>\n",
        "      <td>  42</td>\n",
        "    </tr>\n",
        "    <tr>\n",
        "      <th>110</th>\n",
        "      <td>                        As Above, So Below</td>\n",
        "      <td>  27</td>\n",
        "      <td> 43</td>\n",
        "      <td> 3407</td>\n",
        "      <td> [\"Once upon a time, when someone in a horror m...</td>\n",
        "      <td>  64</td>\n",
        "      <td>  45</td>\n",
        "      <td> 22</td>\n",
        "      <td>  91</td>\n",
        "    </tr>\n",
        "    <tr>\n",
        "      <th>111</th>\n",
        "      <td>                        Kill the Messenger</td>\n",
        "      <td>  77</td>\n",
        "      <td> 77</td>\n",
        "      <td> 3452</td>\n",
        "      <td> [\"Kill the Messenger does a credible if not da...</td>\n",
        "      <td>  81</td>\n",
        "      <td>  75</td>\n",
        "      <td> 45</td>\n",
        "      <td>  53</td>\n",
        "    </tr>\n",
        "    <tr>\n",
        "      <th>112</th>\n",
        "      <td>         Atlas Shrugged: Who Is John Galt?</td>\n",
        "      <td>   0</td>\n",
        "      <td> 54</td>\n",
        "      <td> 3457</td>\n",
        "      <td> [\"Prime Mystery Science Theater 3000 fodder, c...</td>\n",
        "      <td>  17</td>\n",
        "      <td>  83</td>\n",
        "      <td>  0</td>\n",
        "      <td> 100</td>\n",
        "    </tr>\n",
        "    <tr>\n",
        "      <th>113</th>\n",
        "      <td>                                Rudderless</td>\n",
        "      <td>  64</td>\n",
        "      <td> 93</td>\n",
        "      <td> 3470</td>\n",
        "      <td> [\"Rudderless is humane and almost entertaining...</td>\n",
        "      <td>  88</td>\n",
        "      <td>  62</td>\n",
        "      <td> 53</td>\n",
        "      <td>  38</td>\n",
        "    </tr>\n",
        "    <tr>\n",
        "      <th>114</th>\n",
        "      <td>                                Henry &amp; Me</td>\n",
        "      <td>  -1</td>\n",
        "      <td> 50</td>\n",
        "      <td> 3476</td>\n",
        "      <td> [\"Henry &amp; Me is a heartwarming tale that shoul...</td>\n",
        "      <td> 100</td>\n",
        "      <td>  67</td>\n",
        "      <td> 50</td>\n",
        "      <td>   0</td>\n",
        "    </tr>\n",
        "    <tr>\n",
        "      <th>115</th>\n",
        "      <td>                             Falcon Rising</td>\n",
        "      <td>  43</td>\n",
        "      <td> 50</td>\n",
        "      <td> 3518</td>\n",
        "      <td> [\"\\\"Falcon Rising\\\" is filled with so many act...</td>\n",
        "      <td> 100</td>\n",
        "      <td>  25</td>\n",
        "      <td> 25</td>\n",
        "      <td> 100</td>\n",
        "    </tr>\n",
        "    <tr>\n",
        "      <th>116</th>\n",
        "      <td>                                      Anna</td>\n",
        "      <td>  29</td>\n",
        "      <td> 40</td>\n",
        "      <td> 3522</td>\n",
        "      <td> [\"Quality is often irrelevant in a horror movi...</td>\n",
        "      <td>  52</td>\n",
        "      <td>  40</td>\n",
        "      <td> 11</td>\n",
        "      <td>  52</td>\n",
        "    </tr>\n",
        "    <tr>\n",
        "      <th>117</th>\n",
        "      <td>                         A Haunted House 2</td>\n",
        "      <td>   8</td>\n",
        "      <td> 49</td>\n",
        "      <td> 3543</td>\n",
        "      <td> [\"Though he's not for all tastes, there's some...</td>\n",
        "      <td>  31</td>\n",
        "      <td>  93</td>\n",
        "      <td> 25</td>\n",
        "      <td>  73</td>\n",
        "    </tr>\n",
        "    <tr>\n",
        "      <th>118</th>\n",
        "      <td>                          The Perfect Wave</td>\n",
        "      <td>  -1</td>\n",
        "      <td> 36</td>\n",
        "      <td> 3601</td>\n",
        "      <td> [\"Unfortunately, it's not enough to resurrect ...</td>\n",
        "      <td>   0</td>\n",
        "      <td>   0</td>\n",
        "      <td>  0</td>\n",
        "      <td>   0</td>\n",
        "    </tr>\n",
        "    <tr>\n",
        "      <th>119</th>\n",
        "      <td>                                  Whiplash</td>\n",
        "      <td>  96</td>\n",
        "      <td> 96</td>\n",
        "      <td> 3654</td>\n",
        "      <td> [\"Primarily two actors and a jazz score, but t...</td>\n",
        "      <td>  86</td>\n",
        "      <td>  79</td>\n",
        "      <td> 51</td>\n",
        "      <td>  45</td>\n",
        "    </tr>\n",
        "    <tr>\n",
        "      <th>120</th>\n",
        "      <td>                                Fort McCoy</td>\n",
        "      <td>  50</td>\n",
        "      <td> 43</td>\n",
        "      <td> 3735</td>\n",
        "      <td> [\"If the film has a major flaw, it's the profu...</td>\n",
        "      <td> 100</td>\n",
        "      <td>  60</td>\n",
        "      <td> 33</td>\n",
        "      <td>  20</td>\n",
        "    </tr>\n",
        "    <tr>\n",
        "      <th>121</th>\n",
        "      <td>                                   Boyhood</td>\n",
        "      <td>  99</td>\n",
        "      <td> 89</td>\n",
        "      <td> 3806</td>\n",
        "      <td> [\"An exceptionally well-crafted coming-of-age ...</td>\n",
        "      <td>  84</td>\n",
        "      <td>  80</td>\n",
        "      <td> 47</td>\n",
        "      <td>  39</td>\n",
        "    </tr>\n",
        "    <tr>\n",
        "      <th>122</th>\n",
        "      <td>                            God\u0092s Not Dead</td>\n",
        "      <td>  17</td>\n",
        "      <td> 81</td>\n",
        "      <td> 3826</td>\n",
        "      <td> [\"Despite the campus setting, little about the...</td>\n",
        "      <td>  75</td>\n",
        "      <td>  50</td>\n",
        "      <td> 25</td>\n",
        "      <td>  50</td>\n",
        "    </tr>\n",
        "    <tr>\n",
        "      <th>123</th>\n",
        "      <td>                                      Pump</td>\n",
        "      <td>  71</td>\n",
        "      <td> 85</td>\n",
        "      <td> 3884</td>\n",
        "      <td> [\"\\\"Pump\\\" is fascinating at times, although t...</td>\n",
        "      <td> 100</td>\n",
        "      <td>  60</td>\n",
        "      <td> 50</td>\n",
        "      <td>  40</td>\n",
        "    </tr>\n",
        "    <tr>\n",
        "      <th>124</th>\n",
        "      <td>                                Housebound</td>\n",
        "      <td>  95</td>\n",
        "      <td> 75</td>\n",
        "      <td> 3983</td>\n",
        "      <td> [\"The mishmash that results is by turns creepy...</td>\n",
        "      <td>  80</td>\n",
        "      <td>  80</td>\n",
        "      <td> 60</td>\n",
        "      <td>  60</td>\n",
        "    </tr>\n",
        "    <tr>\n",
        "      <th>125</th>\n",
        "      <td>                  Los insolitos peces gato</td>\n",
        "      <td> 100</td>\n",
        "      <td> 86</td>\n",
        "      <td> 4000</td>\n",
        "      <td> [\"Writer-director Claudia Sainte-Luce heralds ...</td>\n",
        "      <td> 100</td>\n",
        "      <td> 100</td>\n",
        "      <td> 50</td>\n",
        "      <td>  50</td>\n",
        "    </tr>\n",
        "    <tr>\n",
        "      <th>126</th>\n",
        "      <td>                             Water &amp; Power</td>\n",
        "      <td>  -1</td>\n",
        "      <td> 73</td>\n",
        "      <td> 4167</td>\n",
        "      <td> [\"A quintessential L.A. story that is worth se...</td>\n",
        "      <td>   0</td>\n",
        "      <td>   0</td>\n",
        "      <td>  0</td>\n",
        "      <td>   0</td>\n",
        "    </tr>\n",
        "    <tr>\n",
        "      <th>127</th>\n",
        "      <td>                        As It Is in Heaven</td>\n",
        "      <td>  82</td>\n",
        "      <td> 80</td>\n",
        "      <td> 4220</td>\n",
        "      <td> [\"Never as tense and gripping as it should be,...</td>\n",
        "      <td>  86</td>\n",
        "      <td>  86</td>\n",
        "      <td> 14</td>\n",
        "      <td>  43</td>\n",
        "    </tr>\n",
        "    <tr>\n",
        "      <th>128</th>\n",
        "      <td>                                 Locker 13</td>\n",
        "      <td>  13</td>\n",
        "      <td> 60</td>\n",
        "      <td> 4265</td>\n",
        "      <td> [\"Only those scared of being bored to death ne...</td>\n",
        "      <td> 100</td>\n",
        "      <td>  33</td>\n",
        "      <td> 67</td>\n",
        "      <td>  33</td>\n",
        "    </tr>\n",
        "    <tr>\n",
        "      <th>129</th>\n",
        "      <td>                      All You Need Is Love</td>\n",
        "      <td>  -1</td>\n",
        "      <td>  0</td>\n",
        "      <td> 4266</td>\n",
        "      <td> [\"Those eager young faces and Weaver's informe...</td>\n",
        "      <td> 100</td>\n",
        "      <td>  33</td>\n",
        "      <td> 33</td>\n",
        "      <td>  33</td>\n",
        "    </tr>\n",
        "    <tr>\n",
        "      <th>130</th>\n",
        "      <td>                                      Test</td>\n",
        "      <td>  89</td>\n",
        "      <td> 63</td>\n",
        "      <td> 4285</td>\n",
        "      <td> [\"Here is San Francisco as it was in its bohem...</td>\n",
        "      <td>  71</td>\n",
        "      <td>  86</td>\n",
        "      <td> 50</td>\n",
        "      <td>  29</td>\n",
        "    </tr>\n",
        "    <tr>\n",
        "      <th>131</th>\n",
        "      <td>                              Jesus People</td>\n",
        "      <td>  -1</td>\n",
        "      <td> 67</td>\n",
        "      <td> 4291</td>\n",
        "      <td> [\"The world of Christian pop music gets the \\\"...</td>\n",
        "      <td>   0</td>\n",
        "      <td>   0</td>\n",
        "      <td>  0</td>\n",
        "      <td>   0</td>\n",
        "    </tr>\n",
        "    <tr>\n",
        "      <th>132</th>\n",
        "      <td>                                  The Word</td>\n",
        "      <td>  -1</td>\n",
        "      <td> 25</td>\n",
        "      <td> 4316</td>\n",
        "      <td> [\"\\\"The Word\\\" is never boring, though that ha...</td>\n",
        "      <td>   0</td>\n",
        "      <td>   0</td>\n",
        "      <td>  0</td>\n",
        "      <td>   0</td>\n",
        "    </tr>\n",
        "    <tr>\n",
        "      <th>133</th>\n",
        "      <td>                    Archaeology of a Woman</td>\n",
        "      <td>  60</td>\n",
        "      <td> 71</td>\n",
        "      <td> 4320</td>\n",
        "      <td> [\"Ms. Kirkland - a headstrong veteran performe...</td>\n",
        "      <td>   0</td>\n",
        "      <td>   0</td>\n",
        "      <td>  0</td>\n",
        "      <td>   0</td>\n",
        "    </tr>\n",
        "    <tr>\n",
        "      <th>134</th>\n",
        "      <td>                             Cheap Thrills</td>\n",
        "      <td>  89</td>\n",
        "      <td> 70</td>\n",
        "      <td> 4353</td>\n",
        "      <td> [\"There are satisfying echoes of Stephen King'...</td>\n",
        "      <td>  78</td>\n",
        "      <td>  72</td>\n",
        "      <td> 43</td>\n",
        "      <td>  50</td>\n",
        "    </tr>\n",
        "    <tr>\n",
        "      <th>135</th>\n",
        "      <td>            The Past is a Grotesque Animal</td>\n",
        "      <td>  -1</td>\n",
        "      <td> 78</td>\n",
        "      <td> 4354</td>\n",
        "      <td> [\"How exhilarating, and exhausting, it must be...</td>\n",
        "      <td>   0</td>\n",
        "      <td>   0</td>\n",
        "      <td>  0</td>\n",
        "      <td>   0</td>\n",
        "    </tr>\n",
        "  </tbody>\n",
        "</table>\n",
        "<p>136 rows \u00d7 9 columns</p>\n",
        "</div>"
       ],
       "metadata": {},
       "output_type": "pyout",
       "prompt_number": 28,
       "text": [
        "                                          Name  CriticsScore  AudScore  Rank  \\\n",
        "0    The Hobbit: The Battle of the Five Armies            -1        99    12   \n",
        "1              Transformers: Age of Extinction            18        53    22   \n",
        "2                   X-Men: Days of Future Past            92        92    36   \n",
        "3                     The Amazing Spider-Man 2            53        68    37   \n",
        "4                                   Maleficent            49        72    57   \n",
        "5                             Edge of Tomorrow            90        91    61   \n",
        "6                      Guardians of the Galaxy            90        94    71   \n",
        "7          Captain America: The Winter Soldier            89        92    73   \n",
        "8               Dawn of the Planet of the Apes            91        90    74   \n",
        "9                                   Big Hero 6            89        94    83   \n",
        "10                                Interstellar            73        87    84   \n",
        "11                                    Godzilla            73        68    89   \n",
        "12                  How to Train Your Dragon 2            92        91   127   \n",
        "13                       Mr. Peabody & Sherman            79        74   129   \n",
        "14                                       Rio 2            48        60   163   \n",
        "15                                        Noah            77        43   165   \n",
        "16                Teenage Mutant Ninja Turtles            22        56   180   \n",
        "17                                     RoboCop            48        52   200   \n",
        "18                      300: Rise of an Empire            42        54   224   \n",
        "19                                    Hercules            58        54   271   \n",
        "20                           The Expendables 3            33        50   282   \n",
        "21                               Transcendence            19        38   285   \n",
        "22                                   Divergent            41        71   357   \n",
        "23                                        Fury            78        88   430   \n",
        "24                                     Pompeii            29        36   450   \n",
        "25                           The Monuments Men            31        44   553   \n",
        "26                              Dracula Untold            23        61   558   \n",
        "27                      The Legend of Hercules             3        34   575   \n",
        "28             Legends of Oz: Dorothy\u0092s Return            16        73   578   \n",
        "29                              Need for Speed            22        59   598   \n",
        "..                                         ...           ...       ...   ...   \n",
        "106                              Veronica Mars            78        81  3323   \n",
        "107                                      Ouija             7        30  3390   \n",
        "108       Paranormal Activity: The Marked Ones            38        36  3396   \n",
        "109                                     Oculus            74        53  3398   \n",
        "110                         As Above, So Below            27        43  3407   \n",
        "111                         Kill the Messenger            77        77  3452   \n",
        "112          Atlas Shrugged: Who Is John Galt?             0        54  3457   \n",
        "113                                 Rudderless            64        93  3470   \n",
        "114                                 Henry & Me            -1        50  3476   \n",
        "115                              Falcon Rising            43        50  3518   \n",
        "116                                       Anna            29        40  3522   \n",
        "117                          A Haunted House 2             8        49  3543   \n",
        "118                           The Perfect Wave            -1        36  3601   \n",
        "119                                   Whiplash            96        96  3654   \n",
        "120                                 Fort McCoy            50        43  3735   \n",
        "121                                    Boyhood            99        89  3806   \n",
        "122                             God\u0092s Not Dead            17        81  3826   \n",
        "123                                       Pump            71        85  3884   \n",
        "124                                 Housebound            95        75  3983   \n",
        "125                   Los insolitos peces gato           100        86  4000   \n",
        "126                              Water & Power            -1        73  4167   \n",
        "127                         As It Is in Heaven            82        80  4220   \n",
        "128                                  Locker 13            13        60  4265   \n",
        "129                       All You Need Is Love            -1         0  4266   \n",
        "130                                       Test            89        63  4285   \n",
        "131                               Jesus People            -1        67  4291   \n",
        "132                                   The Word            -1        25  4316   \n",
        "133                     Archaeology of a Woman            60        71  4320   \n",
        "134                              Cheap Thrills            89        70  4353   \n",
        "135             The Past is a Grotesque Animal            -1        78  4354   \n",
        "\n",
        "                                          Reviews_JSON  Sentiment_Score  \\\n",
        "0    [\"It's sad that Hollywood filmmaking is so oft...              100   \n",
        "1    [\"The few authentic inspirations to be found i...               56   \n",
        "2    [\"Much of this takes place in the early 1970s,...               85   \n",
        "3    [\"Despite the efforts of Electro, the franchis...               71   \n",
        "4    [\"As for the screenplay, by Linda Woolverton, ...               81   \n",
        "5    [\"The conceit may sound constricting, but Lima...               77   \n",
        "6    [\"Blessed with a loose, anarchic B-picture sou...               76   \n",
        "7    [\"A movie that is, in the best sense of the wo...               73   \n",
        "8    [\"For dramatic verve and emotional nuance, ape...               76   \n",
        "9    [\"Big Hero 6 offers something for everyone: ac...               82   \n",
        "10   [\"After the first hour, with its poignant depi...               79   \n",
        "11   [\"This is what you get, San Francisco, with al...               75   \n",
        "12   [\"Hats off to Dreamworks for offering some bol...               91   \n",
        "13   [\"Back in his day, Mr. Peabody was a dog whose...               76   \n",
        "14   [\"The movie has one goal: to amuse the most ch...               82   \n",
        "15   [\"In a single sequence, Aronofsky combines cre...               86   \n",
        "16   [\"In one way, Teenage Mutant Ninja Turtles is ...               37   \n",
        "17   [\"Surveying the peculiar array of 1980s retrea...               69   \n",
        "18   [\"The mere existence of 300: Rise of an Empire...               66   \n",
        "19   [\"Everything Guardians of the Galaxy gets righ...               63   \n",
        "20   [\"At this point, the Expendables have formed a...               45   \n",
        "21   [\"The movie is rhythmless, shapeless, and, wit...               61   \n",
        "22   [\"Barely diverting.\", \"It's all pretty dumb, a...               67   \n",
        "23   [\"\\\"Fury\\\" is literally visceral-a kind of war...               82   \n",
        "24   [\"Is it wrong to root for the volcano?\", \"Parm...               63   \n",
        "25   [\"We may have gained something in humor by not...               78   \n",
        "26   [\"[Evans] carries Untold by admirably fulfilli...               85   \n",
        "27   [\"Essentially a Monday Night Raw episode with ...               43   \n",
        "28   [\"Problems abound from the rushed beginning al...               86   \n",
        "29   [\"This is cinema reduced or distilled to its p...               43   \n",
        "..                                                 ...              ...   \n",
        "106  [\"The film is an obvious labor of love for all...               74   \n",
        "107  [\"\\\"Ouija\\\" is hampered by the fact that watch...               62   \n",
        "108  [\"There's no getting past the nonsense formali...               71   \n",
        "109  [\"\\\"Reaches right through you and chills you t...               84   \n",
        "110  [\"Once upon a time, when someone in a horror m...               64   \n",
        "111  [\"Kill the Messenger does a credible if not da...               81   \n",
        "112  [\"Prime Mystery Science Theater 3000 fodder, c...               17   \n",
        "113  [\"Rudderless is humane and almost entertaining...               88   \n",
        "114  [\"Henry & Me is a heartwarming tale that shoul...              100   \n",
        "115  [\"\\\"Falcon Rising\\\" is filled with so many act...              100   \n",
        "116  [\"Quality is often irrelevant in a horror movi...               52   \n",
        "117  [\"Though he's not for all tastes, there's some...               31   \n",
        "118  [\"Unfortunately, it's not enough to resurrect ...                0   \n",
        "119  [\"Primarily two actors and a jazz score, but t...               86   \n",
        "120  [\"If the film has a major flaw, it's the profu...              100   \n",
        "121  [\"An exceptionally well-crafted coming-of-age ...               84   \n",
        "122  [\"Despite the campus setting, little about the...               75   \n",
        "123  [\"\\\"Pump\\\" is fascinating at times, although t...              100   \n",
        "124  [\"The mishmash that results is by turns creepy...               80   \n",
        "125  [\"Writer-director Claudia Sainte-Luce heralds ...              100   \n",
        "126  [\"A quintessential L.A. story that is worth se...                0   \n",
        "127  [\"Never as tense and gripping as it should be,...               86   \n",
        "128  [\"Only those scared of being bored to death ne...              100   \n",
        "129  [\"Those eager young faces and Weaver's informe...              100   \n",
        "130  [\"Here is San Francisco as it was in its bohem...               71   \n",
        "131  [\"The world of Christian pop music gets the \\\"...                0   \n",
        "132  [\"\\\"The Word\\\" is never boring, though that ha...                0   \n",
        "133  [\"Ms. Kirkland - a headstrong veteran performe...                0   \n",
        "134  [\"There are satisfying echoes of Stephen King'...               78   \n",
        "135  [\"How exhilarating, and exhausting, it must be...                0   \n",
        "\n",
        "     Classifier_Rating  Sentiment_Bi_Score  Classifier__Bi_Rating  \n",
        "0                   80                  25                     40  \n",
        "1                   53                  36                     70  \n",
        "2                   68                  47                     36  \n",
        "3                   46                  27                     58  \n",
        "4                   49                  29                     56  \n",
        "5                   68                  38                     36  \n",
        "6                   70                  49                     41  \n",
        "7                   67                  28                     44  \n",
        "8                   66                  32                     32  \n",
        "9                   81                  52                     50  \n",
        "10                  62                  54                     67  \n",
        "11                  68                  43                     54  \n",
        "12                  89                  52                     35  \n",
        "13                  67                  43                     46  \n",
        "14                  44                  28                     48  \n",
        "15                  74                  51                     59  \n",
        "16                  58                  19                     82  \n",
        "17                  57                  38                     52  \n",
        "18                  68                  21                     59  \n",
        "19                  73                  40                     36  \n",
        "20                  53                  38                     66  \n",
        "21                  58                  37                     67  \n",
        "22                  55                  21                     76  \n",
        "23                  72                  52                     48  \n",
        "24                  52                  38                     69  \n",
        "25                  45                  30                     65  \n",
        "26                  29                  31                     71  \n",
        "27                  73                   9                     80  \n",
        "28                  33                  18                     83  \n",
        "29                  62                  39                     62  \n",
        "..                 ...                 ...                    ...  \n",
        "106                 53                  53                     53  \n",
        "107                 59                  31                     65  \n",
        "108                 56                  46                     44  \n",
        "109                 81                   5                     42  \n",
        "110                 45                  22                     91  \n",
        "111                 75                  45                     53  \n",
        "112                 83                   0                    100  \n",
        "113                 62                  53                     38  \n",
        "114                 67                  50                      0  \n",
        "115                 25                  25                    100  \n",
        "116                 40                  11                     52  \n",
        "117                 93                  25                     73  \n",
        "118                  0                   0                      0  \n",
        "119                 79                  51                     45  \n",
        "120                 60                  33                     20  \n",
        "121                 80                  47                     39  \n",
        "122                 50                  25                     50  \n",
        "123                 60                  50                     40  \n",
        "124                 80                  60                     60  \n",
        "125                100                  50                     50  \n",
        "126                  0                   0                      0  \n",
        "127                 86                  14                     43  \n",
        "128                 33                  67                     33  \n",
        "129                 33                  33                     33  \n",
        "130                 86                  50                     29  \n",
        "131                  0                   0                      0  \n",
        "132                  0                   0                      0  \n",
        "133                  0                   0                      0  \n",
        "134                 72                  43                     50  \n",
        "135                  0                   0                      0  \n",
        "\n",
        "[136 rows x 9 columns]"
       ]
      }
     ],
     "prompt_number": 28
    },
    {
     "cell_type": "code",
     "collapsed": false,
     "input": [
      "plt.figure(figsize=(12, 7))\n",
      "plt.scatter(overall_mov.AudScore, overall_mov.Sentiment_Bi_Score)\n",
      "plt.xlabel('Rotten Tomatoes Audience Score')\n",
      "plt.ylabel('Sentiment Bigram Analysis Score')\n",
      "plt.title('Comparsion of RT Audience Score and Bigram Sentiment Analysis')\n",
      "\n",
      "m, b = np.polyfit(overall_mov.AudScore, overall_mov.Sentiment_Bi_Score, 1)\n",
      "x = np.linspace(overall_mov.AudScore.min(), overall_mov.AudScore.max(), 1000)\n",
      "plt.plot(x, m*x +b, 'r-')\n",
      "plt.show()"
     ],
     "language": "python",
     "metadata": {},
     "outputs": [
      {
       "metadata": {},
       "output_type": "display_data",
       "png": "[encoded data removed]",
       "text": [
        "<matplotlib.figure.Figure at 0x123c56490>"
       ]
      }
     ],
     "prompt_number": 29
    },
    {
     "cell_type": "code",
     "collapsed": false,
     "input": [
      "plt.figure(figsize=(12, 7))\n",
      "plt.scatter(overall_mov.CriticsScore, overall_mov.Sentiment_Bi_Score)\n",
      "plt.xlabel('Rotten Tomatoes Critic Score')\n",
      "plt.ylabel('Sentiment Bigram Analysis Score')\n",
      "plt.title('Comparsion of RT Critic Score and Bigram Sentiment Analysis')\n",
      "\n",
      "m, b = np.polyfit(overall_mov.CriticsScore, overall_mov.Sentiment_Bi_Score, 1)\n",
      "x = np.linspace(overall_mov.AudScore.min(), overall_mov.AudScore.max(), 1000)\n",
      "plt.plot(x, m*x +b, 'r-')\n",
      "plt.show()"
     ],
     "language": "python",
     "metadata": {},
     "outputs": [
      {
       "metadata": {},
       "output_type": "display_data",
       "png": "[encoded data removed]",
       "text": [
        "<matplotlib.figure.Figure at 0x11d1df590>"
       ]
      }
     ],
     "prompt_number": 31
    },
    {
     "cell_type": "code",
     "collapsed": false,
     "input": [],
     "language": "python",
     "metadata": {},
     "outputs": []
    }
   ],
   "metadata": {}
  }
 ]
}